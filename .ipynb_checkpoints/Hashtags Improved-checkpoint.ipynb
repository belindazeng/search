{
 "cells": [
  {
   "cell_type": "markdown",
   "metadata": {},
   "source": [
    "## Hashtags Improved\n",
    "\n",
    "### Overview & Feature Justification\n",
    "This project is centered around determining which of our search terms are actually hashtags. Identifying terms as hashtags can help us both reduce cost and improve the Trendalytics experience for our clients. We can: \n",
    "- Reduce the number of things we're searching for that have no search volume since they're hashtags. Reducing the number of unnecessary search terms, or at least reducing the frequency of pulling in search volume for these terms, will help us reduce our costs. \n",
    "- Make hashtags easily searchable (clients can search for hashtags). This seems important since we're now creating specific categories for hashtags such \"Maternity hashtags\". \n",
    "\n",
    "### The 4 approaches\n",
    "There are four ways to approach this:\n",
    "\n",
    "1. Find all hashtags with low search volume and high social buzz. This will help us identify the hashtags that we can reduce our searches on.\n",
    "2. Find all the hashtags with *comparatively* lower search volume than social buzz. We can also normalize the search and social buzz so we don't look at absolute values. From there, we filter ou the brands and the terms with products on the market.\n",
    "3. Find all terms that have no spaces and are not words in any dictionary. Then filter out the brands and terms with products on the market.\n",
    "4. Find all terms that have no spaces and filter out the brands and terms with products on the market.\n",
    "\n",
    "We use the set of \"maternity hashtags\" and \"red carpet hashtags\" to evaluate the % of hashtags we've successfully identified. We'll also manually identify the approach that yields the most effective results."
   ]
  },
  {
   "cell_type": "markdown",
   "metadata": {},
   "source": [
    "### Initial setup"
   ]
  },
  {
   "cell_type": "markdown",
   "metadata": {},
   "source": [
    "The first task is to get a csv with all the search terms from Query Builder. You can do some work in excel or in pandas to get it into the form where there's one column for 'trend' (name of the search term) and 'total_volume' (the total aggregate search volume). \n",
    "\n",
    "The following code is doing just that: importing appropriate libraries, reading in the CSV, deleting unnecessary columns, and sorting by total volume."
   ]
  },
  {
   "cell_type": "code",
   "execution_count": 40,
   "metadata": {
    "collapsed": true
   },
   "outputs": [],
   "source": [
    "# setup\n",
    "%matplotlib inline\n",
    "import numpy as np\n",
    "import scipy as sp\n",
    "import matplotlib as mpl\n",
    "import matplotlib.cm as cm\n",
    "import matplotlib.pyplot as plt\n",
    "import pandas as pd\n",
    "pd.set_option('display.width', 500)\n",
    "pd.set_option('display.max_columns', 100)\n",
    "pd.set_option('display.notebook_repr_html', True)\n",
    "import seaborn as sns\n",
    "sns.set_style(\"whitegrid\")\n",
    "sns.set_context(\"poster\")\n",
    "import time\n",
    "import requests\n",
    "import json\n",
    "import urllib\n",
    "import sklearn"
   ]
  },
  {
   "cell_type": "code",
   "execution_count": 3,
   "metadata": {
    "collapsed": false
   },
   "outputs": [
    {
     "data": {
      "text/html": [
       "<div>\n",
       "<table border=\"1\" class=\"dataframe\">\n",
       "  <thead>\n",
       "    <tr style=\"text-align: right;\">\n",
       "      <th></th>\n",
       "      <th>trend</th>\n",
       "      <th>total_volume</th>\n",
       "    </tr>\n",
       "  </thead>\n",
       "  <tbody>\n",
       "    <tr>\n",
       "      <th>0</th>\n",
       "      <td>duchesse satin gown</td>\n",
       "      <td>0</td>\n",
       "    </tr>\n",
       "    <tr>\n",
       "      <th>1</th>\n",
       "      <td>saksutopia</td>\n",
       "      <td>0</td>\n",
       "    </tr>\n",
       "    <tr>\n",
       "      <th>2</th>\n",
       "      <td>oscars2016</td>\n",
       "      <td>0</td>\n",
       "    </tr>\n",
       "    <tr>\n",
       "      <th>3</th>\n",
       "      <td>studded apparel</td>\n",
       "      <td>90</td>\n",
       "    </tr>\n",
       "    <tr>\n",
       "      <th>4</th>\n",
       "      <td>pompon charm</td>\n",
       "      <td>0</td>\n",
       "    </tr>\n",
       "    <tr>\n",
       "      <th>5</th>\n",
       "      <td>cfdaawards</td>\n",
       "      <td>480</td>\n",
       "    </tr>\n",
       "    <tr>\n",
       "      <th>6</th>\n",
       "      <td>billboardmusicawards</td>\n",
       "      <td>1260</td>\n",
       "    </tr>\n",
       "    <tr>\n",
       "      <th>7</th>\n",
       "      <td>wool crepe jacket</td>\n",
       "      <td>180</td>\n",
       "    </tr>\n",
       "    <tr>\n",
       "      <th>8</th>\n",
       "      <td>foil gown</td>\n",
       "      <td>280</td>\n",
       "    </tr>\n",
       "    <tr>\n",
       "      <th>9</th>\n",
       "      <td>loose cut trousers</td>\n",
       "      <td>100</td>\n",
       "    </tr>\n",
       "  </tbody>\n",
       "</table>\n",
       "</div>"
      ],
      "text/plain": [
       "                  trend  total_volume\n",
       "0   duchesse satin gown             0\n",
       "1            saksutopia             0\n",
       "2            oscars2016             0\n",
       "3       studded apparel            90\n",
       "4          pompon charm             0\n",
       "5            cfdaawards           480\n",
       "6  billboardmusicawards          1260\n",
       "7     wool crepe jacket           180\n",
       "8             foil gown           280\n",
       "9    loose cut trousers           100"
      ]
     },
     "execution_count": 3,
     "metadata": {},
     "output_type": "execute_result"
    }
   ],
   "source": [
    "# read in csv\n",
    "search_df=pd.read_csv(\"search.csv\")\n",
    "\n",
    "#remove irrelevant columns\n",
    "search_df.drop(search_df.columns[[12,13,14,15]], axis=1, inplace=True)\n",
    "search_df.head(10)\n",
    "search_df['total_volume'] = search_df.sum(axis=1)\n",
    "search_df.drop(search_df.columns[[1,2,3,4,5,6,7,8,9,10,11]], axis=1, inplace=True)\n",
    "\n",
    "# display first 10 rows\n",
    "search_df.head(10)"
   ]
  },
  {
   "cell_type": "markdown",
   "metadata": {},
   "source": [
    "Stats are below."
   ]
  },
  {
   "cell_type": "code",
   "execution_count": 4,
   "metadata": {
    "collapsed": false
   },
   "outputs": [
    {
     "data": {
      "text/plain": [
       "count    5.656000e+03\n",
       "mean     1.228152e+06\n",
       "std      6.786063e+06\n",
       "min      0.000000e+00\n",
       "25%      9.605000e+03\n",
       "50%      6.405000e+04\n",
       "75%      3.817000e+05\n",
       "max      2.794000e+08\n",
       "Name: total_volume, dtype: float64"
      ]
     },
     "execution_count": 4,
     "metadata": {},
     "output_type": "execute_result"
    }
   ],
   "source": [
    "# get stats on search volume\n",
    "search_df['total_volume'].describe()"
   ]
  },
  {
   "cell_type": "code",
   "execution_count": 5,
   "metadata": {
    "collapsed": false
   },
   "outputs": [
    {
     "data": {
      "image/png": "[encoded data removed]",
      "text/plain": [
       "<matplotlib.figure.Figure at 0x104bd8e90>"
      ]
     },
     "metadata": {},
     "output_type": "display_data"
    }
   ],
   "source": [
    "# plot what this looks like\n",
    "total_volume=np.array(search_df.total_volume)\n",
    "plt.figure()\n",
    "plt.hist(total_volume, alpha=.8, color='y', bins=500, label=\"total search volume\")\n",
    "plt.xlabel('Search volume')\n",
    "plt.ylabel('Frequency')\n",
    "plt.title('Total Search Volume Distribution')\n",
    "plt.legend()\n",
    "plt.show()"
   ]
  },
  {
   "cell_type": "markdown",
   "metadata": {},
   "source": [
    "Looks like there are a ton of searches with very little volume, and very few searches with a ton of volume. This really really demonstrates the need for identifying unnecessary search terms :)"
   ]
  },
  {
   "cell_type": "markdown",
   "metadata": {},
   "source": [
    "### General Helper Functions"
   ]
  },
  {
   "cell_type": "code",
   "execution_count": 72,
   "metadata": {
    "collapsed": false
   },
   "outputs": [],
   "source": [
    "\"\"\" \n",
    "function create_filtered_df\n",
    "parameters: \n",
    "- original_df: the df we want filtered\n",
    "- filtering: what dimension we're filtering along (total_volume, social_buzz, etc.)\n",
    "- filter_value: what the value we're filtering at is\n",
    "- comparison: if it should be greater than or less than the comparison value\n",
    "returns: a new filtered dataframe\n",
    "\"\"\"\n",
    "def create_filtered_df(original_df, filtering, filter_value, comparison):\n",
    "    new_df = original_df\n",
    "    if comparison == 'less':\n",
    "        return new_df[new_df[filtering] <= filter_value]\n",
    "    else:\n",
    "        return new_df[new_df[filtering] >= filter_value]"
   ]
  },
  {
   "cell_type": "code",
   "execution_count": 22,
   "metadata": {
    "collapsed": false
   },
   "outputs": [],
   "source": [
    "\"\"\" \n",
    "function get_social_buzz\n",
    "parameters: \n",
    "- term: a search term we're getting the social_buzz for\n",
    "returns: total_posts (by adding up the total_count of posts on each platform like Instagram, FB, etc.)\n",
    "\"\"\"\n",
    "def get_social_buzz(term):\n",
    "    \n",
    "    # base API endpoint url\n",
    "    base_url = \"https://api.trendalytics.co/v1/brand/posts/latest?brand=&limit=50&order=desc&period=2016-03-21:2016-04-19&platform=facebook,pinterest,twitter,instagram,tumblr&q=\"\n",
    "    # convert term like 'pink wedding dress' to 'pink+wedding+dress'\n",
    "    encoded_term = urllib.quote_plus(term)\n",
    "    base_end_url = \"&sort=total\"\n",
    "    url = base_url + encoded_term + base_end_url\n",
    "    \n",
    "    # set authorization\n",
    "    headers = {'authorization': 'NGRiZmUzMzktZTg4Ny00MTE4LWIyNzgtZTcwNWQxYjE3NzZmOnZWRDBPLzVDR3FCWllGQUtSZnphWVBDNWJJdz0='}\n",
    "     \n",
    "    # get response\n",
    "    response = requests.get(url, headers=headers)\n",
    "    response_json = json.loads(response.text)\n",
    "    \n",
    "    # get the number of total posts from response json\n",
    "    total_posts = 0\n",
    "    for platform_stats in response_json[\"facets\"][\"platformStatsFacet\"][\"terms\"]:\n",
    "        platform_total_posts = platform_stats[\"total_count\"]\n",
    "        total_posts = total_posts + platform_total_posts\n",
    "\n",
    "    return total_posts"
   ]
  },
  {
   "cell_type": "code",
   "execution_count": 12,
   "metadata": {
    "collapsed": true
   },
   "outputs": [],
   "source": [
    "\"\"\" \n",
    "function get_all_social_buzz\n",
    "parameters: \n",
    "- original_df: the df we want social buzz values for\n",
    "returns: original_df with a \"social_buzz\" column\n",
    "\"\"\"\n",
    "def get_all_social_buzz(original_df):\n",
    "    # get social buzz values\n",
    "    social_buzz = []\n",
    "    for term in original_df[\"trend\"]:\n",
    "        total_posts = get_social_buzz(term)\n",
    "        social_buzz.append(total_posts)\n",
    "    # add the social buzz column\n",
    "    original_df.loc[:,'social_buzz'] = social_buzz\n",
    "    return original_df"
   ]
  },
  {
   "cell_type": "code",
   "execution_count": 33,
   "metadata": {
    "collapsed": true
   },
   "outputs": [],
   "source": [
    "\"\"\" \n",
    "function evaluate_effectiveness\n",
    "parameters: \n",
    "- original_df: the df we want to evaluate effectiveness for\n",
    "returns: nothing\n",
    "\n",
    "\"\"\"\n",
    "def evaluate_effectiveness(original_df):\n",
    "    known_hashtags = ['babybump', 'bump', 'bumpchic', 'fabmom', 'maternity', 'maternityfashion', 'maternitystyle', 'mommytobe',\n",
    "                      'pregnancy', 'pregnancyfashion', 'pregnancyfashion', 'pregnancystyle', 'pregnantfashion', \n",
    "                      'pregnantstyle', '100gala', 'aacta', 'aactas', 'academyawards', 'acmawards', 'alma', 'bafta', 'baftas', \n",
    "                      'bbma', 'bbmas', 'betawards', 'bifaawards', 'billboardmusicawards', 'brits', 'cannes', \n",
    "                      'cannesfilmfestival', 'cfdaawards', 'cma', 'cmaawards', 'cmas', 'cmt', 'cmtawards', 'cmts', \n",
    "                      'criticschoice', 'criticschoiceawards', 'emmyawards', 'emmys', 'goldenglobe', 'goldenglobes', \n",
    "                      'grammys', 'hollywoodawards', 'mtvema', 'mtvmovieawards', 'mtvvma', 'nyfw', 'oscars', 'pcas', \n",
    "                      'peopleschoice', 'peopleschoiceawards', 'sagawards', 'teenchoice', 'teenchoiceawards', 'time100gala', \n",
    "                      'tonyawards', 'tonys', 'tribecafilm', 'vma', 'vmas']\n",
    "    count = 0\n",
    "    missed_hashtags_list = []\n",
    "    for hashtag in known_hashtags:\n",
    "        if hashtag in list(original_df['trend']):\n",
    "            count = count + 1\n",
    "        else:\n",
    "            missed_hashtags_list.append(hashtag)\n",
    "\n",
    "    print \"count: \" + str(count) \n",
    "    total_known_hashtags = len(known_hashtags)\n",
    "    print \"total known hashtags: \" + str(total_known_hashtags)\n",
    "    percentage_found = count / float(total_known_hashtags)\n",
    "    print percentage_found"
   ]
  },
  {
   "cell_type": "code",
   "execution_count": 48,
   "metadata": {
    "collapsed": true
   },
   "outputs": [],
   "source": [
    "\"\"\" \n",
    "function normalize\n",
    "parameters: \n",
    "- array: an array we want to normalize\n",
    "returns: the normalized array\n",
    "\n",
    "\"\"\"\n",
    "def normalize(array):\n",
    "    norm=np.linalg.norm(array)\n",
    "    if norm==0: \n",
    "       return array\n",
    "    return array/norm"
   ]
  },
  {
   "cell_type": "code",
   "execution_count": 59,
   "metadata": {
    "collapsed": true
   },
   "outputs": [],
   "source": [
    "\"\"\" \n",
    "function get_retail_distribution\n",
    "parameters: \n",
    "- term: a search term we're getting the retail_distribution for\n",
    "returns: total_products on the market (based on the shopstyle api)\n",
    "\"\"\"\n",
    "def get_retail_distribution(term):\n",
    "    \n",
    "    # base API endpoint url\n",
    "    base_url = 'http://api.shopstyle.com/api/v2/products?filters=Category%2CBrand%2CRetailer%2CPrice%2CDiscount%2CSize%2CColor%2CDeal&fts='\n",
    "    # convert term like 'pink wedding dress' to 'pink+wedding+dress'\n",
    "    encoded_term = urllib.quote_plus(term)\n",
    "    base_end_url = '&pid=shopstyle'\n",
    "    url = base_url + encoded_term + base_end_url\n",
    "    \n",
    "    # get response\n",
    "    response = requests.get(url)\n",
    "    response_json = json.loads(response.text)\n",
    "    \n",
    "    # get # total products\n",
    "    total_products = response_json['metadata']['total']\n",
    "\n",
    "    return total_products"
   ]
  },
  {
   "cell_type": "code",
   "execution_count": 69,
   "metadata": {
    "collapsed": true
   },
   "outputs": [],
   "source": [
    "\"\"\" \n",
    "function get_all_retail_distribution\n",
    "parameters: \n",
    "- original_df: the df we want retail_distribution values for\n",
    "returns: original_df with a \"retail_distribution\" column\n",
    "\"\"\"\n",
    "def get_all_retail_distribution(original_df):\n",
    "    # get all retail distribution values\n",
    "    retail_distribution = []\n",
    "    for term in original_df[\"trend\"]:\n",
    "        total_products = get_retail_distribution(term)\n",
    "        retail_distribution.append(total_products)\n",
    "    print len(retail_distribution)\n",
    "    print original_df.count()\n",
    "    # add new column\n",
    "    original_df[\"retail_distribution\"] = retail_distribution\n",
    "    return original_df"
   ]
  },
  {
   "cell_type": "code",
   "execution_count": 84,
   "metadata": {
    "collapsed": true
   },
   "outputs": [],
   "source": [
    "\"\"\" \n",
    "function is_brand\n",
    "parameters: \n",
    "- original_df: check to see if the term is a brand or not\n",
    "returns: boolean of whether it is a brand or not\n",
    "\"\"\"\n",
    "brand_df=pd.read_csv(\"brands.csv\")\n",
    "brand_df.head(10)\n",
    "brand_list = list(brand_df['code'])\n",
    "\n",
    "def is_brand(trend):\n",
    "    if trend in brand_list:\n",
    "        return True\n",
    "    return False"
   ]
  },
  {
   "cell_type": "code",
   "execution_count": 89,
   "metadata": {
    "collapsed": true
   },
   "outputs": [],
   "source": [
    "\"\"\" \n",
    "function get_all_brands\n",
    "parameters: \n",
    "- original_df: the df we want brand values for\n",
    "returns: original_df with a \"brand\" column\n",
    "\"\"\"\n",
    "def get_all_brands(original_df):\n",
    "    # get all retail distribution values\n",
    "    original_df['brand'] = original_df['trend'].apply(lambda trend: is_brand(trend))\n",
    "    return original_df"
   ]
  },
  {
   "cell_type": "markdown",
   "metadata": {},
   "source": [
    "### Approach 1: Finding low search high social terms\n",
    "\n",
    "Approach one is visualize in the following diagram. \n",
    "\n",
    "<img src=\"approach1.png\" width=\"500\">"
   ]
  },
  {
   "cell_type": "markdown",
   "metadata": {},
   "source": [
    "#### Approach 1 ~ Step 1: Find low search volume terms\n",
    "Find all terms with low search volume. We create a new data frame called \"low_search_df\" that has all the terms that have search volume in the bottom fifth percentile. "
   ]
  },
  {
   "cell_type": "code",
   "execution_count": 20,
   "metadata": {
    "collapsed": false
   },
   "outputs": [
    {
     "name": "stdout",
     "output_type": "stream",
     "text": [
      "low search value:367.5\n"
     ]
    },
    {
     "data": {
      "text/html": [
       "<div>\n",
       "<table border=\"1\" class=\"dataframe\">\n",
       "  <thead>\n",
       "    <tr style=\"text-align: right;\">\n",
       "      <th></th>\n",
       "      <th>trend</th>\n",
       "      <th>total_volume</th>\n",
       "    </tr>\n",
       "  </thead>\n",
       "  <tbody>\n",
       "    <tr>\n",
       "      <th>0</th>\n",
       "      <td>duchesse satin gown</td>\n",
       "      <td>0</td>\n",
       "    </tr>\n",
       "    <tr>\n",
       "      <th>1</th>\n",
       "      <td>saksutopia</td>\n",
       "      <td>0</td>\n",
       "    </tr>\n",
       "    <tr>\n",
       "      <th>2</th>\n",
       "      <td>oscars2016</td>\n",
       "      <td>0</td>\n",
       "    </tr>\n",
       "    <tr>\n",
       "      <th>3</th>\n",
       "      <td>studded apparel</td>\n",
       "      <td>90</td>\n",
       "    </tr>\n",
       "    <tr>\n",
       "      <th>4</th>\n",
       "      <td>pompon charm</td>\n",
       "      <td>0</td>\n",
       "    </tr>\n",
       "  </tbody>\n",
       "</table>\n",
       "</div>"
      ],
      "text/plain": [
       "                 trend  total_volume\n",
       "0  duchesse satin gown             0\n",
       "1           saksutopia             0\n",
       "2           oscars2016             0\n",
       "3      studded apparel            90\n",
       "4         pompon charm             0"
      ]
     },
     "execution_count": 20,
     "metadata": {},
     "output_type": "execute_result"
    }
   ],
   "source": [
    "# get the bottom 5 percentile in terms of search volume\n",
    "low_search_value = search_df.total_volume.quantile(0.05)\n",
    "print \"low search value:\" + str(low_search_value)\n",
    "\n",
    "# create new df with low searches\n",
    "low_search_df = create_filtered_df(search_df, 'total_volume', low_search_value, 'less')\n",
    "\n",
    "low_search_df.head(5)"
   ]
  },
  {
   "cell_type": "markdown",
   "metadata": {},
   "source": [
    "#### Approach 1 ~ Step 2: Find terms with high social buzz"
   ]
  },
  {
   "cell_type": "markdown",
   "metadata": {},
   "source": [
    "Get the social buzz for these terms with low search volume."
   ]
  },
  {
   "cell_type": "code",
   "execution_count": 23,
   "metadata": {
    "collapsed": false
   },
   "outputs": [
    {
     "data": {
      "text/html": [
       "<div>\n",
       "<table border=\"1\" class=\"dataframe\">\n",
       "  <thead>\n",
       "    <tr style=\"text-align: right;\">\n",
       "      <th></th>\n",
       "      <th>trend</th>\n",
       "      <th>total_volume</th>\n",
       "      <th>social_buzz</th>\n",
       "    </tr>\n",
       "  </thead>\n",
       "  <tbody>\n",
       "    <tr>\n",
       "      <th>0</th>\n",
       "      <td>duchesse satin gown</td>\n",
       "      <td>0</td>\n",
       "      <td>2</td>\n",
       "    </tr>\n",
       "    <tr>\n",
       "      <th>1</th>\n",
       "      <td>saksutopia</td>\n",
       "      <td>0</td>\n",
       "      <td>0</td>\n",
       "    </tr>\n",
       "    <tr>\n",
       "      <th>2</th>\n",
       "      <td>oscars2016</td>\n",
       "      <td>0</td>\n",
       "      <td>9</td>\n",
       "    </tr>\n",
       "    <tr>\n",
       "      <th>3</th>\n",
       "      <td>studded apparel</td>\n",
       "      <td>90</td>\n",
       "      <td>0</td>\n",
       "    </tr>\n",
       "    <tr>\n",
       "      <th>4</th>\n",
       "      <td>pompon charm</td>\n",
       "      <td>0</td>\n",
       "      <td>0</td>\n",
       "    </tr>\n",
       "  </tbody>\n",
       "</table>\n",
       "</div>"
      ],
      "text/plain": [
       "                 trend  total_volume  social_buzz\n",
       "0  duchesse satin gown             0            2\n",
       "1           saksutopia             0            0\n",
       "2           oscars2016             0            9\n",
       "3      studded apparel            90            0\n",
       "4         pompon charm             0            0"
      ]
     },
     "execution_count": 23,
     "metadata": {},
     "output_type": "execute_result"
    }
   ],
   "source": [
    "get_all_social_buzz(low_search_df)\n",
    "low_search_df.head(5)"
   ]
  },
  {
   "cell_type": "markdown",
   "metadata": {},
   "source": [
    "Interestingly enough, looks like the majority of these with no search volume actually don't have any social media buzz either. "
   ]
  },
  {
   "cell_type": "code",
   "execution_count": 24,
   "metadata": {
    "collapsed": false
   },
   "outputs": [
    {
     "data": {
      "text/plain": [
       "count    283.000000\n",
       "mean      11.275618\n",
       "std       70.560786\n",
       "min        0.000000\n",
       "25%        0.000000\n",
       "50%        0.000000\n",
       "75%        0.000000\n",
       "max      957.000000\n",
       "Name: social_buzz, dtype: float64"
      ]
     },
     "execution_count": 24,
     "metadata": {},
     "output_type": "execute_result"
    }
   ],
   "source": [
    "low_search_df[\"social_buzz\"].describe()"
   ]
  },
  {
   "cell_type": "markdown",
   "metadata": {},
   "source": [
    "It looks like 81% of our terms with low search volume also have low hashtags. Our job is to see how many of the other 19% might be hashtags."
   ]
  },
  {
   "cell_type": "code",
   "execution_count": 25,
   "metadata": {
    "collapsed": false
   },
   "outputs": [
    {
     "data": {
      "image/png": "[encoded data removed]",
      "text/plain": [
       "<matplotlib.figure.Figure at 0x109ef9650>"
      ]
     },
     "metadata": {},
     "output_type": "display_data"
    }
   ],
   "source": [
    "# plot what this looks like\n",
    "total_social=np.array(low_search_df.social_buzz)\n",
    "plt.figure()\n",
    "plt.hist(total_social, alpha=.8, color='g', bins=20, label=\"total social posts\")\n",
    "plt.xlabel('# social posts')\n",
    "plt.ylabel('Frequency')\n",
    "plt.title('Total Social Buzz Distribution')\n",
    "plt.legend()\n",
    "plt.show()"
   ]
  },
  {
   "cell_type": "code",
   "execution_count": 29,
   "metadata": {
    "collapsed": false
   },
   "outputs": [
    {
     "name": "stdout",
     "output_type": "stream",
     "text": [
      "high social value:22.64\n"
     ]
    },
    {
     "data": {
      "text/html": [
       "<div>\n",
       "<table border=\"1\" class=\"dataframe\">\n",
       "  <thead>\n",
       "    <tr style=\"text-align: right;\">\n",
       "      <th></th>\n",
       "      <th>trend</th>\n",
       "      <th>total_volume</th>\n",
       "      <th>social_buzz</th>\n",
       "    </tr>\n",
       "  </thead>\n",
       "  <tbody>\n",
       "    <tr>\n",
       "      <th>27</th>\n",
       "      <td>pregnancyfashion</td>\n",
       "      <td>120</td>\n",
       "      <td>233</td>\n",
       "    </tr>\n",
       "    <tr>\n",
       "      <th>31</th>\n",
       "      <td>maternitystyle</td>\n",
       "      <td>230</td>\n",
       "      <td>389</td>\n",
       "    </tr>\n",
       "    <tr>\n",
       "      <th>35</th>\n",
       "      <td>maternityfashion</td>\n",
       "      <td>190</td>\n",
       "      <td>283</td>\n",
       "    </tr>\n",
       "    <tr>\n",
       "      <th>36</th>\n",
       "      <td>microdermobrasian</td>\n",
       "      <td>120</td>\n",
       "      <td>32</td>\n",
       "    </tr>\n",
       "    <tr>\n",
       "      <th>76</th>\n",
       "      <td>eye shawdow palette</td>\n",
       "      <td>190</td>\n",
       "      <td>76</td>\n",
       "    </tr>\n",
       "  </tbody>\n",
       "</table>\n",
       "</div>"
      ],
      "text/plain": [
       "                  trend  total_volume  social_buzz\n",
       "27     pregnancyfashion           120          233\n",
       "31       maternitystyle           230          389\n",
       "35     maternityfashion           190          283\n",
       "36    microdermobrasian           120           32\n",
       "76  eye shawdow palette           190           76"
      ]
     },
     "execution_count": 29,
     "metadata": {},
     "output_type": "execute_result"
    }
   ],
   "source": [
    "# get the bottom 5 percentile in terms of social volume\n",
    "high_social_value = low_search_df.social_buzz.quantile(0.96)\n",
    "print \"high social value:\" + str(high_social_value)\n",
    "# create new df with high social\n",
    "high_social_df = create_filtered_df(low_search_df, 'social_buzz', high_social_value, 'greater')\n",
    "high_social_df.head(5)"
   ]
  },
  {
   "cell_type": "markdown",
   "metadata": {},
   "source": [
    "Looks like there are 12 likely hashtags that have low search and high volume."
   ]
  },
  {
   "cell_type": "code",
   "execution_count": 30,
   "metadata": {
    "collapsed": false
   },
   "outputs": [
    {
     "data": {
      "text/html": [
       "<div>\n",
       "<table border=\"1\" class=\"dataframe\">\n",
       "  <thead>\n",
       "    <tr style=\"text-align: right;\">\n",
       "      <th></th>\n",
       "      <th>trend</th>\n",
       "      <th>total_volume</th>\n",
       "      <th>social_buzz</th>\n",
       "    </tr>\n",
       "  </thead>\n",
       "  <tbody>\n",
       "    <tr>\n",
       "      <th>27</th>\n",
       "      <td>pregnancyfashion</td>\n",
       "      <td>120</td>\n",
       "      <td>233</td>\n",
       "    </tr>\n",
       "    <tr>\n",
       "      <th>31</th>\n",
       "      <td>maternitystyle</td>\n",
       "      <td>230</td>\n",
       "      <td>389</td>\n",
       "    </tr>\n",
       "    <tr>\n",
       "      <th>35</th>\n",
       "      <td>maternityfashion</td>\n",
       "      <td>190</td>\n",
       "      <td>283</td>\n",
       "    </tr>\n",
       "    <tr>\n",
       "      <th>36</th>\n",
       "      <td>microdermobrasian</td>\n",
       "      <td>120</td>\n",
       "      <td>32</td>\n",
       "    </tr>\n",
       "    <tr>\n",
       "      <th>76</th>\n",
       "      <td>eye shawdow palette</td>\n",
       "      <td>190</td>\n",
       "      <td>76</td>\n",
       "    </tr>\n",
       "    <tr>\n",
       "      <th>5277</th>\n",
       "      <td>nordstromvan</td>\n",
       "      <td>0</td>\n",
       "      <td>26</td>\n",
       "    </tr>\n",
       "    <tr>\n",
       "      <th>5309</th>\n",
       "      <td>pregnancystyle</td>\n",
       "      <td>0</td>\n",
       "      <td>244</td>\n",
       "    </tr>\n",
       "    <tr>\n",
       "      <th>5338</th>\n",
       "      <td>pregnantfashion</td>\n",
       "      <td>0</td>\n",
       "      <td>233</td>\n",
       "    </tr>\n",
       "    <tr>\n",
       "      <th>5353</th>\n",
       "      <td>bridalfashionweek</td>\n",
       "      <td>150</td>\n",
       "      <td>957</td>\n",
       "    </tr>\n",
       "    <tr>\n",
       "      <th>5367</th>\n",
       "      <td>londonfashionwk</td>\n",
       "      <td>0</td>\n",
       "      <td>79</td>\n",
       "    </tr>\n",
       "    <tr>\n",
       "      <th>5471</th>\n",
       "      <td>bumpchic</td>\n",
       "      <td>0</td>\n",
       "      <td>224</td>\n",
       "    </tr>\n",
       "    <tr>\n",
       "      <th>5540</th>\n",
       "      <td>pregnantstyle</td>\n",
       "      <td>0</td>\n",
       "      <td>244</td>\n",
       "    </tr>\n",
       "  </tbody>\n",
       "</table>\n",
       "</div>"
      ],
      "text/plain": [
       "                    trend  total_volume  social_buzz\n",
       "27       pregnancyfashion           120          233\n",
       "31         maternitystyle           230          389\n",
       "35       maternityfashion           190          283\n",
       "36      microdermobrasian           120           32\n",
       "76    eye shawdow palette           190           76\n",
       "5277         nordstromvan             0           26\n",
       "5309       pregnancystyle             0          244\n",
       "5338      pregnantfashion             0          233\n",
       "5353    bridalfashionweek           150          957\n",
       "5367      londonfashionwk             0           79\n",
       "5471             bumpchic             0          224\n",
       "5540        pregnantstyle             0          244"
      ]
     },
     "execution_count": 30,
     "metadata": {},
     "output_type": "execute_result"
    }
   ],
   "source": [
    "high_social_df"
   ]
  },
  {
   "cell_type": "markdown",
   "metadata": {},
   "source": [
    "What's neat here is that if we then filter by the posts with more search volume than social buzz, we'll actually discover two typos!"
   ]
  },
  {
   "cell_type": "code",
   "execution_count": 31,
   "metadata": {
    "collapsed": false
   },
   "outputs": [
    {
     "data": {
      "text/html": [
       "<div>\n",
       "<table border=\"1\" class=\"dataframe\">\n",
       "  <thead>\n",
       "    <tr style=\"text-align: right;\">\n",
       "      <th></th>\n",
       "      <th>trend</th>\n",
       "      <th>total_volume</th>\n",
       "      <th>social_buzz</th>\n",
       "    </tr>\n",
       "  </thead>\n",
       "  <tbody>\n",
       "    <tr>\n",
       "      <th>36</th>\n",
       "      <td>microdermobrasian</td>\n",
       "      <td>120</td>\n",
       "      <td>32</td>\n",
       "    </tr>\n",
       "    <tr>\n",
       "      <th>76</th>\n",
       "      <td>eye shawdow palette</td>\n",
       "      <td>190</td>\n",
       "      <td>76</td>\n",
       "    </tr>\n",
       "  </tbody>\n",
       "</table>\n",
       "</div>"
      ],
      "text/plain": [
       "                  trend  total_volume  social_buzz\n",
       "36    microdermobrasian           120           32\n",
       "76  eye shawdow palette           190           76"
      ]
     },
     "execution_count": 31,
     "metadata": {},
     "output_type": "execute_result"
    }
   ],
   "source": [
    "more_search_than_social_df = high_social_df[high_social_df['total_volume'] >= high_social_df['social_buzz']]\n",
    "more_search_than_social_df"
   ]
  },
  {
   "cell_type": "markdown",
   "metadata": {},
   "source": [
    "The rest, with less search than social, are the hashtags."
   ]
  },
  {
   "cell_type": "code",
   "execution_count": 32,
   "metadata": {
    "collapsed": false
   },
   "outputs": [
    {
     "data": {
      "text/html": [
       "<div>\n",
       "<table border=\"1\" class=\"dataframe\">\n",
       "  <thead>\n",
       "    <tr style=\"text-align: right;\">\n",
       "      <th></th>\n",
       "      <th>trend</th>\n",
       "      <th>total_volume</th>\n",
       "      <th>social_buzz</th>\n",
       "    </tr>\n",
       "  </thead>\n",
       "  <tbody>\n",
       "    <tr>\n",
       "      <th>27</th>\n",
       "      <td>pregnancyfashion</td>\n",
       "      <td>120</td>\n",
       "      <td>233</td>\n",
       "    </tr>\n",
       "    <tr>\n",
       "      <th>31</th>\n",
       "      <td>maternitystyle</td>\n",
       "      <td>230</td>\n",
       "      <td>389</td>\n",
       "    </tr>\n",
       "    <tr>\n",
       "      <th>35</th>\n",
       "      <td>maternityfashion</td>\n",
       "      <td>190</td>\n",
       "      <td>283</td>\n",
       "    </tr>\n",
       "    <tr>\n",
       "      <th>5277</th>\n",
       "      <td>nordstromvan</td>\n",
       "      <td>0</td>\n",
       "      <td>26</td>\n",
       "    </tr>\n",
       "    <tr>\n",
       "      <th>5309</th>\n",
       "      <td>pregnancystyle</td>\n",
       "      <td>0</td>\n",
       "      <td>244</td>\n",
       "    </tr>\n",
       "  </tbody>\n",
       "</table>\n",
       "</div>"
      ],
      "text/plain": [
       "                 trend  total_volume  social_buzz\n",
       "27    pregnancyfashion           120          233\n",
       "31      maternitystyle           230          389\n",
       "35    maternityfashion           190          283\n",
       "5277      nordstromvan             0           26\n",
       "5309    pregnancystyle             0          244"
      ]
     },
     "execution_count": 32,
     "metadata": {},
     "output_type": "execute_result"
    }
   ],
   "source": [
    "less_search_than_social_df = high_social_df[high_social_df['total_volume'] < high_social_df['social_buzz']]\n",
    "less_search_than_social_df.head(5)"
   ]
  },
  {
   "cell_type": "code",
   "execution_count": 44,
   "metadata": {
    "collapsed": false
   },
   "outputs": [],
   "source": [
    "# save work and export to csv\n",
    "less_search_than_social_df.to_csv('approach1/hashtags.csv')\n",
    "more_search_than_social_df.to_csv('approach1/typos.csv')"
   ]
  },
  {
   "cell_type": "markdown",
   "metadata": {},
   "source": [
    "#### Approach 1 ~ Step 3: Evaluating Effectiveness"
   ]
  },
  {
   "cell_type": "markdown",
   "metadata": {},
   "source": [
    "Here we evaluate the effectiveness by seeing how many hashtags we've found against the total number of hashtags"
   ]
  },
  {
   "cell_type": "code",
   "execution_count": 34,
   "metadata": {
    "collapsed": false
   },
   "outputs": [
    {
     "name": "stdout",
     "output_type": "stream",
     "text": [
      "count: 8\n",
      "total known hashtags: 62\n",
      "0.129032258065\n"
     ]
    }
   ],
   "source": [
    "evaluate_effectiveness(less_search_than_social_df)"
   ]
  },
  {
   "cell_type": "markdown",
   "metadata": {},
   "source": [
    "Overall, it looks like this only 12% effective at identifying hashtags! \n",
    "\n",
    "#### Approach 1 Summary\n",
    "\n",
    "In all, we've successfully identified about 10 hashtags, with no false positives. We've also identified two typos, but in general, this doesn't seem like a super effective approach. So moving onto approach #2. "
   ]
  },
  {
   "cell_type": "markdown",
   "metadata": {},
   "source": [
    "### Approach 2: Finding hashtags with comparatively lower search volume than social buzz\n",
    "\n",
    "Looks like simply comparing social buzz to total volume was actually super effective at identifying hashtags. Let's do that at the get go to start off with."
   ]
  },
  {
   "cell_type": "markdown",
   "metadata": {},
   "source": [
    "#### Approach 2 ~ Step 1: Get social buzz for all search terms"
   ]
  },
  {
   "cell_type": "markdown",
   "metadata": {},
   "source": [
    "The following code takes forever to run, so save it to csv asap."
   ]
  },
  {
   "cell_type": "code",
   "execution_count": 35,
   "metadata": {
    "collapsed": false
   },
   "outputs": [
    {
     "data": {
      "text/html": [
       "<div>\n",
       "<table border=\"1\" class=\"dataframe\">\n",
       "  <thead>\n",
       "    <tr style=\"text-align: right;\">\n",
       "      <th></th>\n",
       "      <th>trend</th>\n",
       "      <th>total_volume</th>\n",
       "      <th>social_buzz</th>\n",
       "    </tr>\n",
       "  </thead>\n",
       "  <tbody>\n",
       "    <tr>\n",
       "      <th>0</th>\n",
       "      <td>duchesse satin gown</td>\n",
       "      <td>0</td>\n",
       "      <td>2</td>\n",
       "    </tr>\n",
       "    <tr>\n",
       "      <th>1</th>\n",
       "      <td>saksutopia</td>\n",
       "      <td>0</td>\n",
       "      <td>0</td>\n",
       "    </tr>\n",
       "    <tr>\n",
       "      <th>2</th>\n",
       "      <td>oscars2016</td>\n",
       "      <td>0</td>\n",
       "      <td>9</td>\n",
       "    </tr>\n",
       "    <tr>\n",
       "      <th>3</th>\n",
       "      <td>studded apparel</td>\n",
       "      <td>90</td>\n",
       "      <td>0</td>\n",
       "    </tr>\n",
       "    <tr>\n",
       "      <th>4</th>\n",
       "      <td>pompon charm</td>\n",
       "      <td>0</td>\n",
       "      <td>0</td>\n",
       "    </tr>\n",
       "  </tbody>\n",
       "</table>\n",
       "</div>"
      ],
      "text/plain": [
       "                 trend  total_volume  social_buzz\n",
       "0  duchesse satin gown             0            2\n",
       "1           saksutopia             0            0\n",
       "2           oscars2016             0            9\n",
       "3      studded apparel            90            0\n",
       "4         pompon charm             0            0"
      ]
     },
     "execution_count": 35,
     "metadata": {},
     "output_type": "execute_result"
    }
   ],
   "source": [
    "get_all_social_buzz(search_df)\n",
    "search_df.head(5)"
   ]
  },
  {
   "cell_type": "code",
   "execution_count": 36,
   "metadata": {
    "collapsed": true
   },
   "outputs": [],
   "source": [
    "search_df.to_csv('approach2/searchandsocial.csv')"
   ]
  },
  {
   "cell_type": "markdown",
   "metadata": {},
   "source": [
    "Let's graph how this looks"
   ]
  },
  {
   "cell_type": "code",
   "execution_count": 37,
   "metadata": {
    "collapsed": false
   },
   "outputs": [
    {
     "data": {
      "image/png": "[encoded data removed]",
      "text/plain": [
       "<matplotlib.figure.Figure at 0x10a464b90>"
      ]
     },
     "metadata": {},
     "output_type": "display_data"
    }
   ],
   "source": [
    "plt.figure()\n",
    "plt.hist(search_df.total_volume, alpha=.8, label=\"Search volume\")\n",
    "plt.hist(search_df.social_buzz, alpha=.8, label=\"Social buzz volume\")\n",
    "plt.legend()\n",
    "plt.xlabel('Frequency')\n",
    "plt.ylabel('Count')\n",
    "plt.title('Search volume and Social Buzz')\n",
    "plt.show()"
   ]
  },
  {
   "cell_type": "markdown",
   "metadata": {},
   "source": [
    "As we can see, there's just so much more search volume than social buzz that we can't even see social buzz! This is our cue to normalize."
   ]
  },
  {
   "cell_type": "markdown",
   "metadata": {},
   "source": [
    "#### Approach 2 ~ Step 2: Normalize Search Volume and Social Buzz"
   ]
  },
  {
   "cell_type": "code",
   "execution_count": 49,
   "metadata": {
    "collapsed": false
   },
   "outputs": [],
   "source": [
    "search_df['normalized_volume'] = normalize(search_df['total_volume'])\n",
    "search_df['normalized_buzz'] = normalize(search_df['social_buzz'])"
   ]
  },
  {
   "cell_type": "markdown",
   "metadata": {},
   "source": [
    "Let's graph how the normalized values look."
   ]
  },
  {
   "cell_type": "code",
   "execution_count": 52,
   "metadata": {
    "collapsed": false
   },
   "outputs": [
    {
     "data": {
      "image/png": "[encoded data removed]",
      "text/plain": [
       "<matplotlib.figure.Figure at 0x10a4c2a50>"
      ]
     },
     "metadata": {},
     "output_type": "display_data"
    }
   ],
   "source": [
    "plt.figure()\n",
    "plt.hist(search_df.normalized_volume, alpha=.8, label=\"Search volume\")\n",
    "plt.hist(search_df.normalized_buzz, alpha=.8, label=\"Social buzz volume\")\n",
    "plt.legend()\n",
    "plt.xlabel('Frequency')\n",
    "plt.ylabel('Count')\n",
    "plt.title('Normalized Search volume and Social Buzz')\n",
    "plt.show()"
   ]
  },
  {
   "cell_type": "markdown",
   "metadata": {},
   "source": [
    "#### Step 3: Comparing which terms have more social buzz than search volume "
   ]
  },
  {
   "cell_type": "code",
   "execution_count": 58,
   "metadata": {
    "collapsed": false
   },
   "outputs": [
    {
     "name": "stdout",
     "output_type": "stream",
     "text": [
      "# of terms with more social than search: 1458\n"
     ]
    },
    {
     "data": {
      "text/plain": [
       "count     1458.000000\n",
       "mean      1051.842250\n",
       "std       4835.487939\n",
       "min          0.000000\n",
       "25%          5.000000\n",
       "50%         23.000000\n",
       "75%        148.500000\n",
       "max      65373.000000\n",
       "Name: social_buzz, dtype: float64"
      ]
     },
     "execution_count": 58,
     "metadata": {},
     "output_type": "execute_result"
    }
   ],
   "source": [
    "# also create a new df with only the terms with more social buzz than search volume\n",
    "more_social_df = search_df[search_df['normalized_buzz'] >= search_df['normalized_volume']]\n",
    "print \"# of terms with more social than search: \" + str(len(more_social_df))\n",
    "more_social_df['social_buzz'].describe()"
   ]
  },
  {
   "cell_type": "markdown",
   "metadata": {},
   "source": [
    "#### Approach 2 ~ Step 4: Filter out all products with retail distribution\n",
    "We want to filter out any terms with products on the market since we know for a fact that hashtags won't have associated products."
   ]
  },
  {
   "cell_type": "code",
   "execution_count": 71,
   "metadata": {
    "collapsed": false
   },
   "outputs": [
    {
     "name": "stdout",
     "output_type": "stream",
     "text": [
      "1458\n",
      "trend                1458\n",
      "total_volume         1458\n",
      "social_buzz          1458\n",
      "normalized_volume    1458\n",
      "normalized_buzz      1458\n",
      "dtype: int64\n"
     ]
    },
    {
     "name": "stderr",
     "output_type": "stream",
     "text": [
      "/Users/eden/anaconda/lib/python2.7/site-packages/ipykernel/__main__.py:16: SettingWithCopyWarning: \n",
      "A value is trying to be set on a copy of a slice from a DataFrame.\n",
      "Try using .loc[row_indexer,col_indexer] = value instead\n",
      "\n",
      "See the the caveats in the documentation: http://pandas.pydata.org/pandas-docs/stable/indexing.html#indexing-view-versus-copy\n"
     ]
    },
    {
     "data": {
      "text/html": [
       "<div>\n",
       "<table border=\"1\" class=\"dataframe\">\n",
       "  <thead>\n",
       "    <tr style=\"text-align: right;\">\n",
       "      <th></th>\n",
       "      <th>trend</th>\n",
       "      <th>total_volume</th>\n",
       "      <th>social_buzz</th>\n",
       "      <th>normalized_volume</th>\n",
       "      <th>normalized_buzz</th>\n",
       "      <th>retail_distribution</th>\n",
       "    </tr>\n",
       "  </thead>\n",
       "  <tbody>\n",
       "    <tr>\n",
       "      <th>0</th>\n",
       "      <td>duchesse satin gown</td>\n",
       "      <td>0</td>\n",
       "      <td>2</td>\n",
       "      <td>0.000000e+00</td>\n",
       "      <td>0.000010</td>\n",
       "      <td>24</td>\n",
       "    </tr>\n",
       "    <tr>\n",
       "      <th>1</th>\n",
       "      <td>saksutopia</td>\n",
       "      <td>0</td>\n",
       "      <td>0</td>\n",
       "      <td>0.000000e+00</td>\n",
       "      <td>0.000000</td>\n",
       "      <td>0</td>\n",
       "    </tr>\n",
       "    <tr>\n",
       "      <th>2</th>\n",
       "      <td>oscars2016</td>\n",
       "      <td>0</td>\n",
       "      <td>9</td>\n",
       "      <td>0.000000e+00</td>\n",
       "      <td>0.000047</td>\n",
       "      <td>0</td>\n",
       "    </tr>\n",
       "    <tr>\n",
       "      <th>4</th>\n",
       "      <td>pompon charm</td>\n",
       "      <td>0</td>\n",
       "      <td>0</td>\n",
       "      <td>0.000000e+00</td>\n",
       "      <td>0.000000</td>\n",
       "      <td>5</td>\n",
       "    </tr>\n",
       "    <tr>\n",
       "      <th>5</th>\n",
       "      <td>cfdaawards</td>\n",
       "      <td>480</td>\n",
       "      <td>12</td>\n",
       "      <td>9.255658e-07</td>\n",
       "      <td>0.000062</td>\n",
       "      <td>0</td>\n",
       "    </tr>\n",
       "  </tbody>\n",
       "</table>\n",
       "</div>"
      ],
      "text/plain": [
       "                 trend  total_volume  social_buzz  normalized_volume  normalized_buzz  retail_distribution\n",
       "0  duchesse satin gown             0            2       0.000000e+00         0.000010                   24\n",
       "1           saksutopia             0            0       0.000000e+00         0.000000                    0\n",
       "2           oscars2016             0            9       0.000000e+00         0.000047                    0\n",
       "4         pompon charm             0            0       0.000000e+00         0.000000                    5\n",
       "5           cfdaawards           480           12       9.255658e-07         0.000062                    0"
      ]
     },
     "execution_count": 71,
     "metadata": {},
     "output_type": "execute_result"
    }
   ],
   "source": [
    "more_social_df = get_all_retail_distribution(more_social_df)\n",
    "more_social_df.head(5)"
   ]
  },
  {
   "cell_type": "code",
   "execution_count": 79,
   "metadata": {
    "collapsed": false
   },
   "outputs": [
    {
     "data": {
      "text/html": [
       "<div>\n",
       "<table border=\"1\" class=\"dataframe\">\n",
       "  <thead>\n",
       "    <tr style=\"text-align: right;\">\n",
       "      <th></th>\n",
       "      <th>trend</th>\n",
       "      <th>total_volume</th>\n",
       "      <th>social_buzz</th>\n",
       "      <th>normalized_volume</th>\n",
       "      <th>normalized_buzz</th>\n",
       "      <th>retail_distribution</th>\n",
       "    </tr>\n",
       "  </thead>\n",
       "  <tbody>\n",
       "    <tr>\n",
       "      <th>1</th>\n",
       "      <td>saksutopia</td>\n",
       "      <td>0</td>\n",
       "      <td>0</td>\n",
       "      <td>0.000000e+00</td>\n",
       "      <td>0.000000</td>\n",
       "      <td>0</td>\n",
       "    </tr>\n",
       "    <tr>\n",
       "      <th>2</th>\n",
       "      <td>oscars2016</td>\n",
       "      <td>0</td>\n",
       "      <td>9</td>\n",
       "      <td>0.000000e+00</td>\n",
       "      <td>0.000047</td>\n",
       "      <td>0</td>\n",
       "    </tr>\n",
       "    <tr>\n",
       "      <th>5</th>\n",
       "      <td>cfdaawards</td>\n",
       "      <td>480</td>\n",
       "      <td>12</td>\n",
       "      <td>9.255658e-07</td>\n",
       "      <td>0.000062</td>\n",
       "      <td>0</td>\n",
       "    </tr>\n",
       "    <tr>\n",
       "      <th>6</th>\n",
       "      <td>billboardmusicawards</td>\n",
       "      <td>1260</td>\n",
       "      <td>5</td>\n",
       "      <td>2.429610e-06</td>\n",
       "      <td>0.000026</td>\n",
       "      <td>0</td>\n",
       "    </tr>\n",
       "    <tr>\n",
       "      <th>21</th>\n",
       "      <td>annual tony awards</td>\n",
       "      <td>270</td>\n",
       "      <td>12</td>\n",
       "      <td>5.206308e-07</td>\n",
       "      <td>0.000062</td>\n",
       "      <td>0</td>\n",
       "    </tr>\n",
       "  </tbody>\n",
       "</table>\n",
       "</div>"
      ],
      "text/plain": [
       "                   trend  total_volume  social_buzz  normalized_volume  normalized_buzz  retail_distribution\n",
       "1             saksutopia             0            0       0.000000e+00         0.000000                    0\n",
       "2             oscars2016             0            9       0.000000e+00         0.000047                    0\n",
       "5             cfdaawards           480           12       9.255658e-07         0.000062                    0\n",
       "6   billboardmusicawards          1260            5       2.429610e-06         0.000026                    0\n",
       "21    annual tony awards           270           12       5.206308e-07         0.000062                    0"
      ]
     },
     "execution_count": 79,
     "metadata": {},
     "output_type": "execute_result"
    }
   ],
   "source": [
    "# filter out all terms with retail distribution\n",
    "more_social_no_retail = create_filtered_df(more_social_df, 'retail_distribution', 0, 'less')\n",
    "more_social_no_retail.head(5)"
   ]
  },
  {
   "cell_type": "markdown",
   "metadata": {},
   "source": [
    "Looks like there are 112 terms that have comparatively more social buzz than search volume and have no retail distribution!"
   ]
  },
  {
   "cell_type": "code",
   "execution_count": 82,
   "metadata": {
    "collapsed": false
   },
   "outputs": [
    {
     "name": "stdout",
     "output_type": "stream",
     "text": [
      "number of terms: 112\n"
     ]
    },
    {
     "data": {
      "text/html": [
       "<div>\n",
       "<table border=\"1\" class=\"dataframe\">\n",
       "  <thead>\n",
       "    <tr style=\"text-align: right;\">\n",
       "      <th></th>\n",
       "      <th>trend</th>\n",
       "      <th>total_volume</th>\n",
       "      <th>social_buzz</th>\n",
       "      <th>normalized_volume</th>\n",
       "      <th>normalized_buzz</th>\n",
       "      <th>retail_distribution</th>\n",
       "    </tr>\n",
       "  </thead>\n",
       "  <tbody>\n",
       "    <tr>\n",
       "      <th>1</th>\n",
       "      <td>saksutopia</td>\n",
       "      <td>0</td>\n",
       "      <td>0</td>\n",
       "      <td>0.000000e+00</td>\n",
       "      <td>0.000000</td>\n",
       "      <td>0</td>\n",
       "    </tr>\n",
       "    <tr>\n",
       "      <th>2</th>\n",
       "      <td>oscars2016</td>\n",
       "      <td>0</td>\n",
       "      <td>9</td>\n",
       "      <td>0.000000e+00</td>\n",
       "      <td>0.000047</td>\n",
       "      <td>0</td>\n",
       "    </tr>\n",
       "    <tr>\n",
       "      <th>5</th>\n",
       "      <td>cfdaawards</td>\n",
       "      <td>480</td>\n",
       "      <td>12</td>\n",
       "      <td>9.255658e-07</td>\n",
       "      <td>0.000062</td>\n",
       "      <td>0</td>\n",
       "    </tr>\n",
       "    <tr>\n",
       "      <th>6</th>\n",
       "      <td>billboardmusicawards</td>\n",
       "      <td>1260</td>\n",
       "      <td>5</td>\n",
       "      <td>2.429610e-06</td>\n",
       "      <td>0.000026</td>\n",
       "      <td>0</td>\n",
       "    </tr>\n",
       "    <tr>\n",
       "      <th>21</th>\n",
       "      <td>annual tony awards</td>\n",
       "      <td>270</td>\n",
       "      <td>12</td>\n",
       "      <td>5.206308e-07</td>\n",
       "      <td>0.000062</td>\n",
       "      <td>0</td>\n",
       "    </tr>\n",
       "  </tbody>\n",
       "</table>\n",
       "</div>"
      ],
      "text/plain": [
       "                   trend  total_volume  social_buzz  normalized_volume  normalized_buzz  retail_distribution\n",
       "1             saksutopia             0            0       0.000000e+00         0.000000                    0\n",
       "2             oscars2016             0            9       0.000000e+00         0.000047                    0\n",
       "5             cfdaawards           480           12       9.255658e-07         0.000062                    0\n",
       "6   billboardmusicawards          1260            5       2.429610e-06         0.000026                    0\n",
       "21    annual tony awards           270           12       5.206308e-07         0.000062                    0"
      ]
     },
     "execution_count": 82,
     "metadata": {},
     "output_type": "execute_result"
    }
   ],
   "source": [
    "print \"number of terms: \" + str(more_social_no_retail['trend'].count())\n",
    "more_social_no_retail.head(5)"
   ]
  },
  {
   "cell_type": "markdown",
   "metadata": {},
   "source": [
    "#### Approach 2 ~ Step 4: Filter out all the brands"
   ]
  },
  {
   "cell_type": "code",
   "execution_count": 102,
   "metadata": {
    "collapsed": false
   },
   "outputs": [
    {
     "name": "stderr",
     "output_type": "stream",
     "text": [
      "/Users/eden/anaconda/lib/python2.7/site-packages/ipykernel/__main__.py:9: SettingWithCopyWarning: \n",
      "A value is trying to be set on a copy of a slice from a DataFrame.\n",
      "Try using .loc[row_indexer,col_indexer] = value instead\n",
      "\n",
      "See the the caveats in the documentation: http://pandas.pydata.org/pandas-docs/stable/indexing.html#indexing-view-versus-copy\n"
     ]
    }
   ],
   "source": [
    "more_social_no_retail_brand = get_all_brands(more_social_no_retail)\n",
    "# create df with no brands in them\n",
    "more_social_no_retail_no_brand_df = more_social_no_retail_brand[more_social_no_retail_brand['brand'] == 0]"
   ]
  },
  {
   "cell_type": "code",
   "execution_count": 104,
   "metadata": {
    "collapsed": false
   },
   "outputs": [
    {
     "data": {
      "text/plain": [
       "104"
      ]
     },
     "execution_count": 104,
     "metadata": {},
     "output_type": "execute_result"
    }
   ],
   "source": [
    "more_social_no_retail_no_brand_df['trend'].count()"
   ]
  },
  {
   "cell_type": "markdown",
   "metadata": {},
   "source": [
    "Looks like there are about 104 supposed hashtags. We should export this to a csv."
   ]
  },
  {
   "cell_type": "code",
   "execution_count": 105,
   "metadata": {
    "collapsed": true
   },
   "outputs": [],
   "source": [
    "more_social_no_retail_no_brand_df.to_csv('approach2/supposedhashtags.csv')"
   ]
  },
  {
   "cell_type": "markdown",
   "metadata": {},
   "source": [
    "#### Approach 2 ~ Step 4: Let's see how accurate we were!\n",
    "\n",
    "*Discoverability*\n",
    "\n",
    "Again, we evaluate the effectiveness by seeing how many hashtags we've found against the total number of hashtags in our known list. This gives us a percentage of hashtags we've correctly identified"
   ]
  },
  {
   "cell_type": "code",
   "execution_count": 107,
   "metadata": {
    "collapsed": false
   },
   "outputs": [
    {
     "name": "stdout",
     "output_type": "stream",
     "text": [
      "count: 26\n",
      "total known hashtags: 62\n",
      "0.41935483871\n"
     ]
    }
   ],
   "source": [
    "evaluate_effectiveness(more_social_no_retail_no_brand_df)"
   ]
  },
  {
   "cell_type": "markdown",
   "metadata": {},
   "source": [
    "Looks like our accuracy is improving, but we're still only discovering about 42% of the known hashtags! \n",
    "\n",
    "*False Positives* \n",
    "\n",
    "We should also look at how many of these are false positives. Ie. we identify these as 'hashtags' but that's actually not super accurate."
   ]
  },
  {
   "cell_type": "code",
   "execution_count": 112,
   "metadata": {
    "collapsed": false
   },
   "outputs": [
    {
     "data": {
      "text/html": [
       "<div>\n",
       "<table border=\"1\" class=\"dataframe\">\n",
       "  <thead>\n",
       "    <tr style=\"text-align: right;\">\n",
       "      <th></th>\n",
       "      <th>trend</th>\n",
       "      <th>total_volume</th>\n",
       "      <th>social_buzz</th>\n",
       "      <th>normalized_volume</th>\n",
       "      <th>normalized_buzz</th>\n",
       "      <th>retail_distribution</th>\n",
       "      <th>brand</th>\n",
       "    </tr>\n",
       "  </thead>\n",
       "  <tbody>\n",
       "    <tr>\n",
       "      <th>1</th>\n",
       "      <td>saksutopia</td>\n",
       "      <td>0</td>\n",
       "      <td>0</td>\n",
       "      <td>0.000000e+00</td>\n",
       "      <td>0.000000</td>\n",
       "      <td>0</td>\n",
       "      <td>False</td>\n",
       "    </tr>\n",
       "    <tr>\n",
       "      <th>2</th>\n",
       "      <td>oscars2016</td>\n",
       "      <td>0</td>\n",
       "      <td>9</td>\n",
       "      <td>0.000000e+00</td>\n",
       "      <td>0.000047</td>\n",
       "      <td>0</td>\n",
       "      <td>False</td>\n",
       "    </tr>\n",
       "    <tr>\n",
       "      <th>5</th>\n",
       "      <td>cfdaawards</td>\n",
       "      <td>480</td>\n",
       "      <td>12</td>\n",
       "      <td>9.255658e-07</td>\n",
       "      <td>0.000062</td>\n",
       "      <td>0</td>\n",
       "      <td>False</td>\n",
       "    </tr>\n",
       "    <tr>\n",
       "      <th>21</th>\n",
       "      <td>annual tony awards</td>\n",
       "      <td>270</td>\n",
       "      <td>12</td>\n",
       "      <td>5.206308e-07</td>\n",
       "      <td>0.000062</td>\n",
       "      <td>0</td>\n",
       "      <td>False</td>\n",
       "    </tr>\n",
       "    <tr>\n",
       "      <th>27</th>\n",
       "      <td>pregnancyfashion</td>\n",
       "      <td>120</td>\n",
       "      <td>233</td>\n",
       "      <td>2.313914e-07</td>\n",
       "      <td>0.001206</td>\n",
       "      <td>0</td>\n",
       "      <td>False</td>\n",
       "    </tr>\n",
       "    <tr>\n",
       "      <th>28</th>\n",
       "      <td>hollywoodawards</td>\n",
       "      <td>150</td>\n",
       "      <td>4</td>\n",
       "      <td>2.892393e-07</td>\n",
       "      <td>0.000021</td>\n",
       "      <td>0</td>\n",
       "      <td>False</td>\n",
       "    </tr>\n",
       "    <tr>\n",
       "      <th>31</th>\n",
       "      <td>maternitystyle</td>\n",
       "      <td>230</td>\n",
       "      <td>389</td>\n",
       "      <td>4.435003e-07</td>\n",
       "      <td>0.002014</td>\n",
       "      <td>0</td>\n",
       "      <td>False</td>\n",
       "    </tr>\n",
       "    <tr>\n",
       "      <th>35</th>\n",
       "      <td>maternityfashion</td>\n",
       "      <td>190</td>\n",
       "      <td>283</td>\n",
       "      <td>3.663698e-07</td>\n",
       "      <td>0.001465</td>\n",
       "      <td>0</td>\n",
       "      <td>False</td>\n",
       "    </tr>\n",
       "    <tr>\n",
       "      <th>36</th>\n",
       "      <td>microdermobrasian</td>\n",
       "      <td>120</td>\n",
       "      <td>32</td>\n",
       "      <td>2.313914e-07</td>\n",
       "      <td>0.000166</td>\n",
       "      <td>0</td>\n",
       "      <td>False</td>\n",
       "    </tr>\n",
       "    <tr>\n",
       "      <th>53</th>\n",
       "      <td>sakscanada</td>\n",
       "      <td>60</td>\n",
       "      <td>6</td>\n",
       "      <td>1.156957e-07</td>\n",
       "      <td>0.000031</td>\n",
       "      <td>0</td>\n",
       "      <td>False</td>\n",
       "    </tr>\n",
       "  </tbody>\n",
       "</table>\n",
       "</div>"
      ],
      "text/plain": [
       "                 trend  total_volume  social_buzz  normalized_volume  normalized_buzz  retail_distribution  brand\n",
       "1           saksutopia             0            0       0.000000e+00         0.000000                    0  False\n",
       "2           oscars2016             0            9       0.000000e+00         0.000047                    0  False\n",
       "5           cfdaawards           480           12       9.255658e-07         0.000062                    0  False\n",
       "21  annual tony awards           270           12       5.206308e-07         0.000062                    0  False\n",
       "27    pregnancyfashion           120          233       2.313914e-07         0.001206                    0  False\n",
       "28     hollywoodawards           150            4       2.892393e-07         0.000021                    0  False\n",
       "31      maternitystyle           230          389       4.435003e-07         0.002014                    0  False\n",
       "35    maternityfashion           190          283       3.663698e-07         0.001465                    0  False\n",
       "36   microdermobrasian           120           32       2.313914e-07         0.000166                    0  False\n",
       "53          sakscanada            60            6       1.156957e-07         0.000031                    0  False"
      ]
     },
     "execution_count": 112,
     "metadata": {},
     "output_type": "execute_result"
    }
   ],
   "source": [
    "more_social_no_retail_no_brand_df.head(10)"
   ]
  },
  {
   "cell_type": "code",
   "execution_count": 111,
   "metadata": {
    "collapsed": false
   },
   "outputs": [
    {
     "data": {
      "text/html": [
       "<div>\n",
       "<table border=\"1\" class=\"dataframe\">\n",
       "  <thead>\n",
       "    <tr style=\"text-align: right;\">\n",
       "      <th></th>\n",
       "      <th>trend</th>\n",
       "      <th>total_volume</th>\n",
       "      <th>social_buzz</th>\n",
       "      <th>normalized_volume</th>\n",
       "      <th>normalized_buzz</th>\n",
       "      <th>retail_distribution</th>\n",
       "      <th>brand</th>\n",
       "    </tr>\n",
       "  </thead>\n",
       "  <tbody>\n",
       "    <tr>\n",
       "      <th>5584</th>\n",
       "      <td>nosebum powder pact</td>\n",
       "      <td>0</td>\n",
       "      <td>0</td>\n",
       "      <td>0</td>\n",
       "      <td>0.000000</td>\n",
       "      <td>0</td>\n",
       "      <td>False</td>\n",
       "    </tr>\n",
       "    <tr>\n",
       "      <th>5589</th>\n",
       "      <td>oriental medicine cosmetics</td>\n",
       "      <td>0</td>\n",
       "      <td>0</td>\n",
       "      <td>0</td>\n",
       "      <td>0.000000</td>\n",
       "      <td>0</td>\n",
       "      <td>False</td>\n",
       "    </tr>\n",
       "    <tr>\n",
       "      <th>5605</th>\n",
       "      <td>black cluff links</td>\n",
       "      <td>0</td>\n",
       "      <td>0</td>\n",
       "      <td>0</td>\n",
       "      <td>0.000000</td>\n",
       "      <td>0</td>\n",
       "      <td>False</td>\n",
       "    </tr>\n",
       "    <tr>\n",
       "      <th>5607</th>\n",
       "      <td>pinktuck blouse</td>\n",
       "      <td>0</td>\n",
       "      <td>2</td>\n",
       "      <td>0</td>\n",
       "      <td>0.000010</td>\n",
       "      <td>0</td>\n",
       "      <td>False</td>\n",
       "    </tr>\n",
       "    <tr>\n",
       "      <th>5608</th>\n",
       "      <td>nordstromott</td>\n",
       "      <td>0</td>\n",
       "      <td>0</td>\n",
       "      <td>0</td>\n",
       "      <td>0.000000</td>\n",
       "      <td>0</td>\n",
       "      <td>False</td>\n",
       "    </tr>\n",
       "    <tr>\n",
       "      <th>5611</th>\n",
       "      <td>nosebum pact</td>\n",
       "      <td>0</td>\n",
       "      <td>0</td>\n",
       "      <td>0</td>\n",
       "      <td>0.000000</td>\n",
       "      <td>0</td>\n",
       "      <td>False</td>\n",
       "    </tr>\n",
       "    <tr>\n",
       "      <th>5620</th>\n",
       "      <td>nordstromyvr</td>\n",
       "      <td>0</td>\n",
       "      <td>5</td>\n",
       "      <td>0</td>\n",
       "      <td>0.000026</td>\n",
       "      <td>0</td>\n",
       "      <td>False</td>\n",
       "    </tr>\n",
       "    <tr>\n",
       "      <th>5642</th>\n",
       "      <td>cfdanyfw</td>\n",
       "      <td>0</td>\n",
       "      <td>0</td>\n",
       "      <td>0</td>\n",
       "      <td>0.000000</td>\n",
       "      <td>0</td>\n",
       "      <td>False</td>\n",
       "    </tr>\n",
       "    <tr>\n",
       "      <th>5649</th>\n",
       "      <td>athleta 7/8 tight</td>\n",
       "      <td>0</td>\n",
       "      <td>0</td>\n",
       "      <td>0</td>\n",
       "      <td>0.000000</td>\n",
       "      <td>0</td>\n",
       "      <td>False</td>\n",
       "    </tr>\n",
       "    <tr>\n",
       "      <th>5651</th>\n",
       "      <td>lace vstring panties</td>\n",
       "      <td>0</td>\n",
       "      <td>0</td>\n",
       "      <td>0</td>\n",
       "      <td>0.000000</td>\n",
       "      <td>0</td>\n",
       "      <td>False</td>\n",
       "    </tr>\n",
       "  </tbody>\n",
       "</table>\n",
       "</div>"
      ],
      "text/plain": [
       "                            trend  total_volume  social_buzz  normalized_volume  normalized_buzz  retail_distribution  brand\n",
       "5584          nosebum powder pact             0            0                  0         0.000000                    0  False\n",
       "5589  oriental medicine cosmetics             0            0                  0         0.000000                    0  False\n",
       "5605            black cluff links             0            0                  0         0.000000                    0  False\n",
       "5607              pinktuck blouse             0            2                  0         0.000010                    0  False\n",
       "5608                 nordstromott             0            0                  0         0.000000                    0  False\n",
       "5611                 nosebum pact             0            0                  0         0.000000                    0  False\n",
       "5620                 nordstromyvr             0            5                  0         0.000026                    0  False\n",
       "5642                     cfdanyfw             0            0                  0         0.000000                    0  False\n",
       "5649            athleta 7/8 tight             0            0                  0         0.000000                    0  False\n",
       "5651         lace vstring panties             0            0                  0         0.000000                    0  False"
      ]
     },
     "execution_count": 111,
     "metadata": {},
     "output_type": "execute_result"
    }
   ],
   "source": [
    "more_social_no_retail_no_brand_df.tail(10)"
   ]
  },
  {
   "cell_type": "markdown",
   "metadata": {},
   "source": [
    "Unfortunately, it looks like there's a fair number of false positives here, as \"nosebum powder pact\" and \"oriental medicine cosmetics\" amongst others are incorrectly labeled as hashtags. Perhaps it's time to try a different approach."
   ]
  },
  {
   "cell_type": "markdown",
   "metadata": {},
   "source": [
    "### Approach 3: "
   ]
  },
  {
   "cell_type": "code",
   "execution_count": 103,
   "metadata": {
    "collapsed": false
   },
   "outputs": [
    {
     "name": "stderr",
     "output_type": "stream",
     "text": [
      "/Users/eden/anaconda/lib/python2.7/site-packages/ipykernel/__main__.py:2: SettingWithCopyWarning: \n",
      "A value is trying to be set on a copy of a slice from a DataFrame.\n",
      "Try using .loc[row_indexer,col_indexer] = value instead\n",
      "\n",
      "See the the caveats in the documentation: http://pandas.pydata.org/pandas-docs/stable/indexing.html#indexing-view-versus-copy\n",
      "  from ipykernel import kernelapp as app\n"
     ]
    },
    {
     "data": {
      "text/html": [
       "<div>\n",
       "<table border=\"1\" class=\"dataframe\">\n",
       "  <thead>\n",
       "    <tr style=\"text-align: right;\">\n",
       "      <th></th>\n",
       "      <th>trend</th>\n",
       "      <th>total_volume</th>\n",
       "      <th>social_buzz</th>\n",
       "      <th>more_social</th>\n",
       "      <th>high_social</th>\n",
       "    </tr>\n",
       "  </thead>\n",
       "  <tbody>\n",
       "    <tr>\n",
       "      <th>0</th>\n",
       "      <td>duchesse satin gown</td>\n",
       "      <td>0</td>\n",
       "      <td>2</td>\n",
       "      <td>True</td>\n",
       "      <td>False</td>\n",
       "    </tr>\n",
       "    <tr>\n",
       "      <th>1</th>\n",
       "      <td>saksutopia</td>\n",
       "      <td>0</td>\n",
       "      <td>0</td>\n",
       "      <td>True</td>\n",
       "      <td>False</td>\n",
       "    </tr>\n",
       "    <tr>\n",
       "      <th>2</th>\n",
       "      <td>oscars2016</td>\n",
       "      <td>0</td>\n",
       "      <td>9</td>\n",
       "      <td>True</td>\n",
       "      <td>False</td>\n",
       "    </tr>\n",
       "    <tr>\n",
       "      <th>4</th>\n",
       "      <td>pompon charm</td>\n",
       "      <td>0</td>\n",
       "      <td>0</td>\n",
       "      <td>True</td>\n",
       "      <td>False</td>\n",
       "    </tr>\n",
       "    <tr>\n",
       "      <th>27</th>\n",
       "      <td>pregnancyfashion</td>\n",
       "      <td>120</td>\n",
       "      <td>233</td>\n",
       "      <td>True</td>\n",
       "      <td>True</td>\n",
       "    </tr>\n",
       "  </tbody>\n",
       "</table>\n",
       "</div>"
      ],
      "text/plain": [
       "                  trend  total_volume  social_buzz more_social high_social\n",
       "0   duchesse satin gown             0            2        True       False\n",
       "1            saksutopia             0            0        True       False\n",
       "2            oscars2016             0            9        True       False\n",
       "4          pompon charm             0            0        True       False\n",
       "27     pregnancyfashion           120          233        True        True"
      ]
     },
     "execution_count": 103,
     "metadata": {},
     "output_type": "execute_result"
    }
   ],
   "source": [
    "social_mean = search_social_df['social_buzz'].mean()\n",
    "search_social_df['high_social'] = (search_social_df['social_buzz'] >= social_mean)\n",
    "search_social_df.head()"
   ]
  },
  {
   "cell_type": "code",
   "execution_count": null,
   "metadata": {
    "collapsed": true
   },
   "outputs": [],
   "source": []
  },
  {
   "cell_type": "code",
   "execution_count": 109,
   "metadata": {
    "collapsed": false
   },
   "outputs": [
    {
     "data": {
      "text/html": [
       "<div>\n",
       "<table border=\"1\" class=\"dataframe\">\n",
       "  <thead>\n",
       "    <tr style=\"text-align: right;\">\n",
       "      <th></th>\n",
       "      <th>trend</th>\n",
       "      <th>total_volume</th>\n",
       "      <th>social_buzz</th>\n",
       "      <th>more_social</th>\n",
       "      <th>high_social</th>\n",
       "    </tr>\n",
       "  </thead>\n",
       "  <tbody>\n",
       "    <tr>\n",
       "      <th>27</th>\n",
       "      <td>pregnancyfashion</td>\n",
       "      <td>120</td>\n",
       "      <td>233</td>\n",
       "      <td>True</td>\n",
       "      <td>True</td>\n",
       "    </tr>\n",
       "    <tr>\n",
       "      <th>31</th>\n",
       "      <td>maternitystyle</td>\n",
       "      <td>230</td>\n",
       "      <td>389</td>\n",
       "      <td>True</td>\n",
       "      <td>True</td>\n",
       "    </tr>\n",
       "    <tr>\n",
       "      <th>35</th>\n",
       "      <td>maternityfashion</td>\n",
       "      <td>190</td>\n",
       "      <td>283</td>\n",
       "      <td>True</td>\n",
       "      <td>True</td>\n",
       "    </tr>\n",
       "    <tr>\n",
       "      <th>5277</th>\n",
       "      <td>nordstromvan</td>\n",
       "      <td>0</td>\n",
       "      <td>26</td>\n",
       "      <td>True</td>\n",
       "      <td>True</td>\n",
       "    </tr>\n",
       "    <tr>\n",
       "      <th>5309</th>\n",
       "      <td>pregnancystyle</td>\n",
       "      <td>0</td>\n",
       "      <td>244</td>\n",
       "      <td>True</td>\n",
       "      <td>True</td>\n",
       "    </tr>\n",
       "    <tr>\n",
       "      <th>5338</th>\n",
       "      <td>pregnantfashion</td>\n",
       "      <td>0</td>\n",
       "      <td>233</td>\n",
       "      <td>True</td>\n",
       "      <td>True</td>\n",
       "    </tr>\n",
       "    <tr>\n",
       "      <th>5353</th>\n",
       "      <td>bridalfashionweek</td>\n",
       "      <td>150</td>\n",
       "      <td>896</td>\n",
       "      <td>True</td>\n",
       "      <td>True</td>\n",
       "    </tr>\n",
       "    <tr>\n",
       "      <th>5367</th>\n",
       "      <td>londonfashionwk</td>\n",
       "      <td>0</td>\n",
       "      <td>79</td>\n",
       "      <td>True</td>\n",
       "      <td>True</td>\n",
       "    </tr>\n",
       "    <tr>\n",
       "      <th>5471</th>\n",
       "      <td>bumpchic</td>\n",
       "      <td>0</td>\n",
       "      <td>224</td>\n",
       "      <td>True</td>\n",
       "      <td>True</td>\n",
       "    </tr>\n",
       "    <tr>\n",
       "      <th>5540</th>\n",
       "      <td>pregnantstyle</td>\n",
       "      <td>0</td>\n",
       "      <td>244</td>\n",
       "      <td>True</td>\n",
       "      <td>True</td>\n",
       "    </tr>\n",
       "  </tbody>\n",
       "</table>\n",
       "</div>"
      ],
      "text/plain": [
       "                  trend  total_volume  social_buzz more_social high_social\n",
       "27     pregnancyfashion           120          233        True        True\n",
       "31       maternitystyle           230          389        True        True\n",
       "35     maternityfashion           190          283        True        True\n",
       "5277       nordstromvan             0           26        True        True\n",
       "5309     pregnancystyle             0          244        True        True\n",
       "5338    pregnantfashion             0          233        True        True\n",
       "5353  bridalfashionweek           150          896        True        True\n",
       "5367    londonfashionwk             0           79        True        True\n",
       "5471           bumpchic             0          224        True        True\n",
       "5540      pregnantstyle             0          244        True        True"
      ]
     },
     "execution_count": 109,
     "metadata": {},
     "output_type": "execute_result"
    }
   ],
   "source": [
    "high_more_social_df = search_social_df[search_social_df['high_social']]\n",
    "high_more_social_df"
   ]
  },
  {
   "cell_type": "markdown",
   "metadata": {},
   "source": [
    "#### Just see which ones are one word and have low search OR high social_buzz\n"
   ]
  },
  {
   "cell_type": "code",
   "execution_count": 113,
   "metadata": {
    "collapsed": true
   },
   "outputs": [],
   "source": [
    "def is_one_word(word):\n",
    "    if len(word.split()) > 1:\n",
    "        return False\n",
    "    return True"
   ]
  },
  {
   "cell_type": "code",
   "execution_count": 117,
   "metadata": {
    "collapsed": false
   },
   "outputs": [
    {
     "data": {
      "text/html": [
       "<div>\n",
       "<table border=\"1\" class=\"dataframe\">\n",
       "  <thead>\n",
       "    <tr style=\"text-align: right;\">\n",
       "      <th></th>\n",
       "      <th>trend</th>\n",
       "      <th>total_volume</th>\n",
       "      <th>social_buzz</th>\n",
       "      <th>more_social</th>\n",
       "    </tr>\n",
       "  </thead>\n",
       "  <tbody>\n",
       "    <tr>\n",
       "      <th>0</th>\n",
       "      <td>duchesse satin gown</td>\n",
       "      <td>0</td>\n",
       "      <td>2</td>\n",
       "      <td>True</td>\n",
       "    </tr>\n",
       "    <tr>\n",
       "      <th>1</th>\n",
       "      <td>saksutopia</td>\n",
       "      <td>0</td>\n",
       "      <td>0</td>\n",
       "      <td>True</td>\n",
       "    </tr>\n",
       "  </tbody>\n",
       "</table>\n",
       "</div>"
      ],
      "text/plain": [
       "                 trend  total_volume  social_buzz more_social\n",
       "0  duchesse satin gown             0            2        True\n",
       "1           saksutopia             0            0        True"
      ]
     },
     "execution_count": 117,
     "metadata": {},
     "output_type": "execute_result"
    }
   ],
   "source": [
    "df = search_df\n",
    "df.head(2)"
   ]
  },
  {
   "cell_type": "code",
   "execution_count": 119,
   "metadata": {
    "collapsed": false
   },
   "outputs": [],
   "source": [
    "df['one_word'] = df['trend'].apply(lambda trend: is_one_word(trend))"
   ]
  },
  {
   "cell_type": "code",
   "execution_count": 121,
   "metadata": {
    "collapsed": false
   },
   "outputs": [
    {
     "data": {
      "text/html": [
       "<div>\n",
       "<table border=\"1\" class=\"dataframe\">\n",
       "  <thead>\n",
       "    <tr style=\"text-align: right;\">\n",
       "      <th></th>\n",
       "      <th>trend</th>\n",
       "      <th>total_volume</th>\n",
       "      <th>social_buzz</th>\n",
       "      <th>more_social</th>\n",
       "      <th>one_word</th>\n",
       "    </tr>\n",
       "  </thead>\n",
       "  <tbody>\n",
       "    <tr>\n",
       "      <th>0</th>\n",
       "      <td>duchesse satin gown</td>\n",
       "      <td>0</td>\n",
       "      <td>2</td>\n",
       "      <td>True</td>\n",
       "      <td>False</td>\n",
       "    </tr>\n",
       "    <tr>\n",
       "      <th>1</th>\n",
       "      <td>saksutopia</td>\n",
       "      <td>0</td>\n",
       "      <td>0</td>\n",
       "      <td>True</td>\n",
       "      <td>True</td>\n",
       "    </tr>\n",
       "    <tr>\n",
       "      <th>2</th>\n",
       "      <td>oscars2016</td>\n",
       "      <td>0</td>\n",
       "      <td>9</td>\n",
       "      <td>True</td>\n",
       "      <td>True</td>\n",
       "    </tr>\n",
       "    <tr>\n",
       "      <th>3</th>\n",
       "      <td>studded apparel</td>\n",
       "      <td>90</td>\n",
       "      <td>0</td>\n",
       "      <td>False</td>\n",
       "      <td>False</td>\n",
       "    </tr>\n",
       "    <tr>\n",
       "      <th>4</th>\n",
       "      <td>pompon charm</td>\n",
       "      <td>0</td>\n",
       "      <td>0</td>\n",
       "      <td>True</td>\n",
       "      <td>False</td>\n",
       "    </tr>\n",
       "  </tbody>\n",
       "</table>\n",
       "</div>"
      ],
      "text/plain": [
       "                 trend  total_volume  social_buzz more_social one_word\n",
       "0  duchesse satin gown             0            2        True    False\n",
       "1           saksutopia             0            0        True     True\n",
       "2           oscars2016             0            9        True     True\n",
       "3      studded apparel            90            0       False    False\n",
       "4         pompon charm             0            0        True    False"
      ]
     },
     "execution_count": 121,
     "metadata": {},
     "output_type": "execute_result"
    }
   ],
   "source": [
    "df.head(5)"
   ]
  },
  {
   "cell_type": "code",
   "execution_count": 123,
   "metadata": {
    "collapsed": false
   },
   "outputs": [
    {
     "data": {
      "text/html": [
       "<div>\n",
       "<table border=\"1\" class=\"dataframe\">\n",
       "  <thead>\n",
       "    <tr style=\"text-align: right;\">\n",
       "      <th></th>\n",
       "      <th>trend</th>\n",
       "      <th>total_volume</th>\n",
       "      <th>social_buzz</th>\n",
       "      <th>more_social</th>\n",
       "      <th>one_word</th>\n",
       "    </tr>\n",
       "  </thead>\n",
       "  <tbody>\n",
       "    <tr>\n",
       "      <th>1</th>\n",
       "      <td>saksutopia</td>\n",
       "      <td>0</td>\n",
       "      <td>0</td>\n",
       "      <td>True</td>\n",
       "      <td>True</td>\n",
       "    </tr>\n",
       "    <tr>\n",
       "      <th>2</th>\n",
       "      <td>oscars2016</td>\n",
       "      <td>0</td>\n",
       "      <td>9</td>\n",
       "      <td>True</td>\n",
       "      <td>True</td>\n",
       "    </tr>\n",
       "    <tr>\n",
       "      <th>5</th>\n",
       "      <td>cfdaawards</td>\n",
       "      <td>480</td>\n",
       "      <td>12</td>\n",
       "      <td>False</td>\n",
       "      <td>True</td>\n",
       "    </tr>\n",
       "    <tr>\n",
       "      <th>6</th>\n",
       "      <td>billboardmusicawards</td>\n",
       "      <td>1260</td>\n",
       "      <td>5</td>\n",
       "      <td>False</td>\n",
       "      <td>True</td>\n",
       "    </tr>\n",
       "    <tr>\n",
       "      <th>24</th>\n",
       "      <td>mtvmovieawards</td>\n",
       "      <td>7090</td>\n",
       "      <td>1003</td>\n",
       "      <td>False</td>\n",
       "      <td>True</td>\n",
       "    </tr>\n",
       "    <tr>\n",
       "      <th>27</th>\n",
       "      <td>pregnancyfashion</td>\n",
       "      <td>120</td>\n",
       "      <td>233</td>\n",
       "      <td>True</td>\n",
       "      <td>True</td>\n",
       "    </tr>\n",
       "    <tr>\n",
       "      <th>28</th>\n",
       "      <td>hollywoodawards</td>\n",
       "      <td>150</td>\n",
       "      <td>4</td>\n",
       "      <td>False</td>\n",
       "      <td>True</td>\n",
       "    </tr>\n",
       "    <tr>\n",
       "      <th>31</th>\n",
       "      <td>maternitystyle</td>\n",
       "      <td>230</td>\n",
       "      <td>389</td>\n",
       "      <td>True</td>\n",
       "      <td>True</td>\n",
       "    </tr>\n",
       "    <tr>\n",
       "      <th>32</th>\n",
       "      <td>mkshanghai</td>\n",
       "      <td>110</td>\n",
       "      <td>0</td>\n",
       "      <td>False</td>\n",
       "      <td>True</td>\n",
       "    </tr>\n",
       "    <tr>\n",
       "      <th>35</th>\n",
       "      <td>maternityfashion</td>\n",
       "      <td>190</td>\n",
       "      <td>283</td>\n",
       "      <td>True</td>\n",
       "      <td>True</td>\n",
       "    </tr>\n",
       "  </tbody>\n",
       "</table>\n",
       "</div>"
      ],
      "text/plain": [
       "                   trend  total_volume  social_buzz more_social one_word\n",
       "1             saksutopia             0            0        True     True\n",
       "2             oscars2016             0            9        True     True\n",
       "5             cfdaawards           480           12       False     True\n",
       "6   billboardmusicawards          1260            5       False     True\n",
       "24        mtvmovieawards          7090         1003       False     True\n",
       "27      pregnancyfashion           120          233        True     True\n",
       "28       hollywoodawards           150            4       False     True\n",
       "31        maternitystyle           230          389        True     True\n",
       "32            mkshanghai           110            0       False     True\n",
       "35      maternityfashion           190          283        True     True"
      ]
     },
     "execution_count": 123,
     "metadata": {},
     "output_type": "execute_result"
    }
   ],
   "source": [
    "# only terms with one word\n",
    "one_word_df = df[df['one_word']]\n",
    "one_word_df.head(10)"
   ]
  },
  {
   "cell_type": "code",
   "execution_count": 124,
   "metadata": {
    "collapsed": false
   },
   "outputs": [
    {
     "data": {
      "text/plain": [
       "844"
      ]
     },
     "execution_count": 124,
     "metadata": {},
     "output_type": "execute_result"
    }
   ],
   "source": [
    "len(one_word_df)"
   ]
  },
  {
   "cell_type": "markdown",
   "metadata": {},
   "source": [
    "looks like there are potentially 844 hashtags"
   ]
  },
  {
   "cell_type": "code",
   "execution_count": 127,
   "metadata": {
    "collapsed": false
   },
   "outputs": [],
   "source": [
    "one_word_df.to_csv('potentialhashtags.csv')"
   ]
  },
  {
   "cell_type": "markdown",
   "metadata": {},
   "source": [
    "#### Eliminate all the known words"
   ]
  },
  {
   "cell_type": "code",
   "execution_count": 155,
   "metadata": {
    "collapsed": false
   },
   "outputs": [
    {
     "name": "stdout",
     "output_type": "stream",
     "text": [
      "Collecting requests\n",
      "  Using cached requests-2.9.1-py2.py3-none-any.whl\n",
      "Installing collected packages: requests\n",
      "  Found existing installation: requests 2.1.0\n",
      "    Uninstalling requests-2.1.0:\n",
      "      Successfully uninstalled requests-2.1.0\n",
      "Successfully installed requests-2.9.1\n"
     ]
    }
   ],
   "source": [
    "%%bash\n",
    "pip install --upgrade requests"
   ]
  },
  {
   "cell_type": "code",
   "execution_count": 149,
   "metadata": {
    "collapsed": false
   },
   "outputs": [
    {
     "name": "stderr",
     "output_type": "stream",
     "text": [
      "/Users/eden/anaconda/lib/python2.7/site-packages/ipykernel/__main__.py:5: UnicodeWarning: Unicode equal comparison failed to convert both arguments to Unicode - interpreting them as being unequal\n",
      "/Users/eden/anaconda/lib/python2.7/site-packages/ipykernel/__main__.py:8: SettingWithCopyWarning: \n",
      "A value is trying to be set on a copy of a slice from a DataFrame.\n",
      "Try using .loc[row_indexer,col_indexer] = value instead\n",
      "\n",
      "See the the caveats in the documentation: http://pandas.pydata.org/pandas-docs/stable/indexing.html#indexing-view-versus-copy\n"
     ]
    }
   ],
   "source": [
    "# eliminate all the known words\n",
    "from nltk.corpus import words\n",
    "\n",
    "def is_actual_word(trend):\n",
    "    word_bool = trend in words.words()\n",
    "    return word_bool\n",
    "\n",
    "one_word_df['actual_word'] = one_word_df['trend'].apply(lambda trend: is_actual_word(trend))"
   ]
  },
  {
   "cell_type": "code",
   "execution_count": 150,
   "metadata": {
    "collapsed": false
   },
   "outputs": [
    {
     "data": {
      "text/html": [
       "<div>\n",
       "<table border=\"1\" class=\"dataframe\">\n",
       "  <thead>\n",
       "    <tr style=\"text-align: right;\">\n",
       "      <th></th>\n",
       "      <th>trend</th>\n",
       "      <th>total_volume</th>\n",
       "      <th>social_buzz</th>\n",
       "      <th>more_social</th>\n",
       "      <th>one_word</th>\n",
       "      <th>actual_word</th>\n",
       "    </tr>\n",
       "  </thead>\n",
       "  <tbody>\n",
       "    <tr>\n",
       "      <th>1</th>\n",
       "      <td>saksutopia</td>\n",
       "      <td>0</td>\n",
       "      <td>0</td>\n",
       "      <td>True</td>\n",
       "      <td>True</td>\n",
       "      <td>False</td>\n",
       "    </tr>\n",
       "    <tr>\n",
       "      <th>2</th>\n",
       "      <td>oscars2016</td>\n",
       "      <td>0</td>\n",
       "      <td>9</td>\n",
       "      <td>True</td>\n",
       "      <td>True</td>\n",
       "      <td>False</td>\n",
       "    </tr>\n",
       "    <tr>\n",
       "      <th>5</th>\n",
       "      <td>cfdaawards</td>\n",
       "      <td>480</td>\n",
       "      <td>12</td>\n",
       "      <td>False</td>\n",
       "      <td>True</td>\n",
       "      <td>False</td>\n",
       "    </tr>\n",
       "    <tr>\n",
       "      <th>6</th>\n",
       "      <td>billboardmusicawards</td>\n",
       "      <td>1260</td>\n",
       "      <td>5</td>\n",
       "      <td>False</td>\n",
       "      <td>True</td>\n",
       "      <td>False</td>\n",
       "    </tr>\n",
       "    <tr>\n",
       "      <th>24</th>\n",
       "      <td>mtvmovieawards</td>\n",
       "      <td>7090</td>\n",
       "      <td>1003</td>\n",
       "      <td>False</td>\n",
       "      <td>True</td>\n",
       "      <td>False</td>\n",
       "    </tr>\n",
       "    <tr>\n",
       "      <th>27</th>\n",
       "      <td>pregnancyfashion</td>\n",
       "      <td>120</td>\n",
       "      <td>233</td>\n",
       "      <td>True</td>\n",
       "      <td>True</td>\n",
       "      <td>False</td>\n",
       "    </tr>\n",
       "    <tr>\n",
       "      <th>28</th>\n",
       "      <td>hollywoodawards</td>\n",
       "      <td>150</td>\n",
       "      <td>4</td>\n",
       "      <td>False</td>\n",
       "      <td>True</td>\n",
       "      <td>False</td>\n",
       "    </tr>\n",
       "    <tr>\n",
       "      <th>31</th>\n",
       "      <td>maternitystyle</td>\n",
       "      <td>230</td>\n",
       "      <td>389</td>\n",
       "      <td>True</td>\n",
       "      <td>True</td>\n",
       "      <td>False</td>\n",
       "    </tr>\n",
       "    <tr>\n",
       "      <th>32</th>\n",
       "      <td>mkshanghai</td>\n",
       "      <td>110</td>\n",
       "      <td>0</td>\n",
       "      <td>False</td>\n",
       "      <td>True</td>\n",
       "      <td>False</td>\n",
       "    </tr>\n",
       "    <tr>\n",
       "      <th>35</th>\n",
       "      <td>maternityfashion</td>\n",
       "      <td>190</td>\n",
       "      <td>283</td>\n",
       "      <td>True</td>\n",
       "      <td>True</td>\n",
       "      <td>False</td>\n",
       "    </tr>\n",
       "  </tbody>\n",
       "</table>\n",
       "</div>"
      ],
      "text/plain": [
       "                   trend  total_volume  social_buzz more_social one_word actual_word\n",
       "1             saksutopia             0            0        True     True       False\n",
       "2             oscars2016             0            9        True     True       False\n",
       "5             cfdaawards           480           12       False     True       False\n",
       "6   billboardmusicawards          1260            5       False     True       False\n",
       "24        mtvmovieawards          7090         1003       False     True       False\n",
       "27      pregnancyfashion           120          233        True     True       False\n",
       "28       hollywoodawards           150            4       False     True       False\n",
       "31        maternitystyle           230          389        True     True       False\n",
       "32            mkshanghai           110            0       False     True       False\n",
       "35      maternityfashion           190          283        True     True       False"
      ]
     },
     "execution_count": 150,
     "metadata": {},
     "output_type": "execute_result"
    }
   ],
   "source": [
    "# only terms with one word\n",
    "full_hashtag_df = one_word_df[one_word_df['actual_word'] == 0]\n",
    "full_hashtag_df.head(10)"
   ]
  },
  {
   "cell_type": "code",
   "execution_count": 151,
   "metadata": {
    "collapsed": true
   },
   "outputs": [],
   "source": [
    "full_hashtag_df.to_csv('full_potential_hashtags.csv')"
   ]
  },
  {
   "cell_type": "code",
   "execution_count": 153,
   "metadata": {
    "collapsed": false
   },
   "outputs": [
    {
     "data": {
      "text/plain": [
       "trend           449\n",
       "total_volume    449\n",
       "social_buzz     449\n",
       "more_social     449\n",
       "one_word        449\n",
       "actual_word     449\n",
       "dtype: int64"
      ]
     },
     "execution_count": 153,
     "metadata": {},
     "output_type": "execute_result"
    }
   ],
   "source": [
    "full_hashtag_df.count()"
   ]
  },
  {
   "cell_type": "markdown",
   "metadata": {},
   "source": [
    "Looks like there's actually more that are real words so we should add another run through."
   ]
  },
  {
   "cell_type": "markdown",
   "metadata": {},
   "source": [
    "Try using enchant later (figure out import error)"
   ]
  },
  {
   "cell_type": "code",
   "execution_count": 184,
   "metadata": {
    "collapsed": false
   },
   "outputs": [],
   "source": [
    "def is_actual_word_2(term):\n",
    "    text = open(\"/usr/share/dict/words\",'r').readlines()\n",
    "    for lines in text:\n",
    "        if lines.find(term) == 0:\n",
    "            return True\n",
    "    return False"
   ]
  },
  {
   "cell_type": "code",
   "execution_count": 189,
   "metadata": {
    "collapsed": false
   },
   "outputs": [
    {
     "name": "stderr",
     "output_type": "stream",
     "text": [
      "/Users/eden/anaconda/lib/python2.7/site-packages/ipykernel/__main__.py:1: SettingWithCopyWarning: \n",
      "A value is trying to be set on a copy of a slice from a DataFrame.\n",
      "Try using .loc[row_indexer,col_indexer] = value instead\n",
      "\n",
      "See the the caveats in the documentation: http://pandas.pydata.org/pandas-docs/stable/indexing.html#indexing-view-versus-copy\n",
      "  if __name__ == '__main__':\n"
     ]
    },
    {
     "data": {
      "text/html": [
       "<div>\n",
       "<table border=\"1\" class=\"dataframe\">\n",
       "  <thead>\n",
       "    <tr style=\"text-align: right;\">\n",
       "      <th></th>\n",
       "      <th>trend</th>\n",
       "      <th>total_volume</th>\n",
       "      <th>social_buzz</th>\n",
       "      <th>more_social</th>\n",
       "      <th>one_word</th>\n",
       "      <th>actual_word</th>\n",
       "      <th>actual_word_2</th>\n",
       "    </tr>\n",
       "  </thead>\n",
       "  <tbody>\n",
       "    <tr>\n",
       "      <th>1</th>\n",
       "      <td>saksutopia</td>\n",
       "      <td>0</td>\n",
       "      <td>0</td>\n",
       "      <td>True</td>\n",
       "      <td>True</td>\n",
       "      <td>False</td>\n",
       "      <td>False</td>\n",
       "    </tr>\n",
       "    <tr>\n",
       "      <th>2</th>\n",
       "      <td>oscars2016</td>\n",
       "      <td>0</td>\n",
       "      <td>9</td>\n",
       "      <td>True</td>\n",
       "      <td>True</td>\n",
       "      <td>False</td>\n",
       "      <td>False</td>\n",
       "    </tr>\n",
       "    <tr>\n",
       "      <th>5</th>\n",
       "      <td>cfdaawards</td>\n",
       "      <td>480</td>\n",
       "      <td>12</td>\n",
       "      <td>False</td>\n",
       "      <td>True</td>\n",
       "      <td>False</td>\n",
       "      <td>False</td>\n",
       "    </tr>\n",
       "    <tr>\n",
       "      <th>6</th>\n",
       "      <td>billboardmusicawards</td>\n",
       "      <td>1260</td>\n",
       "      <td>5</td>\n",
       "      <td>False</td>\n",
       "      <td>True</td>\n",
       "      <td>False</td>\n",
       "      <td>False</td>\n",
       "    </tr>\n",
       "    <tr>\n",
       "      <th>24</th>\n",
       "      <td>mtvmovieawards</td>\n",
       "      <td>7090</td>\n",
       "      <td>1003</td>\n",
       "      <td>False</td>\n",
       "      <td>True</td>\n",
       "      <td>False</td>\n",
       "      <td>False</td>\n",
       "    </tr>\n",
       "    <tr>\n",
       "      <th>27</th>\n",
       "      <td>pregnancyfashion</td>\n",
       "      <td>120</td>\n",
       "      <td>233</td>\n",
       "      <td>True</td>\n",
       "      <td>True</td>\n",
       "      <td>False</td>\n",
       "      <td>False</td>\n",
       "    </tr>\n",
       "    <tr>\n",
       "      <th>28</th>\n",
       "      <td>hollywoodawards</td>\n",
       "      <td>150</td>\n",
       "      <td>4</td>\n",
       "      <td>False</td>\n",
       "      <td>True</td>\n",
       "      <td>False</td>\n",
       "      <td>False</td>\n",
       "    </tr>\n",
       "    <tr>\n",
       "      <th>31</th>\n",
       "      <td>maternitystyle</td>\n",
       "      <td>230</td>\n",
       "      <td>389</td>\n",
       "      <td>True</td>\n",
       "      <td>True</td>\n",
       "      <td>False</td>\n",
       "      <td>False</td>\n",
       "    </tr>\n",
       "    <tr>\n",
       "      <th>32</th>\n",
       "      <td>mkshanghai</td>\n",
       "      <td>110</td>\n",
       "      <td>0</td>\n",
       "      <td>False</td>\n",
       "      <td>True</td>\n",
       "      <td>False</td>\n",
       "      <td>False</td>\n",
       "    </tr>\n",
       "    <tr>\n",
       "      <th>35</th>\n",
       "      <td>maternityfashion</td>\n",
       "      <td>190</td>\n",
       "      <td>283</td>\n",
       "      <td>True</td>\n",
       "      <td>True</td>\n",
       "      <td>False</td>\n",
       "      <td>False</td>\n",
       "    </tr>\n",
       "  </tbody>\n",
       "</table>\n",
       "</div>"
      ],
      "text/plain": [
       "                   trend  total_volume  social_buzz more_social one_word actual_word actual_word_2\n",
       "1             saksutopia             0            0        True     True       False         False\n",
       "2             oscars2016             0            9        True     True       False         False\n",
       "5             cfdaawards           480           12       False     True       False         False\n",
       "6   billboardmusicawards          1260            5       False     True       False         False\n",
       "24        mtvmovieawards          7090         1003       False     True       False         False\n",
       "27      pregnancyfashion           120          233        True     True       False         False\n",
       "28       hollywoodawards           150            4       False     True       False         False\n",
       "31        maternitystyle           230          389        True     True       False         False\n",
       "32            mkshanghai           110            0       False     True       False         False\n",
       "35      maternityfashion           190          283        True     True       False         False"
      ]
     },
     "execution_count": 189,
     "metadata": {},
     "output_type": "execute_result"
    }
   ],
   "source": [
    "full_hashtag_df['actual_word_2'] = full_hashtag_df['trend'].apply(lambda trend: is_actual_word_2(trend))\n",
    "# only terms with one word\n",
    "complete_hashtag_df = full_hashtag_df[full_hashtag_df['actual_word'] == 0]\n",
    "complete_hashtag_df.head(10)"
   ]
  },
  {
   "cell_type": "markdown",
   "metadata": {},
   "source": [
    "#### Still left with a lot of products like iphone, balding, etc."
   ]
  },
  {
   "cell_type": "markdown",
   "metadata": {},
   "source": [
    "We try urban dictionary next"
   ]
  },
  {
   "cell_type": "code",
   "execution_count": 195,
   "metadata": {
    "collapsed": true
   },
   "outputs": [],
   "source": [
    "# for now just gets the associated json\n",
    "def is_urban_word(term):\n",
    "    \n",
    "    # base API endpoint url\n",
    "    base_url = \"https://mashape-community-urban-dictionary.p.mashape.com/define?term=\"\n",
    "    # convert term like 'pink wedding dress' to 'pink+wedding+dress'\n",
    "    encoded_term = urllib.quote_plus(term)\n",
    "    url = base_url + encoded_term\n",
    "    \n",
    "    # set authorization\n",
    "    headers = {'X-Mashape-Key': 'VFFIcqo1QgmshHrfINfqjWRHKEvMp1p8SUpjsnwZOtpUfq2Vpa', \n",
    "               'Accept': 'text/plain'}\n",
    "     \n",
    "    # get response\n",
    "    response = requests.get(url, headers=headers)\n",
    "    response_json = json.loads(response.text)\n",
    "    \n",
    "    result_type = response_json[\"result_type\"]\n",
    "    if result_type == 'no_results':\n",
    "        return False\n",
    "    return True"
   ]
  },
  {
   "cell_type": "code",
   "execution_count": 253,
   "metadata": {
    "collapsed": false
   },
   "outputs": [
    {
     "data": {
      "text/plain": [
       "True"
      ]
     },
     "execution_count": 253,
     "metadata": {},
     "output_type": "execute_result"
    }
   ],
   "source": [
    "is_urban_word(\"babybump\")"
   ]
  },
  {
   "cell_type": "code",
   "execution_count": 202,
   "metadata": {
    "collapsed": false
   },
   "outputs": [
    {
     "data": {
      "text/html": [
       "<div>\n",
       "<table border=\"1\" class=\"dataframe\">\n",
       "  <thead>\n",
       "    <tr style=\"text-align: right;\">\n",
       "      <th></th>\n",
       "      <th>trend</th>\n",
       "      <th>total_volume</th>\n",
       "      <th>social_buzz</th>\n",
       "      <th>more_social</th>\n",
       "      <th>one_word</th>\n",
       "      <th>actual_word</th>\n",
       "      <th>actual_word_2</th>\n",
       "      <th>urban_term</th>\n",
       "    </tr>\n",
       "  </thead>\n",
       "  <tbody>\n",
       "    <tr>\n",
       "      <th>1</th>\n",
       "      <td>saksutopia</td>\n",
       "      <td>0</td>\n",
       "      <td>0</td>\n",
       "      <td>True</td>\n",
       "      <td>True</td>\n",
       "      <td>False</td>\n",
       "      <td>False</td>\n",
       "      <td>False</td>\n",
       "    </tr>\n",
       "    <tr>\n",
       "      <th>2</th>\n",
       "      <td>oscars2016</td>\n",
       "      <td>0</td>\n",
       "      <td>9</td>\n",
       "      <td>True</td>\n",
       "      <td>True</td>\n",
       "      <td>False</td>\n",
       "      <td>False</td>\n",
       "      <td>False</td>\n",
       "    </tr>\n",
       "    <tr>\n",
       "      <th>5</th>\n",
       "      <td>cfdaawards</td>\n",
       "      <td>480</td>\n",
       "      <td>12</td>\n",
       "      <td>False</td>\n",
       "      <td>True</td>\n",
       "      <td>False</td>\n",
       "      <td>False</td>\n",
       "      <td>False</td>\n",
       "    </tr>\n",
       "    <tr>\n",
       "      <th>6</th>\n",
       "      <td>billboardmusicawards</td>\n",
       "      <td>1260</td>\n",
       "      <td>5</td>\n",
       "      <td>False</td>\n",
       "      <td>True</td>\n",
       "      <td>False</td>\n",
       "      <td>False</td>\n",
       "      <td>False</td>\n",
       "    </tr>\n",
       "    <tr>\n",
       "      <th>24</th>\n",
       "      <td>mtvmovieawards</td>\n",
       "      <td>7090</td>\n",
       "      <td>1003</td>\n",
       "      <td>False</td>\n",
       "      <td>True</td>\n",
       "      <td>False</td>\n",
       "      <td>False</td>\n",
       "      <td>True</td>\n",
       "    </tr>\n",
       "    <tr>\n",
       "      <th>27</th>\n",
       "      <td>pregnancyfashion</td>\n",
       "      <td>120</td>\n",
       "      <td>233</td>\n",
       "      <td>True</td>\n",
       "      <td>True</td>\n",
       "      <td>False</td>\n",
       "      <td>False</td>\n",
       "      <td>False</td>\n",
       "    </tr>\n",
       "    <tr>\n",
       "      <th>28</th>\n",
       "      <td>hollywoodawards</td>\n",
       "      <td>150</td>\n",
       "      <td>4</td>\n",
       "      <td>False</td>\n",
       "      <td>True</td>\n",
       "      <td>False</td>\n",
       "      <td>False</td>\n",
       "      <td>False</td>\n",
       "    </tr>\n",
       "    <tr>\n",
       "      <th>31</th>\n",
       "      <td>maternitystyle</td>\n",
       "      <td>230</td>\n",
       "      <td>389</td>\n",
       "      <td>True</td>\n",
       "      <td>True</td>\n",
       "      <td>False</td>\n",
       "      <td>False</td>\n",
       "      <td>False</td>\n",
       "    </tr>\n",
       "    <tr>\n",
       "      <th>32</th>\n",
       "      <td>mkshanghai</td>\n",
       "      <td>110</td>\n",
       "      <td>0</td>\n",
       "      <td>False</td>\n",
       "      <td>True</td>\n",
       "      <td>False</td>\n",
       "      <td>False</td>\n",
       "      <td>False</td>\n",
       "    </tr>\n",
       "    <tr>\n",
       "      <th>35</th>\n",
       "      <td>maternityfashion</td>\n",
       "      <td>190</td>\n",
       "      <td>283</td>\n",
       "      <td>True</td>\n",
       "      <td>True</td>\n",
       "      <td>False</td>\n",
       "      <td>False</td>\n",
       "      <td>False</td>\n",
       "    </tr>\n",
       "  </tbody>\n",
       "</table>\n",
       "</div>"
      ],
      "text/plain": [
       "                   trend  total_volume  social_buzz more_social one_word actual_word actual_word_2 urban_term\n",
       "1             saksutopia             0            0        True     True       False         False      False\n",
       "2             oscars2016             0            9        True     True       False         False      False\n",
       "5             cfdaawards           480           12       False     True       False         False      False\n",
       "6   billboardmusicawards          1260            5       False     True       False         False      False\n",
       "24        mtvmovieawards          7090         1003       False     True       False         False       True\n",
       "27      pregnancyfashion           120          233        True     True       False         False      False\n",
       "28       hollywoodawards           150            4       False     True       False         False      False\n",
       "31        maternitystyle           230          389        True     True       False         False      False\n",
       "32            mkshanghai           110            0       False     True       False         False      False\n",
       "35      maternityfashion           190          283        True     True       False         False      False"
      ]
     },
     "execution_count": 202,
     "metadata": {},
     "output_type": "execute_result"
    }
   ],
   "source": [
    "complete_hashtag_df['urban_term'] = complete_hashtag_df['trend'].apply(lambda trend: is_urban_word(trend))\n",
    "# only terms with one word"
   ]
  },
  {
   "cell_type": "code",
   "execution_count": 203,
   "metadata": {
    "collapsed": false
   },
   "outputs": [
    {
     "data": {
      "text/html": [
       "<div>\n",
       "<table border=\"1\" class=\"dataframe\">\n",
       "  <thead>\n",
       "    <tr style=\"text-align: right;\">\n",
       "      <th></th>\n",
       "      <th>trend</th>\n",
       "      <th>total_volume</th>\n",
       "      <th>social_buzz</th>\n",
       "      <th>more_social</th>\n",
       "      <th>one_word</th>\n",
       "      <th>actual_word</th>\n",
       "      <th>actual_word_2</th>\n",
       "      <th>urban_term</th>\n",
       "    </tr>\n",
       "  </thead>\n",
       "  <tbody>\n",
       "    <tr>\n",
       "      <th>1</th>\n",
       "      <td>saksutopia</td>\n",
       "      <td>0</td>\n",
       "      <td>0</td>\n",
       "      <td>True</td>\n",
       "      <td>True</td>\n",
       "      <td>False</td>\n",
       "      <td>False</td>\n",
       "      <td>False</td>\n",
       "    </tr>\n",
       "    <tr>\n",
       "      <th>2</th>\n",
       "      <td>oscars2016</td>\n",
       "      <td>0</td>\n",
       "      <td>9</td>\n",
       "      <td>True</td>\n",
       "      <td>True</td>\n",
       "      <td>False</td>\n",
       "      <td>False</td>\n",
       "      <td>False</td>\n",
       "    </tr>\n",
       "    <tr>\n",
       "      <th>5</th>\n",
       "      <td>cfdaawards</td>\n",
       "      <td>480</td>\n",
       "      <td>12</td>\n",
       "      <td>False</td>\n",
       "      <td>True</td>\n",
       "      <td>False</td>\n",
       "      <td>False</td>\n",
       "      <td>False</td>\n",
       "    </tr>\n",
       "    <tr>\n",
       "      <th>6</th>\n",
       "      <td>billboardmusicawards</td>\n",
       "      <td>1260</td>\n",
       "      <td>5</td>\n",
       "      <td>False</td>\n",
       "      <td>True</td>\n",
       "      <td>False</td>\n",
       "      <td>False</td>\n",
       "      <td>False</td>\n",
       "    </tr>\n",
       "    <tr>\n",
       "      <th>27</th>\n",
       "      <td>pregnancyfashion</td>\n",
       "      <td>120</td>\n",
       "      <td>233</td>\n",
       "      <td>True</td>\n",
       "      <td>True</td>\n",
       "      <td>False</td>\n",
       "      <td>False</td>\n",
       "      <td>False</td>\n",
       "    </tr>\n",
       "    <tr>\n",
       "      <th>28</th>\n",
       "      <td>hollywoodawards</td>\n",
       "      <td>150</td>\n",
       "      <td>4</td>\n",
       "      <td>False</td>\n",
       "      <td>True</td>\n",
       "      <td>False</td>\n",
       "      <td>False</td>\n",
       "      <td>False</td>\n",
       "    </tr>\n",
       "    <tr>\n",
       "      <th>31</th>\n",
       "      <td>maternitystyle</td>\n",
       "      <td>230</td>\n",
       "      <td>389</td>\n",
       "      <td>True</td>\n",
       "      <td>True</td>\n",
       "      <td>False</td>\n",
       "      <td>False</td>\n",
       "      <td>False</td>\n",
       "    </tr>\n",
       "    <tr>\n",
       "      <th>32</th>\n",
       "      <td>mkshanghai</td>\n",
       "      <td>110</td>\n",
       "      <td>0</td>\n",
       "      <td>False</td>\n",
       "      <td>True</td>\n",
       "      <td>False</td>\n",
       "      <td>False</td>\n",
       "      <td>False</td>\n",
       "    </tr>\n",
       "    <tr>\n",
       "      <th>35</th>\n",
       "      <td>maternityfashion</td>\n",
       "      <td>190</td>\n",
       "      <td>283</td>\n",
       "      <td>True</td>\n",
       "      <td>True</td>\n",
       "      <td>False</td>\n",
       "      <td>False</td>\n",
       "      <td>False</td>\n",
       "    </tr>\n",
       "    <tr>\n",
       "      <th>36</th>\n",
       "      <td>microdermobrasian</td>\n",
       "      <td>120</td>\n",
       "      <td>32</td>\n",
       "      <td>False</td>\n",
       "      <td>True</td>\n",
       "      <td>False</td>\n",
       "      <td>False</td>\n",
       "      <td>False</td>\n",
       "    </tr>\n",
       "  </tbody>\n",
       "</table>\n",
       "</div>"
      ],
      "text/plain": [
       "                   trend  total_volume  social_buzz more_social one_word actual_word actual_word_2 urban_term\n",
       "1             saksutopia             0            0        True     True       False         False      False\n",
       "2             oscars2016             0            9        True     True       False         False      False\n",
       "5             cfdaawards           480           12       False     True       False         False      False\n",
       "6   billboardmusicawards          1260            5       False     True       False         False      False\n",
       "27      pregnancyfashion           120          233        True     True       False         False      False\n",
       "28       hollywoodawards           150            4       False     True       False         False      False\n",
       "31        maternitystyle           230          389        True     True       False         False      False\n",
       "32            mkshanghai           110            0       False     True       False         False      False\n",
       "35      maternityfashion           190          283        True     True       False         False      False\n",
       "36     microdermobrasian           120           32       False     True       False         False      False"
      ]
     },
     "execution_count": 203,
     "metadata": {},
     "output_type": "execute_result"
    }
   ],
   "source": [
    "# only terms with one word\n",
    "filtered_hashtag_df = complete_hashtag_df[complete_hashtag_df['urban_term'] == 0]\n",
    "filtered_hashtag_df.head(10)"
   ]
  },
  {
   "cell_type": "code",
   "execution_count": 205,
   "metadata": {
    "collapsed": false
   },
   "outputs": [
    {
     "data": {
      "text/plain": [
       "143"
      ]
     },
     "execution_count": 205,
     "metadata": {},
     "output_type": "execute_result"
    }
   ],
   "source": [
    "filtered_hashtag_df[\"trend\"].count()"
   ]
  },
  {
   "cell_type": "code",
   "execution_count": 206,
   "metadata": {
    "collapsed": true
   },
   "outputs": [],
   "source": [
    "# move to csv\n",
    "filtered_hashtag_df.to_csv('actualhashtags.csv')"
   ]
  },
  {
   "cell_type": "markdown",
   "metadata": {},
   "source": [
    "#### Check to see if it's a brand"
   ]
  },
  {
   "cell_type": "code",
   "execution_count": 234,
   "metadata": {
    "collapsed": false
   },
   "outputs": [
    {
     "data": {
      "text/html": [
       "<div>\n",
       "<table border=\"1\" class=\"dataframe\">\n",
       "  <thead>\n",
       "    <tr style=\"text-align: right;\">\n",
       "      <th></th>\n",
       "      <th>code</th>\n",
       "      <th>name</th>\n",
       "      <th>search</th>\n",
       "      <th>link</th>\n",
       "      <th>ssname</th>\n",
       "      <th>ssid</th>\n",
       "      <th>rid</th>\n",
       "      <th>rname</th>\n",
       "    </tr>\n",
       "  </thead>\n",
       "  <tbody>\n",
       "    <tr>\n",
       "      <th>0</th>\n",
       "      <td>0039italy</td>\n",
       "      <td>0039 Italy</td>\n",
       "      <td>0039 italy</td>\n",
       "      <td>http://www.0039italy-shop.com/</td>\n",
       "      <td>0039 Italy</td>\n",
       "      <td>12092</td>\n",
       "      <td>NaN</td>\n",
       "      <td>NaN</td>\n",
       "    </tr>\n",
       "    <tr>\n",
       "      <th>1</th>\n",
       "      <td>100flavors</td>\n",
       "      <td>100 Flavors</td>\n",
       "      <td>100 flavors</td>\n",
       "      <td>http://100flavours.co.uk/</td>\n",
       "      <td>NaN</td>\n",
       "      <td>NaN</td>\n",
       "      <td>NaN</td>\n",
       "      <td>NaN</td>\n",
       "    </tr>\n",
       "    <tr>\n",
       "      <th>2</th>\n",
       "      <td>100layercake</td>\n",
       "      <td>100 Layer Cake</td>\n",
       "      <td>100 layer cake</td>\n",
       "      <td>http://www.100layercake.com/</td>\n",
       "      <td>NaN</td>\n",
       "      <td>NaN</td>\n",
       "      <td>NaN</td>\n",
       "      <td>NaN</td>\n",
       "    </tr>\n",
       "    <tr>\n",
       "      <th>3</th>\n",
       "      <td>10corsocomo</td>\n",
       "      <td>10 Corso Como</td>\n",
       "      <td>10 corso como</td>\n",
       "      <td>http://www.10corsocomo.com</td>\n",
       "      <td>NaN</td>\n",
       "      <td>NaN</td>\n",
       "      <td>NaN</td>\n",
       "      <td>NaN</td>\n",
       "    </tr>\n",
       "    <tr>\n",
       "      <th>4</th>\n",
       "      <td>10crosbydereklam</td>\n",
       "      <td>10 Crosby Derek Lam</td>\n",
       "      <td>10 crosby derek lam</td>\n",
       "      <td>http://10crosby.com</td>\n",
       "      <td>Derek Lam 10 Crosby</td>\n",
       "      <td>31645</td>\n",
       "      <td>NaN</td>\n",
       "      <td>NaN</td>\n",
       "    </tr>\n",
       "    <tr>\n",
       "      <th>5</th>\n",
       "      <td>10deep</td>\n",
       "      <td>10 Deep</td>\n",
       "      <td>10 deep</td>\n",
       "      <td>http://10deep.com/</td>\n",
       "      <td>10 Deep</td>\n",
       "      <td>22658</td>\n",
       "      <td>NaN</td>\n",
       "      <td>NaN</td>\n",
       "    </tr>\n",
       "    <tr>\n",
       "      <th>6</th>\n",
       "      <td>10magazine</td>\n",
       "      <td>10 Magazine</td>\n",
       "      <td>10 magazine</td>\n",
       "      <td>http://www.10magazine.com/</td>\n",
       "      <td>NaN</td>\n",
       "      <td>NaN</td>\n",
       "      <td>NaN</td>\n",
       "      <td>NaN</td>\n",
       "    </tr>\n",
       "    <tr>\n",
       "      <th>7</th>\n",
       "      <td>10strawberrystreet</td>\n",
       "      <td>10 Strawberry Street</td>\n",
       "      <td>10 strawberry street</td>\n",
       "      <td>http://tenstrawberrystreet.com/</td>\n",
       "      <td>NaN</td>\n",
       "      <td>NaN</td>\n",
       "      <td>NaN</td>\n",
       "      <td>NaN</td>\n",
       "    </tr>\n",
       "    <tr>\n",
       "      <th>8</th>\n",
       "      <td>123klan</td>\n",
       "      <td>123Klan</td>\n",
       "      <td>123klan</td>\n",
       "      <td>http://www.123klan.com/work/12</td>\n",
       "      <td>NaN</td>\n",
       "      <td>NaN</td>\n",
       "      <td>NaN</td>\n",
       "      <td>NaN</td>\n",
       "    </tr>\n",
       "    <tr>\n",
       "      <th>9</th>\n",
       "      <td>12benefits</td>\n",
       "      <td>12 benefits</td>\n",
       "      <td>12 benefits</td>\n",
       "      <td>http://12benefits.com/</td>\n",
       "      <td>NaN</td>\n",
       "      <td>NaN</td>\n",
       "      <td>NaN</td>\n",
       "      <td>NaN</td>\n",
       "    </tr>\n",
       "  </tbody>\n",
       "</table>\n",
       "</div>"
      ],
      "text/plain": [
       "                 code                  name                search                             link               ssname   ssid  rid rname\n",
       "0           0039italy            0039 Italy            0039 italy   http://www.0039italy-shop.com/           0039 Italy  12092  NaN   NaN\n",
       "1          100flavors           100 Flavors           100 flavors        http://100flavours.co.uk/                  NaN    NaN  NaN   NaN\n",
       "2        100layercake        100 Layer Cake        100 layer cake     http://www.100layercake.com/                  NaN    NaN  NaN   NaN\n",
       "3         10corsocomo         10 Corso Como         10 corso como       http://www.10corsocomo.com                  NaN    NaN  NaN   NaN\n",
       "4    10crosbydereklam   10 Crosby Derek Lam   10 crosby derek lam              http://10crosby.com  Derek Lam 10 Crosby  31645  NaN   NaN\n",
       "5              10deep               10 Deep               10 deep               http://10deep.com/              10 Deep  22658  NaN   NaN\n",
       "6          10magazine           10 Magazine           10 magazine       http://www.10magazine.com/                  NaN    NaN  NaN   NaN\n",
       "7  10strawberrystreet  10 Strawberry Street  10 strawberry street  http://tenstrawberrystreet.com/                  NaN    NaN  NaN   NaN\n",
       "8             123klan               123Klan               123klan   http://www.123klan.com/work/12                  NaN    NaN  NaN   NaN\n",
       "9          12benefits           12 benefits           12 benefits           http://12benefits.com/                  NaN    NaN  NaN   NaN"
      ]
     },
     "execution_count": 234,
     "metadata": {},
     "output_type": "execute_result"
    }
   ],
   "source": []
  },
  {
   "cell_type": "code",
   "execution_count": 235,
   "metadata": {
    "collapsed": false
   },
   "outputs": [],
   "source": []
  },
  {
   "cell_type": "code",
   "execution_count": 236,
   "metadata": {
    "collapsed": false
   },
   "outputs": [
    {
     "data": {
      "text/plain": [
       "True"
      ]
     },
     "execution_count": 236,
     "metadata": {},
     "output_type": "execute_result"
    }
   ],
   "source": [
    "is_brand('birchbox')"
   ]
  },
  {
   "cell_type": "code",
   "execution_count": 237,
   "metadata": {
    "collapsed": false
   },
   "outputs": [
    {
     "name": "stderr",
     "output_type": "stream",
     "text": [
      "/Users/eden/anaconda/lib/python2.7/site-packages/ipykernel/__main__.py:1: SettingWithCopyWarning: \n",
      "A value is trying to be set on a copy of a slice from a DataFrame.\n",
      "Try using .loc[row_indexer,col_indexer] = value instead\n",
      "\n",
      "See the the caveats in the documentation: http://pandas.pydata.org/pandas-docs/stable/indexing.html#indexing-view-versus-copy\n",
      "  if __name__ == '__main__':\n"
     ]
    }
   ],
   "source": [
    "filtered_hashtag_df['brand_term'] = filtered_hashtag_df['trend'].apply(lambda trend: is_brand(trend))"
   ]
  },
  {
   "cell_type": "code",
   "execution_count": 238,
   "metadata": {
    "collapsed": false
   },
   "outputs": [
    {
     "data": {
      "text/html": [
       "<div>\n",
       "<table border=\"1\" class=\"dataframe\">\n",
       "  <thead>\n",
       "    <tr style=\"text-align: right;\">\n",
       "      <th></th>\n",
       "      <th>trend</th>\n",
       "      <th>total_volume</th>\n",
       "      <th>social_buzz</th>\n",
       "      <th>more_social</th>\n",
       "      <th>one_word</th>\n",
       "      <th>actual_word</th>\n",
       "      <th>actual_word_2</th>\n",
       "      <th>urban_term</th>\n",
       "      <th>brand_term</th>\n",
       "    </tr>\n",
       "  </thead>\n",
       "  <tbody>\n",
       "    <tr>\n",
       "      <th>1</th>\n",
       "      <td>saksutopia</td>\n",
       "      <td>0</td>\n",
       "      <td>0</td>\n",
       "      <td>True</td>\n",
       "      <td>True</td>\n",
       "      <td>False</td>\n",
       "      <td>False</td>\n",
       "      <td>False</td>\n",
       "      <td>False</td>\n",
       "    </tr>\n",
       "    <tr>\n",
       "      <th>2</th>\n",
       "      <td>oscars2016</td>\n",
       "      <td>0</td>\n",
       "      <td>9</td>\n",
       "      <td>True</td>\n",
       "      <td>True</td>\n",
       "      <td>False</td>\n",
       "      <td>False</td>\n",
       "      <td>False</td>\n",
       "      <td>False</td>\n",
       "    </tr>\n",
       "    <tr>\n",
       "      <th>5</th>\n",
       "      <td>cfdaawards</td>\n",
       "      <td>480</td>\n",
       "      <td>12</td>\n",
       "      <td>False</td>\n",
       "      <td>True</td>\n",
       "      <td>False</td>\n",
       "      <td>False</td>\n",
       "      <td>False</td>\n",
       "      <td>False</td>\n",
       "    </tr>\n",
       "    <tr>\n",
       "      <th>27</th>\n",
       "      <td>pregnancyfashion</td>\n",
       "      <td>120</td>\n",
       "      <td>233</td>\n",
       "      <td>True</td>\n",
       "      <td>True</td>\n",
       "      <td>False</td>\n",
       "      <td>False</td>\n",
       "      <td>False</td>\n",
       "      <td>False</td>\n",
       "    </tr>\n",
       "    <tr>\n",
       "      <th>28</th>\n",
       "      <td>hollywoodawards</td>\n",
       "      <td>150</td>\n",
       "      <td>4</td>\n",
       "      <td>False</td>\n",
       "      <td>True</td>\n",
       "      <td>False</td>\n",
       "      <td>False</td>\n",
       "      <td>False</td>\n",
       "      <td>False</td>\n",
       "    </tr>\n",
       "    <tr>\n",
       "      <th>31</th>\n",
       "      <td>maternitystyle</td>\n",
       "      <td>230</td>\n",
       "      <td>389</td>\n",
       "      <td>True</td>\n",
       "      <td>True</td>\n",
       "      <td>False</td>\n",
       "      <td>False</td>\n",
       "      <td>False</td>\n",
       "      <td>False</td>\n",
       "    </tr>\n",
       "    <tr>\n",
       "      <th>32</th>\n",
       "      <td>mkshanghai</td>\n",
       "      <td>110</td>\n",
       "      <td>0</td>\n",
       "      <td>False</td>\n",
       "      <td>True</td>\n",
       "      <td>False</td>\n",
       "      <td>False</td>\n",
       "      <td>False</td>\n",
       "      <td>False</td>\n",
       "    </tr>\n",
       "    <tr>\n",
       "      <th>35</th>\n",
       "      <td>maternityfashion</td>\n",
       "      <td>190</td>\n",
       "      <td>283</td>\n",
       "      <td>True</td>\n",
       "      <td>True</td>\n",
       "      <td>False</td>\n",
       "      <td>False</td>\n",
       "      <td>False</td>\n",
       "      <td>False</td>\n",
       "    </tr>\n",
       "    <tr>\n",
       "      <th>36</th>\n",
       "      <td>microdermobrasian</td>\n",
       "      <td>120</td>\n",
       "      <td>32</td>\n",
       "      <td>False</td>\n",
       "      <td>True</td>\n",
       "      <td>False</td>\n",
       "      <td>False</td>\n",
       "      <td>False</td>\n",
       "      <td>False</td>\n",
       "    </tr>\n",
       "    <tr>\n",
       "      <th>53</th>\n",
       "      <td>sakscanada</td>\n",
       "      <td>60</td>\n",
       "      <td>6</td>\n",
       "      <td>False</td>\n",
       "      <td>True</td>\n",
       "      <td>False</td>\n",
       "      <td>False</td>\n",
       "      <td>False</td>\n",
       "      <td>False</td>\n",
       "    </tr>\n",
       "  </tbody>\n",
       "</table>\n",
       "</div>"
      ],
      "text/plain": [
       "                trend  total_volume  social_buzz more_social one_word actual_word actual_word_2 urban_term brand_term\n",
       "1          saksutopia             0            0        True     True       False         False      False      False\n",
       "2          oscars2016             0            9        True     True       False         False      False      False\n",
       "5          cfdaawards           480           12       False     True       False         False      False      False\n",
       "27   pregnancyfashion           120          233        True     True       False         False      False      False\n",
       "28    hollywoodawards           150            4       False     True       False         False      False      False\n",
       "31     maternitystyle           230          389        True     True       False         False      False      False\n",
       "32         mkshanghai           110            0       False     True       False         False      False      False\n",
       "35   maternityfashion           190          283        True     True       False         False      False      False\n",
       "36  microdermobrasian           120           32       False     True       False         False      False      False\n",
       "53         sakscanada            60            6       False     True       False         False      False      False"
      ]
     },
     "execution_count": 238,
     "metadata": {},
     "output_type": "execute_result"
    }
   ],
   "source": [
    "filtered_brand_hashtag_df = filtered_hashtag_df[filtered_hashtag_df['brand_term'] == 0]\n",
    "filtered_brand_hashtag_df.head(10)"
   ]
  },
  {
   "cell_type": "code",
   "execution_count": 239,
   "metadata": {
    "collapsed": false
   },
   "outputs": [
    {
     "data": {
      "text/plain": [
       "128"
      ]
     },
     "execution_count": 239,
     "metadata": {},
     "output_type": "execute_result"
    }
   ],
   "source": [
    "filtered_brand_hashtag_df['trend'].count()"
   ]
  },
  {
   "cell_type": "code",
   "execution_count": 240,
   "metadata": {
    "collapsed": true
   },
   "outputs": [],
   "source": [
    "filtered_brand_hashtag_df.to_csv('filteredbrandhashtag.csv')"
   ]
  },
  {
   "cell_type": "markdown",
   "metadata": {},
   "source": [
    "#### Is there retail distribution"
   ]
  },
  {
   "cell_type": "code",
   "execution_count": 241,
   "metadata": {
    "collapsed": true
   },
   "outputs": [],
   "source": []
  },
  {
   "cell_type": "code",
   "execution_count": 242,
   "metadata": {
    "collapsed": false
   },
   "outputs": [],
   "source": [
    "retail_distribution = []\n",
    "for term in filtered_brand_hashtag_df[\"trend\"]:\n",
    "    total_products = get_retail_distribution(term)\n",
    "    retail_distribution.append(total_products)"
   ]
  },
  {
   "cell_type": "code",
   "execution_count": 243,
   "metadata": {
    "collapsed": false
   },
   "outputs": [
    {
     "name": "stderr",
     "output_type": "stream",
     "text": [
      "/Users/eden/anaconda/lib/python2.7/site-packages/ipykernel/__main__.py:1: SettingWithCopyWarning: \n",
      "A value is trying to be set on a copy of a slice from a DataFrame.\n",
      "Try using .loc[row_indexer,col_indexer] = value instead\n",
      "\n",
      "See the the caveats in the documentation: http://pandas.pydata.org/pandas-docs/stable/indexing.html#indexing-view-versus-copy\n",
      "  if __name__ == '__main__':\n"
     ]
    }
   ],
   "source": [
    "filtered_brand_hashtag_df[\"retail_distribution\"] = retail_distribution"
   ]
  },
  {
   "cell_type": "code",
   "execution_count": 244,
   "metadata": {
    "collapsed": false
   },
   "outputs": [
    {
     "data": {
      "text/plain": [
       "count      128.000000\n",
       "mean      1711.460938\n",
       "std       6963.969478\n",
       "min          0.000000\n",
       "25%          0.000000\n",
       "50%          0.000000\n",
       "75%         56.250000\n",
       "max      47400.000000\n",
       "Name: retail_distribution, dtype: float64"
      ]
     },
     "execution_count": 244,
     "metadata": {},
     "output_type": "execute_result"
    }
   ],
   "source": [
    "filtered_brand_hashtag_df[\"retail_distribution\"].describe()"
   ]
  },
  {
   "cell_type": "code",
   "execution_count": 245,
   "metadata": {
    "collapsed": false
   },
   "outputs": [],
   "source": [
    "filtered_product_hashtag_df = filtered_brand_hashtag_df[filtered_brand_hashtag_df[\"retail_distribution\"] == 0]"
   ]
  },
  {
   "cell_type": "code",
   "execution_count": 246,
   "metadata": {
    "collapsed": false
   },
   "outputs": [
    {
     "data": {
      "text/plain": [
       "trend                  76\n",
       "total_volume           76\n",
       "social_buzz            76\n",
       "more_social            76\n",
       "one_word               76\n",
       "actual_word            76\n",
       "actual_word_2          76\n",
       "urban_term             76\n",
       "brand_term             76\n",
       "retail_distribution    76\n",
       "dtype: int64"
      ]
     },
     "execution_count": 246,
     "metadata": {},
     "output_type": "execute_result"
    }
   ],
   "source": [
    "filtered_product_hashtag_df.count()"
   ]
  },
  {
   "cell_type": "code",
   "execution_count": 249,
   "metadata": {
    "collapsed": false
   },
   "outputs": [],
   "source": [
    "filtered_product_hashtag_df.to_csv('final_hashtag_df.csv')"
   ]
  },
  {
   "cell_type": "markdown",
   "metadata": {},
   "source": [
    "#### Let's see how accurate we were"
   ]
  },
  {
   "cell_type": "code",
   "execution_count": 255,
   "metadata": {
    "collapsed": false
   },
   "outputs": [
    {
     "name": "stdout",
     "output_type": "stream",
     "text": [
      "count: 28\n",
      "total known hashtags: 62\n"
     ]
    }
   ],
   "source": [
    "known_hashtags = ['babybump', 'bump', 'bumpchic', 'fabmom', 'maternity', 'maternityfashion', 'maternitystyle', 'mommytobe',\n",
    "                  'pregnancy', 'pregnancyfashion', 'pregnancyfashion', 'pregnancystyle', 'pregnantfashion', \n",
    "                  'pregnantstyle', '100gala', 'aacta', 'aactas', 'academyawards', 'acmawards', 'alma', 'bafta', 'baftas', \n",
    "                  'bbma', 'bbmas', 'betawards', 'bifaawards', 'billboardmusicawards', 'brits', 'cannes', \n",
    "                  'cannesfilmfestival', 'cfdaawards', 'cma', 'cmaawards', 'cmas', 'cmt', 'cmtawards', 'cmts', \n",
    "                  'criticschoice', 'criticschoiceawards', 'emmyawards', 'emmys', 'goldenglobe', 'goldenglobes', \n",
    "                  'grammys', 'hollywoodawards', 'mtvema', 'mtvmovieawards', 'mtvvma', 'nyfw', 'oscars', 'pcas', \n",
    "                  'peopleschoice', 'peopleschoiceawards', 'sagawards', 'teenchoice', 'teenchoiceawards', 'time100gala', \n",
    "                  'tonyawards', 'tonys', 'tribecafilm', 'vma', 'vmas']\n",
    "count = 0\n",
    "missed_hashtags_list = []\n",
    "for hashtag in known_hashtags:\n",
    "    if hashtag in list(filtered_product_hashtag_df['trend']):\n",
    "        count = count + 1\n",
    "    else:\n",
    "        missed_hashtags_list.append(hashtag)\n",
    "    \n",
    "print \"count: \" + str(count) \n",
    "total_known_hashtags = len(known_hashtags)\n",
    "print \"total known hashtags: \" + str(total_known_hashtags)"
   ]
  },
  {
   "cell_type": "markdown",
   "metadata": {},
   "source": [
    "All but 6 of the above words are filtered out as hashtags since they are known by urban dictionary\n"
   ]
  },
  {
   "cell_type": "code",
   "execution_count": 260,
   "metadata": {
    "collapsed": false
   },
   "outputs": [
    {
     "name": "stdout",
     "output_type": "stream",
     "text": [
      "maternity\n",
      "baftas\n",
      "billboardmusicawards\n",
      "cannesfilmfestival\n",
      "criticschoiceawards\n",
      "peopleschoiceawards\n",
      "tonyawards\n",
      "count: 27\n",
      "total known hashtags: 34\n"
     ]
    }
   ],
   "source": [
    "count = 0\n",
    "more_missed_hashtags = []\n",
    "for missed_hashtag in missed_hashtags_list:\n",
    "    if is_urban_word(missed_hashtag):\n",
    "        count = count + 1\n",
    "    else:\n",
    "        print missed_hashtag\n",
    "        more_missed_hashtags.append(missed_hashtag)\n",
    "print \"count: \" + str(count) \n",
    "total_missed = len(missed_hashtags_list)\n",
    "print \"total known hashtags: \" + str(total_missed)"
   ]
  },
  {
   "cell_type": "markdown",
   "metadata": {},
   "source": [
    "Maternity is an actual word, which is why it isn't showing up"
   ]
  },
  {
   "cell_type": "code",
   "execution_count": 258,
   "metadata": {
    "collapsed": false
   },
   "outputs": [
    {
     "data": {
      "text/plain": [
       "True"
      ]
     },
     "execution_count": 258,
     "metadata": {},
     "output_type": "execute_result"
    }
   ],
   "source": [
    "is_actual_word('maternity')"
   ]
  },
  {
   "cell_type": "markdown",
   "metadata": {},
   "source": [
    "The remaining terms are not in the original search csv"
   ]
  },
  {
   "cell_type": "code",
   "execution_count": 268,
   "metadata": {
    "collapsed": false
   },
   "outputs": [],
   "source": [
    "count = 0\n",
    "for hashtag in more_missed_hashtags:\n",
    "    if hashtag in list(search_df['trend']):\n",
    "        count = count + 1\n",
    "    else:\n",
    "        print hashtag"
   ]
  },
  {
   "cell_type": "markdown",
   "metadata": {},
   "source": [
    "#### See if these words have search volume"
   ]
  },
  {
   "cell_type": "code",
   "execution_count": 263,
   "metadata": {
    "collapsed": true
   },
   "outputs": [],
   "source": [
    "def is_missed(trend):\n",
    "    if trend in missed_hashtags_list:\n",
    "        return True\n",
    "    return False"
   ]
  },
  {
   "cell_type": "code",
   "execution_count": 264,
   "metadata": {
    "collapsed": false
   },
   "outputs": [],
   "source": [
    "missed_terms_df = search_df[df['trend'].apply(lambda trend: is_missed(trend))]"
   ]
  },
  {
   "cell_type": "code",
   "execution_count": 267,
   "metadata": {
    "collapsed": false
   },
   "outputs": [
    {
     "data": {
      "text/html": [
       "<div>\n",
       "<table border=\"1\" class=\"dataframe\">\n",
       "  <thead>\n",
       "    <tr style=\"text-align: right;\">\n",
       "      <th></th>\n",
       "      <th>trend</th>\n",
       "      <th>total_volume</th>\n",
       "      <th>social_buzz</th>\n",
       "      <th>more_social</th>\n",
       "      <th>one_word</th>\n",
       "    </tr>\n",
       "  </thead>\n",
       "  <tbody>\n",
       "    <tr>\n",
       "      <th>6</th>\n",
       "      <td>billboardmusicawards</td>\n",
       "      <td>1260</td>\n",
       "      <td>5</td>\n",
       "      <td>False</td>\n",
       "      <td>True</td>\n",
       "    </tr>\n",
       "    <tr>\n",
       "      <th>24</th>\n",
       "      <td>mtvmovieawards</td>\n",
       "      <td>7090</td>\n",
       "      <td>1003</td>\n",
       "      <td>False</td>\n",
       "      <td>True</td>\n",
       "    </tr>\n",
       "    <tr>\n",
       "      <th>65</th>\n",
       "      <td>criticschoiceawards</td>\n",
       "      <td>230</td>\n",
       "      <td>3</td>\n",
       "      <td>False</td>\n",
       "      <td>True</td>\n",
       "    </tr>\n",
       "    <tr>\n",
       "      <th>90</th>\n",
       "      <td>cannesfilmfestival</td>\n",
       "      <td>690</td>\n",
       "      <td>5</td>\n",
       "      <td>False</td>\n",
       "      <td>True</td>\n",
       "    </tr>\n",
       "    <tr>\n",
       "      <th>96</th>\n",
       "      <td>mtvvma</td>\n",
       "      <td>5170</td>\n",
       "      <td>3</td>\n",
       "      <td>False</td>\n",
       "      <td>True</td>\n",
       "    </tr>\n",
       "    <tr>\n",
       "      <th>133</th>\n",
       "      <td>tonyawards</td>\n",
       "      <td>3850</td>\n",
       "      <td>23</td>\n",
       "      <td>False</td>\n",
       "      <td>True</td>\n",
       "    </tr>\n",
       "    <tr>\n",
       "      <th>236</th>\n",
       "      <td>academyawards</td>\n",
       "      <td>2760</td>\n",
       "      <td>4</td>\n",
       "      <td>False</td>\n",
       "      <td>True</td>\n",
       "    </tr>\n",
       "    <tr>\n",
       "      <th>248</th>\n",
       "      <td>teenchoiceawards</td>\n",
       "      <td>22320</td>\n",
       "      <td>0</td>\n",
       "      <td>False</td>\n",
       "      <td>True</td>\n",
       "    </tr>\n",
       "    <tr>\n",
       "      <th>432</th>\n",
       "      <td>peopleschoiceawards</td>\n",
       "      <td>1270</td>\n",
       "      <td>0</td>\n",
       "      <td>False</td>\n",
       "      <td>True</td>\n",
       "    </tr>\n",
       "    <tr>\n",
       "      <th>676</th>\n",
       "      <td>betawards</td>\n",
       "      <td>31550</td>\n",
       "      <td>1</td>\n",
       "      <td>False</td>\n",
       "      <td>True</td>\n",
       "    </tr>\n",
       "    <tr>\n",
       "      <th>1162</th>\n",
       "      <td>goldenglobe</td>\n",
       "      <td>3330</td>\n",
       "      <td>22</td>\n",
       "      <td>False</td>\n",
       "      <td>True</td>\n",
       "    </tr>\n",
       "    <tr>\n",
       "      <th>1664</th>\n",
       "      <td>baftas</td>\n",
       "      <td>135200</td>\n",
       "      <td>78</td>\n",
       "      <td>False</td>\n",
       "      <td>True</td>\n",
       "    </tr>\n",
       "    <tr>\n",
       "      <th>1753</th>\n",
       "      <td>goldenglobes</td>\n",
       "      <td>3890</td>\n",
       "      <td>21</td>\n",
       "      <td>False</td>\n",
       "      <td>True</td>\n",
       "    </tr>\n",
       "    <tr>\n",
       "      <th>1956</th>\n",
       "      <td>nyfw</td>\n",
       "      <td>197800</td>\n",
       "      <td>968</td>\n",
       "      <td>False</td>\n",
       "      <td>True</td>\n",
       "    </tr>\n",
       "    <tr>\n",
       "      <th>1974</th>\n",
       "      <td>peopleschoice</td>\n",
       "      <td>44400</td>\n",
       "      <td>1</td>\n",
       "      <td>False</td>\n",
       "      <td>True</td>\n",
       "    </tr>\n",
       "    <tr>\n",
       "      <th>2265</th>\n",
       "      <td>babybump</td>\n",
       "      <td>58400</td>\n",
       "      <td>324</td>\n",
       "      <td>False</td>\n",
       "      <td>True</td>\n",
       "    </tr>\n",
       "    <tr>\n",
       "      <th>2323</th>\n",
       "      <td>vmas</td>\n",
       "      <td>880500</td>\n",
       "      <td>22</td>\n",
       "      <td>False</td>\n",
       "      <td>True</td>\n",
       "    </tr>\n",
       "    <tr>\n",
       "      <th>2535</th>\n",
       "      <td>cmts</td>\n",
       "      <td>108400</td>\n",
       "      <td>0</td>\n",
       "      <td>False</td>\n",
       "      <td>True</td>\n",
       "    </tr>\n",
       "    <tr>\n",
       "      <th>2653</th>\n",
       "      <td>pcas</td>\n",
       "      <td>86400</td>\n",
       "      <td>0</td>\n",
       "      <td>False</td>\n",
       "      <td>True</td>\n",
       "    </tr>\n",
       "    <tr>\n",
       "      <th>3050</th>\n",
       "      <td>emmys</td>\n",
       "      <td>784800</td>\n",
       "      <td>82</td>\n",
       "      <td>False</td>\n",
       "      <td>True</td>\n",
       "    </tr>\n",
       "    <tr>\n",
       "      <th>3197</th>\n",
       "      <td>cmas</td>\n",
       "      <td>280000</td>\n",
       "      <td>9</td>\n",
       "      <td>False</td>\n",
       "      <td>True</td>\n",
       "    </tr>\n",
       "    <tr>\n",
       "      <th>3360</th>\n",
       "      <td>brits</td>\n",
       "      <td>276400</td>\n",
       "      <td>74</td>\n",
       "      <td>False</td>\n",
       "      <td>True</td>\n",
       "    </tr>\n",
       "    <tr>\n",
       "      <th>3469</th>\n",
       "      <td>tonys</td>\n",
       "      <td>272300</td>\n",
       "      <td>3</td>\n",
       "      <td>False</td>\n",
       "      <td>True</td>\n",
       "    </tr>\n",
       "    <tr>\n",
       "      <th>3642</th>\n",
       "      <td>bafta</td>\n",
       "      <td>581000</td>\n",
       "      <td>66</td>\n",
       "      <td>False</td>\n",
       "      <td>True</td>\n",
       "    </tr>\n",
       "    <tr>\n",
       "      <th>4032</th>\n",
       "      <td>vma</td>\n",
       "      <td>1881000</td>\n",
       "      <td>19</td>\n",
       "      <td>False</td>\n",
       "      <td>True</td>\n",
       "    </tr>\n",
       "    <tr>\n",
       "      <th>4298</th>\n",
       "      <td>grammys</td>\n",
       "      <td>2135300</td>\n",
       "      <td>87</td>\n",
       "      <td>False</td>\n",
       "      <td>True</td>\n",
       "    </tr>\n",
       "    <tr>\n",
       "      <th>4440</th>\n",
       "      <td>oscars</td>\n",
       "      <td>5067500</td>\n",
       "      <td>296</td>\n",
       "      <td>False</td>\n",
       "      <td>True</td>\n",
       "    </tr>\n",
       "    <tr>\n",
       "      <th>4470</th>\n",
       "      <td>cmt</td>\n",
       "      <td>2265000</td>\n",
       "      <td>50</td>\n",
       "      <td>False</td>\n",
       "      <td>True</td>\n",
       "    </tr>\n",
       "    <tr>\n",
       "      <th>4510</th>\n",
       "      <td>cannes</td>\n",
       "      <td>4060000</td>\n",
       "      <td>465</td>\n",
       "      <td>False</td>\n",
       "      <td>True</td>\n",
       "    </tr>\n",
       "    <tr>\n",
       "      <th>4570</th>\n",
       "      <td>cma</td>\n",
       "      <td>2311000</td>\n",
       "      <td>35</td>\n",
       "      <td>False</td>\n",
       "      <td>True</td>\n",
       "    </tr>\n",
       "    <tr>\n",
       "      <th>4696</th>\n",
       "      <td>bump</td>\n",
       "      <td>1782000</td>\n",
       "      <td>1393</td>\n",
       "      <td>False</td>\n",
       "      <td>True</td>\n",
       "    </tr>\n",
       "    <tr>\n",
       "      <th>4740</th>\n",
       "      <td>alma</td>\n",
       "      <td>2981000</td>\n",
       "      <td>141</td>\n",
       "      <td>False</td>\n",
       "      <td>True</td>\n",
       "    </tr>\n",
       "    <tr>\n",
       "      <th>4863</th>\n",
       "      <td>maternity</td>\n",
       "      <td>7134000</td>\n",
       "      <td>1599</td>\n",
       "      <td>False</td>\n",
       "      <td>True</td>\n",
       "    </tr>\n",
       "    <tr>\n",
       "      <th>5011</th>\n",
       "      <td>pregnancy</td>\n",
       "      <td>7553000</td>\n",
       "      <td>1877</td>\n",
       "      <td>False</td>\n",
       "      <td>True</td>\n",
       "    </tr>\n",
       "  </tbody>\n",
       "</table>\n",
       "</div>"
      ],
      "text/plain": [
       "                     trend  total_volume  social_buzz more_social one_word\n",
       "6     billboardmusicawards          1260            5       False     True\n",
       "24          mtvmovieawards          7090         1003       False     True\n",
       "65     criticschoiceawards           230            3       False     True\n",
       "90      cannesfilmfestival           690            5       False     True\n",
       "96                  mtvvma          5170            3       False     True\n",
       "133             tonyawards          3850           23       False     True\n",
       "236          academyawards          2760            4       False     True\n",
       "248       teenchoiceawards         22320            0       False     True\n",
       "432    peopleschoiceawards          1270            0       False     True\n",
       "676              betawards         31550            1       False     True\n",
       "1162           goldenglobe          3330           22       False     True\n",
       "1664                baftas        135200           78       False     True\n",
       "1753          goldenglobes          3890           21       False     True\n",
       "1956                  nyfw        197800          968       False     True\n",
       "1974         peopleschoice         44400            1       False     True\n",
       "2265              babybump         58400          324       False     True\n",
       "2323                  vmas        880500           22       False     True\n",
       "2535                  cmts        108400            0       False     True\n",
       "2653                  pcas         86400            0       False     True\n",
       "3050                 emmys        784800           82       False     True\n",
       "3197                  cmas        280000            9       False     True\n",
       "3360                 brits        276400           74       False     True\n",
       "3469                 tonys        272300            3       False     True\n",
       "3642                 bafta        581000           66       False     True\n",
       "4032                   vma       1881000           19       False     True\n",
       "4298               grammys       2135300           87       False     True\n",
       "4440                oscars       5067500          296       False     True\n",
       "4470                   cmt       2265000           50       False     True\n",
       "4510                cannes       4060000          465       False     True\n",
       "4570                   cma       2311000           35       False     True\n",
       "4696                  bump       1782000         1393       False     True\n",
       "4740                  alma       2981000          141       False     True\n",
       "4863             maternity       7134000         1599       False     True\n",
       "5011             pregnancy       7553000         1877       False     True"
      ]
     },
     "execution_count": 267,
     "metadata": {},
     "output_type": "execute_result"
    }
   ],
   "source": [
    "missed_terms_df"
   ]
  },
  {
   "cell_type": "markdown",
   "metadata": {},
   "source": [
    "### Next steps\n",
    "\n",
    "- take out urban dictionary and see how accurate it is \n",
    "- Reduce the number of things we're searching for that have no search volume since they're hashtags. Reducing the number of unnecessary search terms, or at least reducing the frequency of pulling in search volume for these terms, will help us reduce our costs. \n",
    "- Make hashtags searchable (clients can search for hashtags). This seems important since we're now creating specific categories for hashtags such \"Maternity hashtags\". \n",
    "- accuracy more current search volume"
   ]
  }
 ],
 "metadata": {
  "kernelspec": {
   "display_name": "Python 2",
   "language": "python",
   "name": "python2"
  },
  "language_info": {
   "codemirror_mode": {
    "name": "ipython",
    "version": 2
   },
   "file_extension": ".py",
   "mimetype": "text/x-python",
   "name": "python",
   "nbconvert_exporter": "python",
   "pygments_lexer": "ipython2",
   "version": "2.7.11"
  }
 },
 "nbformat": 4,
 "nbformat_minor": 0
}
