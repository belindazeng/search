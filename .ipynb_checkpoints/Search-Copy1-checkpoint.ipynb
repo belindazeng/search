{
 "cells": [
  {
   "cell_type": "markdown",
   "metadata": {},
   "source": [
    "## Search\n",
    "\n",
    "### Overview and Feature Justification\n",
    "\n",
    "This project is centered around finding unnecessary search terms. We can reduce our costs by reducing the number of api calls we're making on these unnecessary terms. \n",
    "\n",
    "### Process\n",
    "\n",
    "Is it a hashtag? Is it a term that just retailers use? We can look at social buzz and retail distribution to give us more insight. We can also double check to make sure our customers aren't searching for these terms.\n",
    "<img src=\"flow.png\" width=\"500\">"
   ]
  },
  {
   "cell_type": "markdown",
   "metadata": {},
   "source": [
    "### Initial setup\n",
    "Import appropriate libraries, read in the CSV, delete unnecessary columns, and sort by total volume"
   ]
  },
  {
   "cell_type": "code",
   "execution_count": 1,
   "metadata": {
    "collapsed": true
   },
   "outputs": [],
   "source": [
    "# pandas setup\n",
    "%matplotlib inline\n",
    "import numpy as np\n",
    "import scipy as sp\n",
    "import matplotlib as mpl\n",
    "import matplotlib.cm as cm\n",
    "import matplotlib.pyplot as plt\n",
    "import pandas as pd\n",
    "pd.set_option('display.width', 500)\n",
    "pd.set_option('display.max_columns', 100)\n",
    "pd.set_option('display.notebook_repr_html', True)\n",
    "import seaborn as sns\n",
    "sns.set_style(\"whitegrid\")\n",
    "sns.set_context(\"poster\")\n",
    "import time"
   ]
  },
  {
   "cell_type": "code",
   "execution_count": 2,
   "metadata": {
    "collapsed": false
   },
   "outputs": [
    {
     "data": {
      "text/html": [
       "<div>\n",
       "<table border=\"1\" class=\"dataframe\">\n",
       "  <thead>\n",
       "    <tr style=\"text-align: right;\">\n",
       "      <th></th>\n",
       "      <th>trend</th>\n",
       "      <th>total_volume</th>\n",
       "    </tr>\n",
       "  </thead>\n",
       "  <tbody>\n",
       "    <tr>\n",
       "      <th>0</th>\n",
       "      <td>duchesse satin gown</td>\n",
       "      <td>0</td>\n",
       "    </tr>\n",
       "    <tr>\n",
       "      <th>1</th>\n",
       "      <td>saksutopia</td>\n",
       "      <td>0</td>\n",
       "    </tr>\n",
       "    <tr>\n",
       "      <th>2</th>\n",
       "      <td>oscars2016</td>\n",
       "      <td>0</td>\n",
       "    </tr>\n",
       "    <tr>\n",
       "      <th>3</th>\n",
       "      <td>studded apparel</td>\n",
       "      <td>90</td>\n",
       "    </tr>\n",
       "    <tr>\n",
       "      <th>4</th>\n",
       "      <td>pompon charm</td>\n",
       "      <td>0</td>\n",
       "    </tr>\n",
       "    <tr>\n",
       "      <th>5</th>\n",
       "      <td>cfdaawards</td>\n",
       "      <td>480</td>\n",
       "    </tr>\n",
       "    <tr>\n",
       "      <th>6</th>\n",
       "      <td>billboardmusicawards</td>\n",
       "      <td>1260</td>\n",
       "    </tr>\n",
       "    <tr>\n",
       "      <th>7</th>\n",
       "      <td>wool crepe jacket</td>\n",
       "      <td>180</td>\n",
       "    </tr>\n",
       "    <tr>\n",
       "      <th>8</th>\n",
       "      <td>foil gown</td>\n",
       "      <td>280</td>\n",
       "    </tr>\n",
       "    <tr>\n",
       "      <th>9</th>\n",
       "      <td>loose cut trousers</td>\n",
       "      <td>100</td>\n",
       "    </tr>\n",
       "  </tbody>\n",
       "</table>\n",
       "</div>"
      ],
      "text/plain": [
       "                  trend  total_volume\n",
       "0   duchesse satin gown             0\n",
       "1            saksutopia             0\n",
       "2            oscars2016             0\n",
       "3       studded apparel            90\n",
       "4          pompon charm             0\n",
       "5            cfdaawards           480\n",
       "6  billboardmusicawards          1260\n",
       "7     wool crepe jacket           180\n",
       "8             foil gown           280\n",
       "9    loose cut trousers           100"
      ]
     },
     "execution_count": 2,
     "metadata": {},
     "output_type": "execute_result"
    }
   ],
   "source": [
    "# read in csv\n",
    "search_df=pd.read_csv(\"search.csv\")\n",
    "\n",
    "#remove irrelevant columns\n",
    "search_df.drop(search_df.columns[[12,13,14,15]], axis=1, inplace=True)\n",
    "search_df.head(10)\n",
    "search_df['total_volume'] = search_df.sum(axis=1)\n",
    "search_df.drop(search_df.columns[[1,2,3,4,5,6,7,8,9,10,11]], axis=1, inplace=True)\n",
    "\n",
    "# display first 10 rows\n",
    "search_df.head(10)"
   ]
  },
  {
   "cell_type": "markdown",
   "metadata": {},
   "source": [
    "### Helper Functions"
   ]
  },
  {
   "cell_type": "code",
   "execution_count": null,
   "metadata": {
    "collapsed": true
   },
   "outputs": [],
   "source": [
    "def get_social_buzz(term):\n",
    "    \n",
    "    # base API endpoint url\n",
    "    base_url = \"https://api.trendalytics.co/v1/brand/posts/latest?brand=&limit=50&order=desc&period=2016-03-21:2016-04-19&platform=facebook,pinterest,twitter,instagram,tumblr&q=\"\n",
    "    # convert term like 'pink wedding dress' to 'pink+wedding+dress'\n",
    "    encoded_term = urllib.quote_plus(term)\n",
    "    base_end_url = \"&sort=total\"\n",
    "    url = base_url + encoded_term + base_end_url\n",
    "    \n",
    "    # set authorization\n",
    "    headers = {'authorization': 'NGRiZmUzMzktZTg4Ny00MTE4LWIyNzgtZTcwNWQxYjE3NzZmOnZWRDBPLzVDR3FCWllGQUtSZnphWVBDNWJJdz0='}\n",
    "     \n",
    "    # get response\n",
    "    response = requests.get(url, headers=headers)\n",
    "    response_json = json.loads(response.text)\n",
    "    \n",
    "    # get the number of total posts from response json\n",
    "    total_posts = 0\n",
    "    for platform_stats in response_json[\"facets\"][\"platformStatsFacet\"][\"terms\"]:\n",
    "        platform_total_posts = platform_stats[\"total_count\"]\n",
    "        total_posts = total_posts + platform_total_posts\n",
    "\n",
    "    return total_posts"
   ]
  },
  {
   "cell_type": "code",
   "execution_count": 6,
   "metadata": {
    "collapsed": false
   },
   "outputs": [
    {
     "data": {
      "text/html": [
       "<div>\n",
       "<table border=\"1\" class=\"dataframe\">\n",
       "  <thead>\n",
       "    <tr style=\"text-align: right;\">\n",
       "      <th></th>\n",
       "      <th>trend</th>\n",
       "      <th>total_volume</th>\n",
       "    </tr>\n",
       "  </thead>\n",
       "  <tbody>\n",
       "    <tr>\n",
       "      <th>0</th>\n",
       "      <td>duchesse satin gown</td>\n",
       "      <td>0</td>\n",
       "    </tr>\n",
       "    <tr>\n",
       "      <th>5620</th>\n",
       "      <td>nordstromyvr</td>\n",
       "      <td>0</td>\n",
       "    </tr>\n",
       "    <tr>\n",
       "      <th>5618</th>\n",
       "      <td>pleated long skirt</td>\n",
       "      <td>0</td>\n",
       "    </tr>\n",
       "    <tr>\n",
       "      <th>5489</th>\n",
       "      <td>hanbang mask pack</td>\n",
       "      <td>0</td>\n",
       "    </tr>\n",
       "    <tr>\n",
       "      <th>5490</th>\n",
       "      <td>mens braided melt</td>\n",
       "      <td>0</td>\n",
       "    </tr>\n",
       "    <tr>\n",
       "      <th>5494</th>\n",
       "      <td>cold shoulder mock neck top</td>\n",
       "      <td>0</td>\n",
       "    </tr>\n",
       "    <tr>\n",
       "      <th>5495</th>\n",
       "      <td>cherry red sequin</td>\n",
       "      <td>0</td>\n",
       "    </tr>\n",
       "    <tr>\n",
       "      <th>5623</th>\n",
       "      <td>patent gown</td>\n",
       "      <td>0</td>\n",
       "    </tr>\n",
       "    <tr>\n",
       "      <th>5498</th>\n",
       "      <td>twin cake pact</td>\n",
       "      <td>0</td>\n",
       "    </tr>\n",
       "    <tr>\n",
       "      <th>5502</th>\n",
       "      <td>wrap front gown</td>\n",
       "      <td>0</td>\n",
       "    </tr>\n",
       "  </tbody>\n",
       "</table>\n",
       "</div>"
      ],
      "text/plain": [
       "                            trend  total_volume\n",
       "0             duchesse satin gown             0\n",
       "5620                 nordstromyvr             0\n",
       "5618           pleated long skirt             0\n",
       "5489            hanbang mask pack             0\n",
       "5490            mens braided melt             0\n",
       "5494  cold shoulder mock neck top             0\n",
       "5495            cherry red sequin             0\n",
       "5623                  patent gown             0\n",
       "5498               twin cake pact             0\n",
       "5502              wrap front gown             0"
      ]
     },
     "execution_count": 6,
     "metadata": {},
     "output_type": "execute_result"
    }
   ],
   "source": [
    "# sort the df by total_volume\n",
    "sorted_search_df = search_df.sort('total_volume', ascending=True)\n",
    "\n",
    "sorted_search_df.head(10)"
   ]
  },
  {
   "cell_type": "code",
   "execution_count": 7,
   "metadata": {
    "collapsed": false
   },
   "outputs": [
    {
     "data": {
      "text/plain": [
       "count    5.656000e+03\n",
       "mean     1.228152e+06\n",
       "std      6.786063e+06\n",
       "min      0.000000e+00\n",
       "25%      9.605000e+03\n",
       "50%      6.405000e+04\n",
       "75%      3.817000e+05\n",
       "max      2.794000e+08\n",
       "Name: total_volume, dtype: float64"
      ]
     },
     "execution_count": 7,
     "metadata": {},
     "output_type": "execute_result"
    }
   ],
   "source": [
    "# get stats on search volume\n",
    "sorted_search_df['total_volume'].describe()"
   ]
  },
  {
   "cell_type": "code",
   "execution_count": 8,
   "metadata": {
    "collapsed": false
   },
   "outputs": [
    {
     "data": {
      "image/png": "[encoded data removed]",
      "text/plain": [
       "<matplotlib.figure.Figure at 0x109c47810>"
      ]
     },
     "metadata": {},
     "output_type": "display_data"
    }
   ],
   "source": [
    "# plot what this looks like\n",
    "total_volume=np.array(sorted_search_df.total_volume)\n",
    "plt.figure()\n",
    "plt.hist(total_volume, alpha=.8, color='y', bins=500, label=\"total search volume\")\n",
    "plt.xlabel('Search volume')\n",
    "plt.ylabel('Frequency')\n",
    "plt.title('Total Search Volume Distribution')\n",
    "plt.legend()\n",
    "plt.show()"
   ]
  },
  {
   "cell_type": "markdown",
   "metadata": {},
   "source": [
    "Looks like there are a ton of searches with very little volume, and very few searches with a ton of volume (which sees to make sense)"
   ]
  },
  {
   "cell_type": "markdown",
   "metadata": {},
   "source": [
    "## What's the difference between NaN and 0 search volume?"
   ]
  },
  {
   "cell_type": "markdown",
   "metadata": {},
   "source": [
    "### Another way to do this is to do comparisons..."
   ]
  },
  {
   "cell_type": "markdown",
   "metadata": {},
   "source": [
    "### Finding insignificant searches"
   ]
  },
  {
   "cell_type": "markdown",
   "metadata": {},
   "source": [
    "Keep track of whether there are insignificant searches"
   ]
  },
  {
   "cell_type": "code",
   "execution_count": 9,
   "metadata": {
    "collapsed": false
   },
   "outputs": [
    {
     "name": "stdout",
     "output_type": "stream",
     "text": [
      "low search value:367.5\n"
     ]
    },
    {
     "data": {
      "text/html": [
       "<div>\n",
       "<table border=\"1\" class=\"dataframe\">\n",
       "  <thead>\n",
       "    <tr style=\"text-align: right;\">\n",
       "      <th></th>\n",
       "      <th>trend</th>\n",
       "      <th>total_volume</th>\n",
       "    </tr>\n",
       "  </thead>\n",
       "  <tbody>\n",
       "    <tr>\n",
       "      <th>0</th>\n",
       "      <td>duchesse satin gown</td>\n",
       "      <td>0</td>\n",
       "    </tr>\n",
       "    <tr>\n",
       "      <th>5620</th>\n",
       "      <td>nordstromyvr</td>\n",
       "      <td>0</td>\n",
       "    </tr>\n",
       "    <tr>\n",
       "      <th>5618</th>\n",
       "      <td>pleated long skirt</td>\n",
       "      <td>0</td>\n",
       "    </tr>\n",
       "    <tr>\n",
       "      <th>5489</th>\n",
       "      <td>hanbang mask pack</td>\n",
       "      <td>0</td>\n",
       "    </tr>\n",
       "    <tr>\n",
       "      <th>5490</th>\n",
       "      <td>mens braided melt</td>\n",
       "      <td>0</td>\n",
       "    </tr>\n",
       "    <tr>\n",
       "      <th>5494</th>\n",
       "      <td>cold shoulder mock neck top</td>\n",
       "      <td>0</td>\n",
       "    </tr>\n",
       "    <tr>\n",
       "      <th>5495</th>\n",
       "      <td>cherry red sequin</td>\n",
       "      <td>0</td>\n",
       "    </tr>\n",
       "    <tr>\n",
       "      <th>5623</th>\n",
       "      <td>patent gown</td>\n",
       "      <td>0</td>\n",
       "    </tr>\n",
       "    <tr>\n",
       "      <th>5498</th>\n",
       "      <td>twin cake pact</td>\n",
       "      <td>0</td>\n",
       "    </tr>\n",
       "    <tr>\n",
       "      <th>5502</th>\n",
       "      <td>wrap front gown</td>\n",
       "      <td>0</td>\n",
       "    </tr>\n",
       "  </tbody>\n",
       "</table>\n",
       "</div>"
      ],
      "text/plain": [
       "                            trend  total_volume\n",
       "0             duchesse satin gown             0\n",
       "5620                 nordstromyvr             0\n",
       "5618           pleated long skirt             0\n",
       "5489            hanbang mask pack             0\n",
       "5490            mens braided melt             0\n",
       "5494  cold shoulder mock neck top             0\n",
       "5495            cherry red sequin             0\n",
       "5623                  patent gown             0\n",
       "5498               twin cake pact             0\n",
       "5502              wrap front gown             0"
      ]
     },
     "execution_count": 9,
     "metadata": {},
     "output_type": "execute_result"
    }
   ],
   "source": [
    "# get the bottom 5 percentile in terms of search volume\n",
    "low_search_value = sorted_search_df.total_volume.quantile(0.05)\n",
    "print \"low search value:\" + str(low_search_value)\n",
    "# create new df with low searches\n",
    "low_search_df = sorted_search_df[sorted_search_df.total_volume < low_search_value]\n",
    "low_search_df.head(10)"
   ]
  },
  {
   "cell_type": "code",
   "execution_count": 10,
   "metadata": {
    "collapsed": true
   },
   "outputs": [],
   "source": [
    "# save work to a csv file\n",
    "low_search_df.to_csv('lowsearch-hashtags.csv')"
   ]
  },
  {
   "cell_type": "markdown",
   "metadata": {},
   "source": [
    "### Classify these insignificant searches"
   ]
  },
  {
   "cell_type": "markdown",
   "metadata": {},
   "source": [
    "Is it a hashtag? Is it a term that just retailers use? We can look at social buzz and retail distribution to give us more insight. We can also double check to make sure our customers aren't searching for these terms.\n",
    "<img src=\"flow.png\" width=\"500\">"
   ]
  },
  {
   "cell_type": "markdown",
   "metadata": {},
   "source": [
    "#### Do they have social buzz?"
   ]
  },
  {
   "cell_type": "markdown",
   "metadata": {},
   "source": [
    "Determine whether these have social buzz"
   ]
  },
  {
   "cell_type": "code",
   "execution_count": 11,
   "metadata": {
    "collapsed": true
   },
   "outputs": [],
   "source": [
    "import requests\n",
    "import json\n",
    "import urllib"
   ]
  },
  {
   "cell_type": "code",
   "execution_count": 12,
   "metadata": {
    "collapsed": false
   },
   "outputs": [],
   "source": [
    "# gets total number of posts\n",
    "# for now just gets the associated json\n",
    "def get_social_buzz(term):\n",
    "    \n",
    "    # base API endpoint url\n",
    "    base_url = \"https://api.trendalytics.co/v1/brand/posts/latest?brand=&limit=50&order=desc&period=2016-03-21:2016-04-19&platform=facebook,pinterest,twitter,instagram,tumblr&q=\"\n",
    "    # convert term like 'pink wedding dress' to 'pink+wedding+dress'\n",
    "    encoded_term = urllib.quote_plus(term)\n",
    "    base_end_url = \"&sort=total\"\n",
    "    url = base_url + encoded_term + base_end_url\n",
    "    \n",
    "    # set authorization\n",
    "    headers = {'authorization': 'NGRiZmUzMzktZTg4Ny00MTE4LWIyNzgtZTcwNWQxYjE3NzZmOnZWRDBPLzVDR3FCWllGQUtSZnphWVBDNWJJdz0='}\n",
    "     \n",
    "    # get response\n",
    "    response = requests.get(url, headers=headers)\n",
    "    response_json = json.loads(response.text)\n",
    "    \n",
    "    # get the number of total posts from response json\n",
    "    total_posts = 0\n",
    "    for platform_stats in response_json[\"facets\"][\"platformStatsFacet\"][\"terms\"]:\n",
    "        platform_total_posts = platform_stats[\"total_count\"]\n",
    "        total_posts = total_posts + platform_total_posts\n",
    "\n",
    "    return total_posts"
   ]
  },
  {
   "cell_type": "code",
   "execution_count": 13,
   "metadata": {
    "collapsed": false
   },
   "outputs": [],
   "source": [
    "# get total posts from all with low social\n",
    "social_buzz = []\n",
    "for term in low_search_df[\"trend\"]:\n",
    "    total_posts = get_social_buzz(term)\n",
    "    social_buzz.append(total_posts)"
   ]
  },
  {
   "cell_type": "code",
   "execution_count": 14,
   "metadata": {
    "collapsed": false
   },
   "outputs": [],
   "source": [
    "# low_search_df.drop('social_buzz', 1)"
   ]
  },
  {
   "cell_type": "code",
   "execution_count": 15,
   "metadata": {
    "collapsed": false
   },
   "outputs": [
    {
     "name": "stderr",
     "output_type": "stream",
     "text": [
      "/Users/eden/anaconda/lib/python2.7/site-packages/pandas/core/indexing.py:249: SettingWithCopyWarning: \n",
      "A value is trying to be set on a copy of a slice from a DataFrame.\n",
      "Try using .loc[row_indexer,col_indexer] = value instead\n",
      "\n",
      "See the the caveats in the documentation: http://pandas.pydata.org/pandas-docs/stable/indexing.html#indexing-view-versus-copy\n",
      "  self.obj[key] = _infer_fill_value(value)\n",
      "/Users/eden/anaconda/lib/python2.7/site-packages/pandas/core/indexing.py:415: SettingWithCopyWarning: \n",
      "A value is trying to be set on a copy of a slice from a DataFrame.\n",
      "Try using .loc[row_indexer,col_indexer] = value instead\n",
      "\n",
      "See the the caveats in the documentation: http://pandas.pydata.org/pandas-docs/stable/indexing.html#indexing-view-versus-copy\n",
      "  self.obj[item] = s\n"
     ]
    },
    {
     "data": {
      "text/html": [
       "<div>\n",
       "<table border=\"1\" class=\"dataframe\">\n",
       "  <thead>\n",
       "    <tr style=\"text-align: right;\">\n",
       "      <th></th>\n",
       "      <th>trend</th>\n",
       "      <th>total_volume</th>\n",
       "      <th>social_buzz</th>\n",
       "    </tr>\n",
       "  </thead>\n",
       "  <tbody>\n",
       "    <tr>\n",
       "      <th>5358</th>\n",
       "      <td>mixed media satchel</td>\n",
       "      <td>0</td>\n",
       "      <td>0</td>\n",
       "    </tr>\n",
       "    <tr>\n",
       "      <th>130</th>\n",
       "      <td>crocodile embossed bag</td>\n",
       "      <td>70</td>\n",
       "      <td>0</td>\n",
       "    </tr>\n",
       "    <tr>\n",
       "      <th>104</th>\n",
       "      <td>cable knit nail</td>\n",
       "      <td>80</td>\n",
       "      <td>0</td>\n",
       "    </tr>\n",
       "    <tr>\n",
       "      <th>17</th>\n",
       "      <td>levis womens denim</td>\n",
       "      <td>90</td>\n",
       "      <td>0</td>\n",
       "    </tr>\n",
       "    <tr>\n",
       "      <th>34</th>\n",
       "      <td>extreme spread collar dress shirt</td>\n",
       "      <td>90</td>\n",
       "      <td>0</td>\n",
       "    </tr>\n",
       "  </tbody>\n",
       "</table>\n",
       "</div>"
      ],
      "text/plain": [
       "                                  trend  total_volume  social_buzz\n",
       "5358                mixed media satchel             0            0\n",
       "130              crocodile embossed bag            70            0\n",
       "104                     cable knit nail            80            0\n",
       "17                   levis womens denim            90            0\n",
       "34    extreme spread collar dress shirt            90            0"
      ]
     },
     "execution_count": 15,
     "metadata": {},
     "output_type": "execute_result"
    }
   ],
   "source": [
    "# add the social buzz column\n",
    "low_search_df.loc[:,'social_buzz'] = social_buzz\n",
    "# sort the df by total_volume\n",
    "sorted_social_df = low_search_df.sort('social_buzz', ascending=True)\n",
    "sorted_social_df.head(5)"
   ]
  },
  {
   "cell_type": "markdown",
   "metadata": {},
   "source": [
    "interestingly enough, looks like the majority of these with no search volume actually don't have any social media buzz either"
   ]
  },
  {
   "cell_type": "code",
   "execution_count": 16,
   "metadata": {
    "collapsed": false
   },
   "outputs": [
    {
     "data": {
      "text/plain": [
       "count    283.000000\n",
       "mean      10.950530\n",
       "std       67.376346\n",
       "min        0.000000\n",
       "25%        0.000000\n",
       "50%        0.000000\n",
       "75%        0.000000\n",
       "max      896.000000\n",
       "Name: social_buzz, dtype: float64"
      ]
     },
     "execution_count": 16,
     "metadata": {},
     "output_type": "execute_result"
    }
   ],
   "source": [
    "sorted_social_df[\"social_buzz\"].describe()"
   ]
  },
  {
   "cell_type": "markdown",
   "metadata": {},
   "source": [
    "to graph what this looks like"
   ]
  },
  {
   "cell_type": "code",
   "execution_count": 17,
   "metadata": {
    "collapsed": false
   },
   "outputs": [
    {
     "data": {
      "image/png": "[encoded data removed]",
      "text/plain": [
       "<matplotlib.figure.Figure at 0x10b490c90>"
      ]
     },
     "metadata": {},
     "output_type": "display_data"
    }
   ],
   "source": [
    "# plot what this looks like\n",
    "total_social=np.array(sorted_social_df.social_buzz)\n",
    "plt.figure()\n",
    "plt.hist(total_social, alpha=.8, color='g', bins=20, label=\"total social posts\")\n",
    "plt.xlabel('# social posts')\n",
    "plt.ylabel('Frequency')\n",
    "plt.title('Total Social Buzz Distribution')\n",
    "plt.legend()\n",
    "plt.show()"
   ]
  },
  {
   "cell_type": "markdown",
   "metadata": {},
   "source": [
    "The majority of our terms with low search volume, also have low social buzz (according to the stats below, literally 81%!) \n",
    "### Eventually need a more sophisticated mechanism for figuring out whether the other 19% are hashtags or not"
   ]
  },
  {
   "cell_type": "code",
   "execution_count": 19,
   "metadata": {
    "collapsed": false
   },
   "outputs": [
    {
     "name": "stdout",
     "output_type": "stream",
     "text": [
      "low social value:0.0\n"
     ]
    },
    {
     "data": {
      "text/html": [
       "<div>\n",
       "<table border=\"1\" class=\"dataframe\">\n",
       "  <thead>\n",
       "    <tr style=\"text-align: right;\">\n",
       "      <th></th>\n",
       "      <th>trend</th>\n",
       "      <th>total_volume</th>\n",
       "      <th>social_buzz</th>\n",
       "      <th>low_social</th>\n",
       "    </tr>\n",
       "  </thead>\n",
       "  <tbody>\n",
       "    <tr>\n",
       "      <th>5358</th>\n",
       "      <td>mixed media satchel</td>\n",
       "      <td>0</td>\n",
       "      <td>0</td>\n",
       "      <td>True</td>\n",
       "    </tr>\n",
       "    <tr>\n",
       "      <th>130</th>\n",
       "      <td>crocodile embossed bag</td>\n",
       "      <td>70</td>\n",
       "      <td>0</td>\n",
       "      <td>True</td>\n",
       "    </tr>\n",
       "    <tr>\n",
       "      <th>104</th>\n",
       "      <td>cable knit nail</td>\n",
       "      <td>80</td>\n",
       "      <td>0</td>\n",
       "      <td>True</td>\n",
       "    </tr>\n",
       "    <tr>\n",
       "      <th>17</th>\n",
       "      <td>levis womens denim</td>\n",
       "      <td>90</td>\n",
       "      <td>0</td>\n",
       "      <td>True</td>\n",
       "    </tr>\n",
       "    <tr>\n",
       "      <th>34</th>\n",
       "      <td>extreme spread collar dress shirt</td>\n",
       "      <td>90</td>\n",
       "      <td>0</td>\n",
       "      <td>True</td>\n",
       "    </tr>\n",
       "    <tr>\n",
       "      <th>3</th>\n",
       "      <td>studded apparel</td>\n",
       "      <td>90</td>\n",
       "      <td>0</td>\n",
       "      <td>True</td>\n",
       "    </tr>\n",
       "    <tr>\n",
       "      <th>152</th>\n",
       "      <td>skinny tapered pants</td>\n",
       "      <td>100</td>\n",
       "      <td>0</td>\n",
       "      <td>True</td>\n",
       "    </tr>\n",
       "    <tr>\n",
       "      <th>9</th>\n",
       "      <td>loose cut trousers</td>\n",
       "      <td>100</td>\n",
       "      <td>0</td>\n",
       "      <td>True</td>\n",
       "    </tr>\n",
       "    <tr>\n",
       "      <th>5361</th>\n",
       "      <td>chaturanga pant</td>\n",
       "      <td>100</td>\n",
       "      <td>0</td>\n",
       "      <td>True</td>\n",
       "    </tr>\n",
       "    <tr>\n",
       "      <th>32</th>\n",
       "      <td>mkshanghai</td>\n",
       "      <td>110</td>\n",
       "      <td>0</td>\n",
       "      <td>True</td>\n",
       "    </tr>\n",
       "  </tbody>\n",
       "</table>\n",
       "</div>"
      ],
      "text/plain": [
       "                                  trend  total_volume  social_buzz low_social\n",
       "5358                mixed media satchel             0            0       True\n",
       "130              crocodile embossed bag            70            0       True\n",
       "104                     cable knit nail            80            0       True\n",
       "17                   levis womens denim            90            0       True\n",
       "34    extreme spread collar dress shirt            90            0       True\n",
       "3                       studded apparel            90            0       True\n",
       "152                skinny tapered pants           100            0       True\n",
       "9                    loose cut trousers           100            0       True\n",
       "5361                    chaturanga pant           100            0       True\n",
       "32                           mkshanghai           110            0       True"
      ]
     },
     "execution_count": 19,
     "metadata": {},
     "output_type": "execute_result"
    }
   ],
   "source": [
    "# get the bottom 5 percentile in terms of social volume\n",
    "low_social_value = sorted_social_df.social_buzz.quantile(0.81)\n",
    "print \"low social value:\" + str(low_social_value)\n",
    "# create new df with low social\n",
    "sorted_social_df['low_social'] = (sorted_social_df.social_buzz <= low_social_value)\n",
    "sorted_social_df.head(10)"
   ]
  },
  {
   "cell_type": "markdown",
   "metadata": {},
   "source": [
    "### Finding the most likely hashtags"
   ]
  },
  {
   "cell_type": "code",
   "execution_count": 38,
   "metadata": {
    "collapsed": false
   },
   "outputs": [
    {
     "name": "stdout",
     "output_type": "stream",
     "text": [
      "high social value:22.36\n"
     ]
    }
   ],
   "source": [
    "high_social_value = sorted_social_df.social_buzz.quantile(0.96)\n",
    "print \"high social value:\" + str(high_social_value)"
   ]
  },
  {
   "cell_type": "code",
   "execution_count": 42,
   "metadata": {
    "collapsed": false
   },
   "outputs": [
    {
     "data": {
      "text/html": [
       "<div>\n",
       "<table border=\"1\" class=\"dataframe\">\n",
       "  <thead>\n",
       "    <tr style=\"text-align: right;\">\n",
       "      <th></th>\n",
       "      <th>trend</th>\n",
       "      <th>total_volume</th>\n",
       "      <th>social_buzz</th>\n",
       "      <th>low_social</th>\n",
       "    </tr>\n",
       "  </thead>\n",
       "  <tbody>\n",
       "    <tr>\n",
       "      <th>5277</th>\n",
       "      <td>nordstromvan</td>\n",
       "      <td>0</td>\n",
       "      <td>26</td>\n",
       "      <td>False</td>\n",
       "    </tr>\n",
       "    <tr>\n",
       "      <th>36</th>\n",
       "      <td>microdermobrasian</td>\n",
       "      <td>120</td>\n",
       "      <td>32</td>\n",
       "      <td>False</td>\n",
       "    </tr>\n",
       "    <tr>\n",
       "      <th>76</th>\n",
       "      <td>eye shawdow palette</td>\n",
       "      <td>190</td>\n",
       "      <td>74</td>\n",
       "      <td>False</td>\n",
       "    </tr>\n",
       "    <tr>\n",
       "      <th>5367</th>\n",
       "      <td>londonfashionwk</td>\n",
       "      <td>0</td>\n",
       "      <td>79</td>\n",
       "      <td>False</td>\n",
       "    </tr>\n",
       "    <tr>\n",
       "      <th>5471</th>\n",
       "      <td>bumpchic</td>\n",
       "      <td>0</td>\n",
       "      <td>224</td>\n",
       "      <td>False</td>\n",
       "    </tr>\n",
       "    <tr>\n",
       "      <th>5338</th>\n",
       "      <td>pregnantfashion</td>\n",
       "      <td>0</td>\n",
       "      <td>233</td>\n",
       "      <td>False</td>\n",
       "    </tr>\n",
       "    <tr>\n",
       "      <th>27</th>\n",
       "      <td>pregnancyfashion</td>\n",
       "      <td>120</td>\n",
       "      <td>233</td>\n",
       "      <td>False</td>\n",
       "    </tr>\n",
       "    <tr>\n",
       "      <th>5540</th>\n",
       "      <td>pregnantstyle</td>\n",
       "      <td>0</td>\n",
       "      <td>244</td>\n",
       "      <td>False</td>\n",
       "    </tr>\n",
       "    <tr>\n",
       "      <th>5309</th>\n",
       "      <td>pregnancystyle</td>\n",
       "      <td>0</td>\n",
       "      <td>244</td>\n",
       "      <td>False</td>\n",
       "    </tr>\n",
       "    <tr>\n",
       "      <th>35</th>\n",
       "      <td>maternityfashion</td>\n",
       "      <td>190</td>\n",
       "      <td>260</td>\n",
       "      <td>False</td>\n",
       "    </tr>\n",
       "    <tr>\n",
       "      <th>31</th>\n",
       "      <td>maternitystyle</td>\n",
       "      <td>230</td>\n",
       "      <td>389</td>\n",
       "      <td>False</td>\n",
       "    </tr>\n",
       "    <tr>\n",
       "      <th>5353</th>\n",
       "      <td>bridalfashionweek</td>\n",
       "      <td>150</td>\n",
       "      <td>896</td>\n",
       "      <td>False</td>\n",
       "    </tr>\n",
       "  </tbody>\n",
       "</table>\n",
       "</div>"
      ],
      "text/plain": [
       "                    trend  total_volume  social_buzz low_social\n",
       "5277         nordstromvan             0           26      False\n",
       "36      microdermobrasian           120           32      False\n",
       "76    eye shawdow palette           190           74      False\n",
       "5367      londonfashionwk             0           79      False\n",
       "5471             bumpchic             0          224      False\n",
       "5338      pregnantfashion             0          233      False\n",
       "27       pregnancyfashion           120          233      False\n",
       "5540        pregnantstyle             0          244      False\n",
       "5309       pregnancystyle             0          244      False\n",
       "35       maternityfashion           190          260      False\n",
       "31         maternitystyle           230          389      False\n",
       "5353    bridalfashionweek           150          896      False"
      ]
     },
     "execution_count": 42,
     "metadata": {},
     "output_type": "execute_result"
    }
   ],
   "source": [
    "high_social_df = sorted_social_df[sorted_social_df.social_buzz >= high_social_value]\n",
    "high_social_df"
   ]
  },
  {
   "cell_type": "markdown",
   "metadata": {},
   "source": [
    "Looks like there are 12 likely hashtags"
   ]
  },
  {
   "cell_type": "code",
   "execution_count": 41,
   "metadata": {
    "collapsed": false
   },
   "outputs": [
    {
     "data": {
      "text/plain": [
       "12"
      ]
     },
     "execution_count": 41,
     "metadata": {},
     "output_type": "execute_result"
    }
   ],
   "source": [
    "len(high_social_df)"
   ]
  },
  {
   "cell_type": "code",
   "execution_count": 44,
   "metadata": {
    "collapsed": false
   },
   "outputs": [],
   "source": [
    "# save work and export to csv\n",
    "high_social_df.to_csv('highsocial-hashtags.csv')"
   ]
  },
  {
   "cell_type": "markdown",
   "metadata": {},
   "source": [
    "#### Do the have retail distribution?"
   ]
  },
  {
   "cell_type": "markdown",
   "metadata": {},
   "source": [
    "Look at products on the market with ShopStyle's API to see if there is retail distribution"
   ]
  },
  {
   "cell_type": "code",
   "execution_count": 80,
   "metadata": {
    "collapsed": false
   },
   "outputs": [],
   "source": [
    "def get_retail_distribution(term):\n",
    "    # base API endpoint url\n",
    "    base_url = 'http://api.shopstyle.com/api/v2/products?filters=Category%2CBrand%2CRetailer%2CPrice%2CDiscount%2CSize%2CColor%2CDeal&fts='\n",
    "#     base_url = 'https://app.trendalytics.co/api/v1/api/v2/products?filters=Category%2CBrand%2CRetailer%2CPrice%2CDiscount%2CSize%2CColor%2CDeal&fts='\n",
    "    # convert term like 'pink wedding dress' to 'pink+wedding+dress'\n",
    "    encoded_term = urllib.quote_plus(term)\n",
    "    end_url = '&pid=shopstyle'\n",
    "    url = base_url + encoded_term + end_url\n",
    "    # set authorization\n",
    "#     headers = {'authorization': 'NGRiZmUzMzktZTg4Ny00MTE4LWIyNzgtZTcwNWQxYjE3NzZmOnZWRDBPLzVDR3FCWllGQUtSZnphWVBDNWJJdz0='}\n",
    "    \n",
    "    # get response\n",
    "#     response = requests.get(url, headers=headers)\n",
    "    response = requests.get(url)\n",
    "    response_json = json.loads(response.text)\n",
    "    \n",
    "    # get # total products\n",
    "    total_products = response_json['metadata']['total']\n",
    "    \n",
    "    return total_products"
   ]
  },
  {
   "cell_type": "code",
   "execution_count": 81,
   "metadata": {
    "collapsed": false
   },
   "outputs": [],
   "source": [
    "# total_products = get_retail_distribution('precision lip brush')\n",
    "# print total_products"
   ]
  },
  {
   "cell_type": "code",
   "execution_count": 82,
   "metadata": {
    "collapsed": false
   },
   "outputs": [],
   "source": [
    "# get the retail distribution for all terms\n",
    "retail_distribution = []\n",
    "for term in list(high_social_df[\"trend\"]):\n",
    "    total_products = get_retail_distribution(term)\n",
    "    retail_distribution.append(total_products)"
   ]
  },
  {
   "cell_type": "code",
   "execution_count": 71,
   "metadata": {
    "collapsed": false
   },
   "outputs": [
    {
     "data": {
      "text/plain": [
       "[0, 0, 0, 0, 0, 0, 0, 0, 0, 0, 0, 0]"
      ]
     },
     "execution_count": 71,
     "metadata": {},
     "output_type": "execute_result"
    }
   ],
   "source": [
    "retail_distribution"
   ]
  },
  {
   "cell_type": "code",
   "execution_count": 50,
   "metadata": {
    "collapsed": false
   },
   "outputs": [
    {
     "data": {
      "text/html": [
       "<div>\n",
       "<table border=\"1\" class=\"dataframe\">\n",
       "  <thead>\n",
       "    <tr style=\"text-align: right;\">\n",
       "      <th></th>\n",
       "      <th>trend</th>\n",
       "      <th>total_volume</th>\n",
       "      <th>social_buzz</th>\n",
       "      <th>low_social</th>\n",
       "      <th>retail_distribution</th>\n",
       "    </tr>\n",
       "  </thead>\n",
       "  <tbody>\n",
       "    <tr>\n",
       "      <th>5277</th>\n",
       "      <td>nordstromvan</td>\n",
       "      <td>0</td>\n",
       "      <td>26</td>\n",
       "      <td>False</td>\n",
       "      <td>0</td>\n",
       "    </tr>\n",
       "    <tr>\n",
       "      <th>36</th>\n",
       "      <td>microdermobrasian</td>\n",
       "      <td>120</td>\n",
       "      <td>32</td>\n",
       "      <td>False</td>\n",
       "      <td>0</td>\n",
       "    </tr>\n",
       "    <tr>\n",
       "      <th>76</th>\n",
       "      <td>eye shawdow palette</td>\n",
       "      <td>190</td>\n",
       "      <td>74</td>\n",
       "      <td>False</td>\n",
       "      <td>0</td>\n",
       "    </tr>\n",
       "    <tr>\n",
       "      <th>5367</th>\n",
       "      <td>londonfashionwk</td>\n",
       "      <td>0</td>\n",
       "      <td>79</td>\n",
       "      <td>False</td>\n",
       "      <td>0</td>\n",
       "    </tr>\n",
       "    <tr>\n",
       "      <th>5471</th>\n",
       "      <td>bumpchic</td>\n",
       "      <td>0</td>\n",
       "      <td>224</td>\n",
       "      <td>False</td>\n",
       "      <td>0</td>\n",
       "    </tr>\n",
       "    <tr>\n",
       "      <th>5338</th>\n",
       "      <td>pregnantfashion</td>\n",
       "      <td>0</td>\n",
       "      <td>233</td>\n",
       "      <td>False</td>\n",
       "      <td>0</td>\n",
       "    </tr>\n",
       "    <tr>\n",
       "      <th>27</th>\n",
       "      <td>pregnancyfashion</td>\n",
       "      <td>120</td>\n",
       "      <td>233</td>\n",
       "      <td>False</td>\n",
       "      <td>0</td>\n",
       "    </tr>\n",
       "    <tr>\n",
       "      <th>5540</th>\n",
       "      <td>pregnantstyle</td>\n",
       "      <td>0</td>\n",
       "      <td>244</td>\n",
       "      <td>False</td>\n",
       "      <td>0</td>\n",
       "    </tr>\n",
       "    <tr>\n",
       "      <th>5309</th>\n",
       "      <td>pregnancystyle</td>\n",
       "      <td>0</td>\n",
       "      <td>244</td>\n",
       "      <td>False</td>\n",
       "      <td>0</td>\n",
       "    </tr>\n",
       "    <tr>\n",
       "      <th>35</th>\n",
       "      <td>maternityfashion</td>\n",
       "      <td>190</td>\n",
       "      <td>260</td>\n",
       "      <td>False</td>\n",
       "      <td>0</td>\n",
       "    </tr>\n",
       "    <tr>\n",
       "      <th>31</th>\n",
       "      <td>maternitystyle</td>\n",
       "      <td>230</td>\n",
       "      <td>389</td>\n",
       "      <td>False</td>\n",
       "      <td>0</td>\n",
       "    </tr>\n",
       "    <tr>\n",
       "      <th>5353</th>\n",
       "      <td>bridalfashionweek</td>\n",
       "      <td>150</td>\n",
       "      <td>896</td>\n",
       "      <td>False</td>\n",
       "      <td>0</td>\n",
       "    </tr>\n",
       "  </tbody>\n",
       "</table>\n",
       "</div>"
      ],
      "text/plain": [
       "                    trend  total_volume  social_buzz low_social  retail_distribution\n",
       "5277         nordstromvan             0           26      False                    0\n",
       "36      microdermobrasian           120           32      False                    0\n",
       "76    eye shawdow palette           190           74      False                    0\n",
       "5367      londonfashionwk             0           79      False                    0\n",
       "5471             bumpchic             0          224      False                    0\n",
       "5338      pregnantfashion             0          233      False                    0\n",
       "27       pregnancyfashion           120          233      False                    0\n",
       "5540        pregnantstyle             0          244      False                    0\n",
       "5309       pregnancystyle             0          244      False                    0\n",
       "35       maternityfashion           190          260      False                    0\n",
       "31         maternitystyle           230          389      False                    0\n",
       "5353    bridalfashionweek           150          896      False                    0"
      ]
     },
     "execution_count": 50,
     "metadata": {},
     "output_type": "execute_result"
    }
   ],
   "source": [
    "# add the social buzz column\n",
    "high_social_df.loc[:,'retail_distribution'] = retail_distribution\n",
    "# sort the df by total_volume\n",
    "sorted_retail_df = high_social_df.sort('retail_distribution', ascending=True)\n",
    "sorted_retail_df"
   ]
  },
  {
   "cell_type": "markdown",
   "metadata": {},
   "source": [
    "### Search vs social buzz volume\n",
    "There should be more social buzz than search volume for hashtags"
   ]
  },
  {
   "cell_type": "code",
   "execution_count": 83,
   "metadata": {
    "collapsed": false
   },
   "outputs": [
    {
     "name": "stderr",
     "output_type": "stream",
     "text": [
      "/Users/eden/anaconda/lib/python2.7/site-packages/ipykernel/__main__.py:1: SettingWithCopyWarning: \n",
      "A value is trying to be set on a copy of a slice from a DataFrame.\n",
      "Try using .loc[row_indexer,col_indexer] = value instead\n",
      "\n",
      "See the the caveats in the documentation: http://pandas.pydata.org/pandas-docs/stable/indexing.html#indexing-view-versus-copy\n",
      "  if __name__ == '__main__':\n"
     ]
    }
   ],
   "source": [
    "high_social_df['more_social'] = (high_social_df.social_buzz >= high_social_df.total_volume)"
   ]
  },
  {
   "cell_type": "code",
   "execution_count": 85,
   "metadata": {
    "collapsed": false
   },
   "outputs": [
    {
     "data": {
      "text/html": [
       "<div>\n",
       "<table border=\"1\" class=\"dataframe\">\n",
       "  <thead>\n",
       "    <tr style=\"text-align: right;\">\n",
       "      <th></th>\n",
       "      <th>trend</th>\n",
       "      <th>total_volume</th>\n",
       "      <th>social_buzz</th>\n",
       "      <th>low_social</th>\n",
       "      <th>retail_distribution</th>\n",
       "      <th>more_social</th>\n",
       "    </tr>\n",
       "  </thead>\n",
       "  <tbody>\n",
       "    <tr>\n",
       "      <th>5277</th>\n",
       "      <td>nordstromvan</td>\n",
       "      <td>0</td>\n",
       "      <td>26</td>\n",
       "      <td>False</td>\n",
       "      <td>0</td>\n",
       "      <td>True</td>\n",
       "    </tr>\n",
       "    <tr>\n",
       "      <th>36</th>\n",
       "      <td>microdermobrasian</td>\n",
       "      <td>120</td>\n",
       "      <td>32</td>\n",
       "      <td>False</td>\n",
       "      <td>0</td>\n",
       "      <td>False</td>\n",
       "    </tr>\n",
       "    <tr>\n",
       "      <th>76</th>\n",
       "      <td>eye shawdow palette</td>\n",
       "      <td>190</td>\n",
       "      <td>74</td>\n",
       "      <td>False</td>\n",
       "      <td>0</td>\n",
       "      <td>False</td>\n",
       "    </tr>\n",
       "    <tr>\n",
       "      <th>5367</th>\n",
       "      <td>londonfashionwk</td>\n",
       "      <td>0</td>\n",
       "      <td>79</td>\n",
       "      <td>False</td>\n",
       "      <td>0</td>\n",
       "      <td>True</td>\n",
       "    </tr>\n",
       "    <tr>\n",
       "      <th>5471</th>\n",
       "      <td>bumpchic</td>\n",
       "      <td>0</td>\n",
       "      <td>224</td>\n",
       "      <td>False</td>\n",
       "      <td>0</td>\n",
       "      <td>True</td>\n",
       "    </tr>\n",
       "    <tr>\n",
       "      <th>5338</th>\n",
       "      <td>pregnantfashion</td>\n",
       "      <td>0</td>\n",
       "      <td>233</td>\n",
       "      <td>False</td>\n",
       "      <td>0</td>\n",
       "      <td>True</td>\n",
       "    </tr>\n",
       "    <tr>\n",
       "      <th>27</th>\n",
       "      <td>pregnancyfashion</td>\n",
       "      <td>120</td>\n",
       "      <td>233</td>\n",
       "      <td>False</td>\n",
       "      <td>0</td>\n",
       "      <td>True</td>\n",
       "    </tr>\n",
       "    <tr>\n",
       "      <th>5540</th>\n",
       "      <td>pregnantstyle</td>\n",
       "      <td>0</td>\n",
       "      <td>244</td>\n",
       "      <td>False</td>\n",
       "      <td>0</td>\n",
       "      <td>True</td>\n",
       "    </tr>\n",
       "    <tr>\n",
       "      <th>5309</th>\n",
       "      <td>pregnancystyle</td>\n",
       "      <td>0</td>\n",
       "      <td>244</td>\n",
       "      <td>False</td>\n",
       "      <td>0</td>\n",
       "      <td>True</td>\n",
       "    </tr>\n",
       "    <tr>\n",
       "      <th>35</th>\n",
       "      <td>maternityfashion</td>\n",
       "      <td>190</td>\n",
       "      <td>260</td>\n",
       "      <td>False</td>\n",
       "      <td>0</td>\n",
       "      <td>True</td>\n",
       "    </tr>\n",
       "  </tbody>\n",
       "</table>\n",
       "</div>"
      ],
      "text/plain": [
       "                    trend  total_volume  social_buzz low_social  retail_distribution more_social\n",
       "5277         nordstromvan             0           26      False                    0        True\n",
       "36      microdermobrasian           120           32      False                    0       False\n",
       "76    eye shawdow palette           190           74      False                    0       False\n",
       "5367      londonfashionwk             0           79      False                    0        True\n",
       "5471             bumpchic             0          224      False                    0        True\n",
       "5338      pregnantfashion             0          233      False                    0        True\n",
       "27       pregnancyfashion           120          233      False                    0        True\n",
       "5540        pregnantstyle             0          244      False                    0        True\n",
       "5309       pregnancystyle             0          244      False                    0        True\n",
       "35       maternityfashion           190          260      False                    0        True"
      ]
     },
     "execution_count": 85,
     "metadata": {},
     "output_type": "execute_result"
    }
   ],
   "source": [
    "high_social_df.head(10)"
   ]
  },
  {
   "cell_type": "code",
   "execution_count": 86,
   "metadata": {
    "collapsed": false
   },
   "outputs": [
    {
     "data": {
      "text/html": [
       "<div>\n",
       "<table border=\"1\" class=\"dataframe\">\n",
       "  <thead>\n",
       "    <tr style=\"text-align: right;\">\n",
       "      <th></th>\n",
       "      <th>trend</th>\n",
       "      <th>total_volume</th>\n",
       "      <th>social_buzz</th>\n",
       "      <th>low_social</th>\n",
       "      <th>retail_distribution</th>\n",
       "      <th>more_social</th>\n",
       "    </tr>\n",
       "  </thead>\n",
       "  <tbody>\n",
       "    <tr>\n",
       "      <th>5277</th>\n",
       "      <td>nordstromvan</td>\n",
       "      <td>0</td>\n",
       "      <td>26</td>\n",
       "      <td>False</td>\n",
       "      <td>0</td>\n",
       "      <td>True</td>\n",
       "    </tr>\n",
       "    <tr>\n",
       "      <th>5367</th>\n",
       "      <td>londonfashionwk</td>\n",
       "      <td>0</td>\n",
       "      <td>79</td>\n",
       "      <td>False</td>\n",
       "      <td>0</td>\n",
       "      <td>True</td>\n",
       "    </tr>\n",
       "    <tr>\n",
       "      <th>5471</th>\n",
       "      <td>bumpchic</td>\n",
       "      <td>0</td>\n",
       "      <td>224</td>\n",
       "      <td>False</td>\n",
       "      <td>0</td>\n",
       "      <td>True</td>\n",
       "    </tr>\n",
       "    <tr>\n",
       "      <th>5338</th>\n",
       "      <td>pregnantfashion</td>\n",
       "      <td>0</td>\n",
       "      <td>233</td>\n",
       "      <td>False</td>\n",
       "      <td>0</td>\n",
       "      <td>True</td>\n",
       "    </tr>\n",
       "    <tr>\n",
       "      <th>27</th>\n",
       "      <td>pregnancyfashion</td>\n",
       "      <td>120</td>\n",
       "      <td>233</td>\n",
       "      <td>False</td>\n",
       "      <td>0</td>\n",
       "      <td>True</td>\n",
       "    </tr>\n",
       "    <tr>\n",
       "      <th>5540</th>\n",
       "      <td>pregnantstyle</td>\n",
       "      <td>0</td>\n",
       "      <td>244</td>\n",
       "      <td>False</td>\n",
       "      <td>0</td>\n",
       "      <td>True</td>\n",
       "    </tr>\n",
       "    <tr>\n",
       "      <th>5309</th>\n",
       "      <td>pregnancystyle</td>\n",
       "      <td>0</td>\n",
       "      <td>244</td>\n",
       "      <td>False</td>\n",
       "      <td>0</td>\n",
       "      <td>True</td>\n",
       "    </tr>\n",
       "    <tr>\n",
       "      <th>35</th>\n",
       "      <td>maternityfashion</td>\n",
       "      <td>190</td>\n",
       "      <td>260</td>\n",
       "      <td>False</td>\n",
       "      <td>0</td>\n",
       "      <td>True</td>\n",
       "    </tr>\n",
       "    <tr>\n",
       "      <th>31</th>\n",
       "      <td>maternitystyle</td>\n",
       "      <td>230</td>\n",
       "      <td>389</td>\n",
       "      <td>False</td>\n",
       "      <td>0</td>\n",
       "      <td>True</td>\n",
       "    </tr>\n",
       "    <tr>\n",
       "      <th>5353</th>\n",
       "      <td>bridalfashionweek</td>\n",
       "      <td>150</td>\n",
       "      <td>896</td>\n",
       "      <td>False</td>\n",
       "      <td>0</td>\n",
       "      <td>True</td>\n",
       "    </tr>\n",
       "  </tbody>\n",
       "</table>\n",
       "</div>"
      ],
      "text/plain": [
       "                  trend  total_volume  social_buzz low_social  retail_distribution more_social\n",
       "5277       nordstromvan             0           26      False                    0        True\n",
       "5367    londonfashionwk             0           79      False                    0        True\n",
       "5471           bumpchic             0          224      False                    0        True\n",
       "5338    pregnantfashion             0          233      False                    0        True\n",
       "27     pregnancyfashion           120          233      False                    0        True\n",
       "5540      pregnantstyle             0          244      False                    0        True\n",
       "5309     pregnancystyle             0          244      False                    0        True\n",
       "35     maternityfashion           190          260      False                    0        True\n",
       "31       maternitystyle           230          389      False                    0        True\n",
       "5353  bridalfashionweek           150          896      False                    0        True"
      ]
     },
     "execution_count": 86,
     "metadata": {},
     "output_type": "execute_result"
    }
   ],
   "source": [
    "hashtags_df = high_social_df[high_social_df['more_social']]\n",
    "hashtags_df"
   ]
  },
  {
   "cell_type": "markdown",
   "metadata": {},
   "source": [
    "The rest seem to be typos"
   ]
  },
  {
   "cell_type": "code",
   "execution_count": 91,
   "metadata": {
    "collapsed": false
   },
   "outputs": [
    {
     "data": {
      "text/html": [
       "<div>\n",
       "<table border=\"1\" class=\"dataframe\">\n",
       "  <thead>\n",
       "    <tr style=\"text-align: right;\">\n",
       "      <th></th>\n",
       "      <th>trend</th>\n",
       "      <th>total_volume</th>\n",
       "      <th>social_buzz</th>\n",
       "      <th>low_social</th>\n",
       "      <th>retail_distribution</th>\n",
       "      <th>more_social</th>\n",
       "    </tr>\n",
       "  </thead>\n",
       "  <tbody>\n",
       "    <tr>\n",
       "      <th>36</th>\n",
       "      <td>microdermobrasian</td>\n",
       "      <td>120</td>\n",
       "      <td>32</td>\n",
       "      <td>False</td>\n",
       "      <td>0</td>\n",
       "      <td>False</td>\n",
       "    </tr>\n",
       "    <tr>\n",
       "      <th>76</th>\n",
       "      <td>eye shawdow palette</td>\n",
       "      <td>190</td>\n",
       "      <td>74</td>\n",
       "      <td>False</td>\n",
       "      <td>0</td>\n",
       "      <td>False</td>\n",
       "    </tr>\n",
       "  </tbody>\n",
       "</table>\n",
       "</div>"
      ],
      "text/plain": [
       "                  trend  total_volume  social_buzz low_social  retail_distribution more_social\n",
       "36    microdermobrasian           120           32      False                    0       False\n",
       "76  eye shawdow palette           190           74      False                    0       False"
      ]
     },
     "execution_count": 91,
     "metadata": {},
     "output_type": "execute_result"
    }
   ],
   "source": [
    "typos_df = high_social_df[high_social_df['more_social'] == 0]\n",
    "typos_df"
   ]
  },
  {
   "cell_type": "code",
   "execution_count": 92,
   "metadata": {
    "collapsed": true
   },
   "outputs": [],
   "source": [
    "typos_df.to_csv('typos-conservative.csv')"
   ]
  },
  {
   "cell_type": "markdown",
   "metadata": {},
   "source": [
    "### Another option\n",
    "\n",
    "Looks like simply comparing social buzz to total volume was actually super effective at identifying hashtags. Let's do that at the get go to start off with. "
   ]
  },
  {
   "cell_type": "markdown",
   "metadata": {},
   "source": [
    "#### Get social buzz for all search terms"
   ]
  },
  {
   "cell_type": "markdown",
   "metadata": {},
   "source": [
    "The following code takes forever to run, so save it to csv asap"
   ]
  },
  {
   "cell_type": "code",
   "execution_count": 93,
   "metadata": {
    "collapsed": true
   },
   "outputs": [],
   "source": [
    "# get total posts from all with low social\n",
    "social_buzz = []\n",
    "for term in search_df[\"trend\"]:\n",
    "    total_posts = get_social_buzz(term)\n",
    "    social_buzz.append(total_posts)"
   ]
  },
  {
   "cell_type": "code",
   "execution_count": 94,
   "metadata": {
    "collapsed": true
   },
   "outputs": [],
   "source": [
    "# Now add this to the df\n",
    "search_df.loc[:,'social_buzz'] = social_buzz"
   ]
  },
  {
   "cell_type": "code",
   "execution_count": 95,
   "metadata": {
    "collapsed": true
   },
   "outputs": [],
   "source": [
    "search_df.to_csv('searchandsocial.csv')"
   ]
  },
  {
   "cell_type": "code",
   "execution_count": 96,
   "metadata": {
    "collapsed": false
   },
   "outputs": [
    {
     "data": {
      "text/html": [
       "<div>\n",
       "<table border=\"1\" class=\"dataframe\">\n",
       "  <thead>\n",
       "    <tr style=\"text-align: right;\">\n",
       "      <th></th>\n",
       "      <th>trend</th>\n",
       "      <th>total_volume</th>\n",
       "      <th>social_buzz</th>\n",
       "    </tr>\n",
       "  </thead>\n",
       "  <tbody>\n",
       "    <tr>\n",
       "      <th>0</th>\n",
       "      <td>duchesse satin gown</td>\n",
       "      <td>0</td>\n",
       "      <td>2</td>\n",
       "    </tr>\n",
       "    <tr>\n",
       "      <th>1</th>\n",
       "      <td>saksutopia</td>\n",
       "      <td>0</td>\n",
       "      <td>0</td>\n",
       "    </tr>\n",
       "    <tr>\n",
       "      <th>2</th>\n",
       "      <td>oscars2016</td>\n",
       "      <td>0</td>\n",
       "      <td>9</td>\n",
       "    </tr>\n",
       "    <tr>\n",
       "      <th>3</th>\n",
       "      <td>studded apparel</td>\n",
       "      <td>90</td>\n",
       "      <td>0</td>\n",
       "    </tr>\n",
       "    <tr>\n",
       "      <th>4</th>\n",
       "      <td>pompon charm</td>\n",
       "      <td>0</td>\n",
       "      <td>0</td>\n",
       "    </tr>\n",
       "  </tbody>\n",
       "</table>\n",
       "</div>"
      ],
      "text/plain": [
       "                 trend  total_volume  social_buzz\n",
       "0  duchesse satin gown             0            2\n",
       "1           saksutopia             0            0\n",
       "2           oscars2016             0            9\n",
       "3      studded apparel            90            0\n",
       "4         pompon charm             0            0"
      ]
     },
     "execution_count": 96,
     "metadata": {},
     "output_type": "execute_result"
    }
   ],
   "source": [
    "search_df.head(5)"
   ]
  },
  {
   "cell_type": "markdown",
   "metadata": {},
   "source": [
    "Let's graph how this looks"
   ]
  },
  {
   "cell_type": "code",
   "execution_count": 97,
   "metadata": {
    "collapsed": false
   },
   "outputs": [
    {
     "data": {
      "image/png": "[encoded data removed]",
      "text/plain": [
       "<matplotlib.figure.Figure at 0x10a888410>"
      ]
     },
     "metadata": {},
     "output_type": "display_data"
    }
   ],
   "source": [
    "plt.figure()\n",
    "plt.hist(search_df.total_volume, alpha=.8, label=\"Search volume\")\n",
    "plt.legend()\n",
    "plt.xlabel('Count')\n",
    "plt.ylabel('Frequency')\n",
    "plt.title('Search volume')\n",
    "plt.show()"
   ]
  },
  {
   "cell_type": "code",
   "execution_count": 102,
   "metadata": {
    "collapsed": false
   },
   "outputs": [
    {
     "data": {
      "image/png": "[encoded data removed]",
      "text/plain": [
       "<matplotlib.figure.Figure at 0x109f10810>"
      ]
     },
     "metadata": {},
     "output_type": "display_data"
    }
   ],
   "source": [
    "plt.figure()\n",
    "plt.hist(search_df.social_buzz, alpha=.8, label=\"Social buzz\")\n",
    "plt.legend()\n",
    "plt.xlabel('Count')\n",
    "plt.ylabel('Frequency')\n",
    "plt.title('Social buzz')\n",
    "plt.show()"
   ]
  },
  {
   "cell_type": "markdown",
   "metadata": {},
   "source": [
    "### We might need to do some normalization here to make adequate comparisons - we should just see what makes the most sense"
   ]
  },
  {
   "cell_type": "markdown",
   "metadata": {},
   "source": [
    "#### Which terms have literally more social buzz than search volume"
   ]
  },
  {
   "cell_type": "code",
   "execution_count": 98,
   "metadata": {
    "collapsed": true
   },
   "outputs": [],
   "source": [
    "# add a new column\n",
    "search_df['more_social'] = (search_df['social_buzz'] >= search_df['total_volume'])\n",
    "# also create a new df with only the terms with more social buzz than search volume\n",
    "search_social_df = search_df['more_social']"
   ]
  },
  {
   "cell_type": "code",
   "execution_count": 101,
   "metadata": {
    "collapsed": false
   },
   "outputs": [
    {
     "name": "stdout",
     "output_type": "stream",
     "text": [
      "# of terms with more social than search159\n"
     ]
    },
    {
     "data": {
      "text/plain": [
       "count    159.000000\n",
       "mean      18.295597\n",
       "std       89.519148\n",
       "min        0.000000\n",
       "25%        0.000000\n",
       "50%        0.000000\n",
       "75%        0.000000\n",
       "max      896.000000\n",
       "Name: social_buzz, dtype: float64"
      ]
     },
     "execution_count": 101,
     "metadata": {},
     "output_type": "execute_result"
    }
   ],
   "source": [
    "print \"# of terms with more social than search: \" + str(len(search_social_df))\n",
    "search_social_df['social_buzz'].describe()"
   ]
  },
  {
   "cell_type": "code",
   "execution_count": 103,
   "metadata": {
    "collapsed": false
   },
   "outputs": [
    {
     "name": "stderr",
     "output_type": "stream",
     "text": [
      "/Users/eden/anaconda/lib/python2.7/site-packages/ipykernel/__main__.py:2: SettingWithCopyWarning: \n",
      "A value is trying to be set on a copy of a slice from a DataFrame.\n",
      "Try using .loc[row_indexer,col_indexer] = value instead\n",
      "\n",
      "See the the caveats in the documentation: http://pandas.pydata.org/pandas-docs/stable/indexing.html#indexing-view-versus-copy\n",
      "  from ipykernel import kernelapp as app\n"
     ]
    },
    {
     "data": {
      "text/html": [
       "<div>\n",
       "<table border=\"1\" class=\"dataframe\">\n",
       "  <thead>\n",
       "    <tr style=\"text-align: right;\">\n",
       "      <th></th>\n",
       "      <th>trend</th>\n",
       "      <th>total_volume</th>\n",
       "      <th>social_buzz</th>\n",
       "      <th>more_social</th>\n",
       "      <th>high_social</th>\n",
       "    </tr>\n",
       "  </thead>\n",
       "  <tbody>\n",
       "    <tr>\n",
       "      <th>0</th>\n",
       "      <td>duchesse satin gown</td>\n",
       "      <td>0</td>\n",
       "      <td>2</td>\n",
       "      <td>True</td>\n",
       "      <td>False</td>\n",
       "    </tr>\n",
       "    <tr>\n",
       "      <th>1</th>\n",
       "      <td>saksutopia</td>\n",
       "      <td>0</td>\n",
       "      <td>0</td>\n",
       "      <td>True</td>\n",
       "      <td>False</td>\n",
       "    </tr>\n",
       "    <tr>\n",
       "      <th>2</th>\n",
       "      <td>oscars2016</td>\n",
       "      <td>0</td>\n",
       "      <td>9</td>\n",
       "      <td>True</td>\n",
       "      <td>False</td>\n",
       "    </tr>\n",
       "    <tr>\n",
       "      <th>4</th>\n",
       "      <td>pompon charm</td>\n",
       "      <td>0</td>\n",
       "      <td>0</td>\n",
       "      <td>True</td>\n",
       "      <td>False</td>\n",
       "    </tr>\n",
       "    <tr>\n",
       "      <th>27</th>\n",
       "      <td>pregnancyfashion</td>\n",
       "      <td>120</td>\n",
       "      <td>233</td>\n",
       "      <td>True</td>\n",
       "      <td>True</td>\n",
       "    </tr>\n",
       "  </tbody>\n",
       "</table>\n",
       "</div>"
      ],
      "text/plain": [
       "                  trend  total_volume  social_buzz more_social high_social\n",
       "0   duchesse satin gown             0            2        True       False\n",
       "1            saksutopia             0            0        True       False\n",
       "2            oscars2016             0            9        True       False\n",
       "4          pompon charm             0            0        True       False\n",
       "27     pregnancyfashion           120          233        True        True"
      ]
     },
     "execution_count": 103,
     "metadata": {},
     "output_type": "execute_result"
    }
   ],
   "source": [
    "social_mean = search_social_df['social_buzz'].mean()\n",
    "search_social_df['high_social'] = (search_social_df['social_buzz'] >= social_mean)\n",
    "search_social_df.head()"
   ]
  },
  {
   "cell_type": "code",
   "execution_count": 109,
   "metadata": {
    "collapsed": false
   },
   "outputs": [
    {
     "data": {
      "text/html": [
       "<div>\n",
       "<table border=\"1\" class=\"dataframe\">\n",
       "  <thead>\n",
       "    <tr style=\"text-align: right;\">\n",
       "      <th></th>\n",
       "      <th>trend</th>\n",
       "      <th>total_volume</th>\n",
       "      <th>social_buzz</th>\n",
       "      <th>more_social</th>\n",
       "      <th>high_social</th>\n",
       "    </tr>\n",
       "  </thead>\n",
       "  <tbody>\n",
       "    <tr>\n",
       "      <th>27</th>\n",
       "      <td>pregnancyfashion</td>\n",
       "      <td>120</td>\n",
       "      <td>233</td>\n",
       "      <td>True</td>\n",
       "      <td>True</td>\n",
       "    </tr>\n",
       "    <tr>\n",
       "      <th>31</th>\n",
       "      <td>maternitystyle</td>\n",
       "      <td>230</td>\n",
       "      <td>389</td>\n",
       "      <td>True</td>\n",
       "      <td>True</td>\n",
       "    </tr>\n",
       "    <tr>\n",
       "      <th>35</th>\n",
       "      <td>maternityfashion</td>\n",
       "      <td>190</td>\n",
       "      <td>283</td>\n",
       "      <td>True</td>\n",
       "      <td>True</td>\n",
       "    </tr>\n",
       "    <tr>\n",
       "      <th>5277</th>\n",
       "      <td>nordstromvan</td>\n",
       "      <td>0</td>\n",
       "      <td>26</td>\n",
       "      <td>True</td>\n",
       "      <td>True</td>\n",
       "    </tr>\n",
       "    <tr>\n",
       "      <th>5309</th>\n",
       "      <td>pregnancystyle</td>\n",
       "      <td>0</td>\n",
       "      <td>244</td>\n",
       "      <td>True</td>\n",
       "      <td>True</td>\n",
       "    </tr>\n",
       "    <tr>\n",
       "      <th>5338</th>\n",
       "      <td>pregnantfashion</td>\n",
       "      <td>0</td>\n",
       "      <td>233</td>\n",
       "      <td>True</td>\n",
       "      <td>True</td>\n",
       "    </tr>\n",
       "    <tr>\n",
       "      <th>5353</th>\n",
       "      <td>bridalfashionweek</td>\n",
       "      <td>150</td>\n",
       "      <td>896</td>\n",
       "      <td>True</td>\n",
       "      <td>True</td>\n",
       "    </tr>\n",
       "    <tr>\n",
       "      <th>5367</th>\n",
       "      <td>londonfashionwk</td>\n",
       "      <td>0</td>\n",
       "      <td>79</td>\n",
       "      <td>True</td>\n",
       "      <td>True</td>\n",
       "    </tr>\n",
       "    <tr>\n",
       "      <th>5471</th>\n",
       "      <td>bumpchic</td>\n",
       "      <td>0</td>\n",
       "      <td>224</td>\n",
       "      <td>True</td>\n",
       "      <td>True</td>\n",
       "    </tr>\n",
       "    <tr>\n",
       "      <th>5540</th>\n",
       "      <td>pregnantstyle</td>\n",
       "      <td>0</td>\n",
       "      <td>244</td>\n",
       "      <td>True</td>\n",
       "      <td>True</td>\n",
       "    </tr>\n",
       "  </tbody>\n",
       "</table>\n",
       "</div>"
      ],
      "text/plain": [
       "                  trend  total_volume  social_buzz more_social high_social\n",
       "27     pregnancyfashion           120          233        True        True\n",
       "31       maternitystyle           230          389        True        True\n",
       "35     maternityfashion           190          283        True        True\n",
       "5277       nordstromvan             0           26        True        True\n",
       "5309     pregnancystyle             0          244        True        True\n",
       "5338    pregnantfashion             0          233        True        True\n",
       "5353  bridalfashionweek           150          896        True        True\n",
       "5367    londonfashionwk             0           79        True        True\n",
       "5471           bumpchic             0          224        True        True\n",
       "5540      pregnantstyle             0          244        True        True"
      ]
     },
     "execution_count": 109,
     "metadata": {},
     "output_type": "execute_result"
    }
   ],
   "source": [
    "high_more_social_df = search_social_df[search_social_df['high_social']]\n",
    "high_more_social_df"
   ]
  },
  {
   "cell_type": "markdown",
   "metadata": {},
   "source": [
    "#### Just see which ones are one word and have low search OR high social_buzz\n"
   ]
  },
  {
   "cell_type": "code",
   "execution_count": 113,
   "metadata": {
    "collapsed": true
   },
   "outputs": [],
   "source": [
    "def is_one_word(word):\n",
    "    if len(word.split()) > 1:\n",
    "        return False\n",
    "    return True"
   ]
  },
  {
   "cell_type": "code",
   "execution_count": 117,
   "metadata": {
    "collapsed": false
   },
   "outputs": [
    {
     "data": {
      "text/html": [
       "<div>\n",
       "<table border=\"1\" class=\"dataframe\">\n",
       "  <thead>\n",
       "    <tr style=\"text-align: right;\">\n",
       "      <th></th>\n",
       "      <th>trend</th>\n",
       "      <th>total_volume</th>\n",
       "      <th>social_buzz</th>\n",
       "      <th>more_social</th>\n",
       "    </tr>\n",
       "  </thead>\n",
       "  <tbody>\n",
       "    <tr>\n",
       "      <th>0</th>\n",
       "      <td>duchesse satin gown</td>\n",
       "      <td>0</td>\n",
       "      <td>2</td>\n",
       "      <td>True</td>\n",
       "    </tr>\n",
       "    <tr>\n",
       "      <th>1</th>\n",
       "      <td>saksutopia</td>\n",
       "      <td>0</td>\n",
       "      <td>0</td>\n",
       "      <td>True</td>\n",
       "    </tr>\n",
       "  </tbody>\n",
       "</table>\n",
       "</div>"
      ],
      "text/plain": [
       "                 trend  total_volume  social_buzz more_social\n",
       "0  duchesse satin gown             0            2        True\n",
       "1           saksutopia             0            0        True"
      ]
     },
     "execution_count": 117,
     "metadata": {},
     "output_type": "execute_result"
    }
   ],
   "source": [
    "df = search_df\n",
    "df.head(2)"
   ]
  },
  {
   "cell_type": "code",
   "execution_count": 119,
   "metadata": {
    "collapsed": false
   },
   "outputs": [],
   "source": [
    "df['one_word'] = df['trend'].apply(lambda trend: is_one_word(trend))"
   ]
  },
  {
   "cell_type": "code",
   "execution_count": 121,
   "metadata": {
    "collapsed": false
   },
   "outputs": [
    {
     "data": {
      "text/html": [
       "<div>\n",
       "<table border=\"1\" class=\"dataframe\">\n",
       "  <thead>\n",
       "    <tr style=\"text-align: right;\">\n",
       "      <th></th>\n",
       "      <th>trend</th>\n",
       "      <th>total_volume</th>\n",
       "      <th>social_buzz</th>\n",
       "      <th>more_social</th>\n",
       "      <th>one_word</th>\n",
       "    </tr>\n",
       "  </thead>\n",
       "  <tbody>\n",
       "    <tr>\n",
       "      <th>0</th>\n",
       "      <td>duchesse satin gown</td>\n",
       "      <td>0</td>\n",
       "      <td>2</td>\n",
       "      <td>True</td>\n",
       "      <td>False</td>\n",
       "    </tr>\n",
       "    <tr>\n",
       "      <th>1</th>\n",
       "      <td>saksutopia</td>\n",
       "      <td>0</td>\n",
       "      <td>0</td>\n",
       "      <td>True</td>\n",
       "      <td>True</td>\n",
       "    </tr>\n",
       "    <tr>\n",
       "      <th>2</th>\n",
       "      <td>oscars2016</td>\n",
       "      <td>0</td>\n",
       "      <td>9</td>\n",
       "      <td>True</td>\n",
       "      <td>True</td>\n",
       "    </tr>\n",
       "    <tr>\n",
       "      <th>3</th>\n",
       "      <td>studded apparel</td>\n",
       "      <td>90</td>\n",
       "      <td>0</td>\n",
       "      <td>False</td>\n",
       "      <td>False</td>\n",
       "    </tr>\n",
       "    <tr>\n",
       "      <th>4</th>\n",
       "      <td>pompon charm</td>\n",
       "      <td>0</td>\n",
       "      <td>0</td>\n",
       "      <td>True</td>\n",
       "      <td>False</td>\n",
       "    </tr>\n",
       "  </tbody>\n",
       "</table>\n",
       "</div>"
      ],
      "text/plain": [
       "                 trend  total_volume  social_buzz more_social one_word\n",
       "0  duchesse satin gown             0            2        True    False\n",
       "1           saksutopia             0            0        True     True\n",
       "2           oscars2016             0            9        True     True\n",
       "3      studded apparel            90            0       False    False\n",
       "4         pompon charm             0            0        True    False"
      ]
     },
     "execution_count": 121,
     "metadata": {},
     "output_type": "execute_result"
    }
   ],
   "source": [
    "df.head(5)"
   ]
  },
  {
   "cell_type": "code",
   "execution_count": 123,
   "metadata": {
    "collapsed": false
   },
   "outputs": [
    {
     "data": {
      "text/html": [
       "<div>\n",
       "<table border=\"1\" class=\"dataframe\">\n",
       "  <thead>\n",
       "    <tr style=\"text-align: right;\">\n",
       "      <th></th>\n",
       "      <th>trend</th>\n",
       "      <th>total_volume</th>\n",
       "      <th>social_buzz</th>\n",
       "      <th>more_social</th>\n",
       "      <th>one_word</th>\n",
       "    </tr>\n",
       "  </thead>\n",
       "  <tbody>\n",
       "    <tr>\n",
       "      <th>1</th>\n",
       "      <td>saksutopia</td>\n",
       "      <td>0</td>\n",
       "      <td>0</td>\n",
       "      <td>True</td>\n",
       "      <td>True</td>\n",
       "    </tr>\n",
       "    <tr>\n",
       "      <th>2</th>\n",
       "      <td>oscars2016</td>\n",
       "      <td>0</td>\n",
       "      <td>9</td>\n",
       "      <td>True</td>\n",
       "      <td>True</td>\n",
       "    </tr>\n",
       "    <tr>\n",
       "      <th>5</th>\n",
       "      <td>cfdaawards</td>\n",
       "      <td>480</td>\n",
       "      <td>12</td>\n",
       "      <td>False</td>\n",
       "      <td>True</td>\n",
       "    </tr>\n",
       "    <tr>\n",
       "      <th>6</th>\n",
       "      <td>billboardmusicawards</td>\n",
       "      <td>1260</td>\n",
       "      <td>5</td>\n",
       "      <td>False</td>\n",
       "      <td>True</td>\n",
       "    </tr>\n",
       "    <tr>\n",
       "      <th>24</th>\n",
       "      <td>mtvmovieawards</td>\n",
       "      <td>7090</td>\n",
       "      <td>1003</td>\n",
       "      <td>False</td>\n",
       "      <td>True</td>\n",
       "    </tr>\n",
       "    <tr>\n",
       "      <th>27</th>\n",
       "      <td>pregnancyfashion</td>\n",
       "      <td>120</td>\n",
       "      <td>233</td>\n",
       "      <td>True</td>\n",
       "      <td>True</td>\n",
       "    </tr>\n",
       "    <tr>\n",
       "      <th>28</th>\n",
       "      <td>hollywoodawards</td>\n",
       "      <td>150</td>\n",
       "      <td>4</td>\n",
       "      <td>False</td>\n",
       "      <td>True</td>\n",
       "    </tr>\n",
       "    <tr>\n",
       "      <th>31</th>\n",
       "      <td>maternitystyle</td>\n",
       "      <td>230</td>\n",
       "      <td>389</td>\n",
       "      <td>True</td>\n",
       "      <td>True</td>\n",
       "    </tr>\n",
       "    <tr>\n",
       "      <th>32</th>\n",
       "      <td>mkshanghai</td>\n",
       "      <td>110</td>\n",
       "      <td>0</td>\n",
       "      <td>False</td>\n",
       "      <td>True</td>\n",
       "    </tr>\n",
       "    <tr>\n",
       "      <th>35</th>\n",
       "      <td>maternityfashion</td>\n",
       "      <td>190</td>\n",
       "      <td>283</td>\n",
       "      <td>True</td>\n",
       "      <td>True</td>\n",
       "    </tr>\n",
       "  </tbody>\n",
       "</table>\n",
       "</div>"
      ],
      "text/plain": [
       "                   trend  total_volume  social_buzz more_social one_word\n",
       "1             saksutopia             0            0        True     True\n",
       "2             oscars2016             0            9        True     True\n",
       "5             cfdaawards           480           12       False     True\n",
       "6   billboardmusicawards          1260            5       False     True\n",
       "24        mtvmovieawards          7090         1003       False     True\n",
       "27      pregnancyfashion           120          233        True     True\n",
       "28       hollywoodawards           150            4       False     True\n",
       "31        maternitystyle           230          389        True     True\n",
       "32            mkshanghai           110            0       False     True\n",
       "35      maternityfashion           190          283        True     True"
      ]
     },
     "execution_count": 123,
     "metadata": {},
     "output_type": "execute_result"
    }
   ],
   "source": [
    "# only terms with one word\n",
    "one_word_df = df[df['one_word']]\n",
    "one_word_df.head(10)"
   ]
  },
  {
   "cell_type": "code",
   "execution_count": 124,
   "metadata": {
    "collapsed": false
   },
   "outputs": [
    {
     "data": {
      "text/plain": [
       "844"
      ]
     },
     "execution_count": 124,
     "metadata": {},
     "output_type": "execute_result"
    }
   ],
   "source": [
    "len(one_word_df)"
   ]
  },
  {
   "cell_type": "markdown",
   "metadata": {},
   "source": [
    "looks like there are potentially 844 hashtags"
   ]
  },
  {
   "cell_type": "code",
   "execution_count": 127,
   "metadata": {
    "collapsed": false
   },
   "outputs": [],
   "source": [
    "one_word_df.to_csv('potentialhashtags.csv')"
   ]
  },
  {
   "cell_type": "markdown",
   "metadata": {},
   "source": [
    "#### Eliminate all the known words"
   ]
  },
  {
   "cell_type": "code",
   "execution_count": 155,
   "metadata": {
    "collapsed": false
   },
   "outputs": [
    {
     "name": "stdout",
     "output_type": "stream",
     "text": [
      "Collecting requests\n",
      "  Using cached requests-2.9.1-py2.py3-none-any.whl\n",
      "Installing collected packages: requests\n",
      "  Found existing installation: requests 2.1.0\n",
      "    Uninstalling requests-2.1.0:\n",
      "      Successfully uninstalled requests-2.1.0\n",
      "Successfully installed requests-2.9.1\n"
     ]
    }
   ],
   "source": [
    "%%bash\n",
    "pip install --upgrade requests"
   ]
  },
  {
   "cell_type": "code",
   "execution_count": 149,
   "metadata": {
    "collapsed": false
   },
   "outputs": [
    {
     "name": "stderr",
     "output_type": "stream",
     "text": [
      "/Users/eden/anaconda/lib/python2.7/site-packages/ipykernel/__main__.py:5: UnicodeWarning: Unicode equal comparison failed to convert both arguments to Unicode - interpreting them as being unequal\n",
      "/Users/eden/anaconda/lib/python2.7/site-packages/ipykernel/__main__.py:8: SettingWithCopyWarning: \n",
      "A value is trying to be set on a copy of a slice from a DataFrame.\n",
      "Try using .loc[row_indexer,col_indexer] = value instead\n",
      "\n",
      "See the the caveats in the documentation: http://pandas.pydata.org/pandas-docs/stable/indexing.html#indexing-view-versus-copy\n"
     ]
    }
   ],
   "source": [
    "# eliminate all the known words\n",
    "from nltk.corpus import words\n",
    "\n",
    "def is_actual_word(trend):\n",
    "    word_bool = trend in words.words()\n",
    "    return word_bool\n",
    "\n",
    "one_word_df['actual_word'] = one_word_df['trend'].apply(lambda trend: is_actual_word(trend))"
   ]
  },
  {
   "cell_type": "code",
   "execution_count": 150,
   "metadata": {
    "collapsed": false
   },
   "outputs": [
    {
     "data": {
      "text/html": [
       "<div>\n",
       "<table border=\"1\" class=\"dataframe\">\n",
       "  <thead>\n",
       "    <tr style=\"text-align: right;\">\n",
       "      <th></th>\n",
       "      <th>trend</th>\n",
       "      <th>total_volume</th>\n",
       "      <th>social_buzz</th>\n",
       "      <th>more_social</th>\n",
       "      <th>one_word</th>\n",
       "      <th>actual_word</th>\n",
       "    </tr>\n",
       "  </thead>\n",
       "  <tbody>\n",
       "    <tr>\n",
       "      <th>1</th>\n",
       "      <td>saksutopia</td>\n",
       "      <td>0</td>\n",
       "      <td>0</td>\n",
       "      <td>True</td>\n",
       "      <td>True</td>\n",
       "      <td>False</td>\n",
       "    </tr>\n",
       "    <tr>\n",
       "      <th>2</th>\n",
       "      <td>oscars2016</td>\n",
       "      <td>0</td>\n",
       "      <td>9</td>\n",
       "      <td>True</td>\n",
       "      <td>True</td>\n",
       "      <td>False</td>\n",
       "    </tr>\n",
       "    <tr>\n",
       "      <th>5</th>\n",
       "      <td>cfdaawards</td>\n",
       "      <td>480</td>\n",
       "      <td>12</td>\n",
       "      <td>False</td>\n",
       "      <td>True</td>\n",
       "      <td>False</td>\n",
       "    </tr>\n",
       "    <tr>\n",
       "      <th>6</th>\n",
       "      <td>billboardmusicawards</td>\n",
       "      <td>1260</td>\n",
       "      <td>5</td>\n",
       "      <td>False</td>\n",
       "      <td>True</td>\n",
       "      <td>False</td>\n",
       "    </tr>\n",
       "    <tr>\n",
       "      <th>24</th>\n",
       "      <td>mtvmovieawards</td>\n",
       "      <td>7090</td>\n",
       "      <td>1003</td>\n",
       "      <td>False</td>\n",
       "      <td>True</td>\n",
       "      <td>False</td>\n",
       "    </tr>\n",
       "    <tr>\n",
       "      <th>27</th>\n",
       "      <td>pregnancyfashion</td>\n",
       "      <td>120</td>\n",
       "      <td>233</td>\n",
       "      <td>True</td>\n",
       "      <td>True</td>\n",
       "      <td>False</td>\n",
       "    </tr>\n",
       "    <tr>\n",
       "      <th>28</th>\n",
       "      <td>hollywoodawards</td>\n",
       "      <td>150</td>\n",
       "      <td>4</td>\n",
       "      <td>False</td>\n",
       "      <td>True</td>\n",
       "      <td>False</td>\n",
       "    </tr>\n",
       "    <tr>\n",
       "      <th>31</th>\n",
       "      <td>maternitystyle</td>\n",
       "      <td>230</td>\n",
       "      <td>389</td>\n",
       "      <td>True</td>\n",
       "      <td>True</td>\n",
       "      <td>False</td>\n",
       "    </tr>\n",
       "    <tr>\n",
       "      <th>32</th>\n",
       "      <td>mkshanghai</td>\n",
       "      <td>110</td>\n",
       "      <td>0</td>\n",
       "      <td>False</td>\n",
       "      <td>True</td>\n",
       "      <td>False</td>\n",
       "    </tr>\n",
       "    <tr>\n",
       "      <th>35</th>\n",
       "      <td>maternityfashion</td>\n",
       "      <td>190</td>\n",
       "      <td>283</td>\n",
       "      <td>True</td>\n",
       "      <td>True</td>\n",
       "      <td>False</td>\n",
       "    </tr>\n",
       "  </tbody>\n",
       "</table>\n",
       "</div>"
      ],
      "text/plain": [
       "                   trend  total_volume  social_buzz more_social one_word actual_word\n",
       "1             saksutopia             0            0        True     True       False\n",
       "2             oscars2016             0            9        True     True       False\n",
       "5             cfdaawards           480           12       False     True       False\n",
       "6   billboardmusicawards          1260            5       False     True       False\n",
       "24        mtvmovieawards          7090         1003       False     True       False\n",
       "27      pregnancyfashion           120          233        True     True       False\n",
       "28       hollywoodawards           150            4       False     True       False\n",
       "31        maternitystyle           230          389        True     True       False\n",
       "32            mkshanghai           110            0       False     True       False\n",
       "35      maternityfashion           190          283        True     True       False"
      ]
     },
     "execution_count": 150,
     "metadata": {},
     "output_type": "execute_result"
    }
   ],
   "source": [
    "# only terms with one word\n",
    "full_hashtag_df = one_word_df[one_word_df['actual_word'] == 0]\n",
    "full_hashtag_df.head(10)"
   ]
  },
  {
   "cell_type": "code",
   "execution_count": 151,
   "metadata": {
    "collapsed": true
   },
   "outputs": [],
   "source": [
    "full_hashtag_df.to_csv('full_potential_hashtags.csv')"
   ]
  },
  {
   "cell_type": "code",
   "execution_count": 153,
   "metadata": {
    "collapsed": false
   },
   "outputs": [
    {
     "data": {
      "text/plain": [
       "trend           449\n",
       "total_volume    449\n",
       "social_buzz     449\n",
       "more_social     449\n",
       "one_word        449\n",
       "actual_word     449\n",
       "dtype: int64"
      ]
     },
     "execution_count": 153,
     "metadata": {},
     "output_type": "execute_result"
    }
   ],
   "source": [
    "full_hashtag_df.count()"
   ]
  },
  {
   "cell_type": "markdown",
   "metadata": {},
   "source": [
    "Looks like there's actually more that are real words so we should add another run through."
   ]
  },
  {
   "cell_type": "markdown",
   "metadata": {},
   "source": [
    "Try using enchant later (figure out import error)"
   ]
  },
  {
   "cell_type": "code",
   "execution_count": 184,
   "metadata": {
    "collapsed": false
   },
   "outputs": [],
   "source": [
    "def is_actual_word_2(term):\n",
    "    text = open(\"/usr/share/dict/words\",'r').readlines()\n",
    "    for lines in text:\n",
    "        if lines.find(term) == 0:\n",
    "            return True\n",
    "    return False"
   ]
  },
  {
   "cell_type": "code",
   "execution_count": 189,
   "metadata": {
    "collapsed": false
   },
   "outputs": [
    {
     "name": "stderr",
     "output_type": "stream",
     "text": [
      "/Users/eden/anaconda/lib/python2.7/site-packages/ipykernel/__main__.py:1: SettingWithCopyWarning: \n",
      "A value is trying to be set on a copy of a slice from a DataFrame.\n",
      "Try using .loc[row_indexer,col_indexer] = value instead\n",
      "\n",
      "See the the caveats in the documentation: http://pandas.pydata.org/pandas-docs/stable/indexing.html#indexing-view-versus-copy\n",
      "  if __name__ == '__main__':\n"
     ]
    },
    {
     "data": {
      "text/html": [
       "<div>\n",
       "<table border=\"1\" class=\"dataframe\">\n",
       "  <thead>\n",
       "    <tr style=\"text-align: right;\">\n",
       "      <th></th>\n",
       "      <th>trend</th>\n",
       "      <th>total_volume</th>\n",
       "      <th>social_buzz</th>\n",
       "      <th>more_social</th>\n",
       "      <th>one_word</th>\n",
       "      <th>actual_word</th>\n",
       "      <th>actual_word_2</th>\n",
       "    </tr>\n",
       "  </thead>\n",
       "  <tbody>\n",
       "    <tr>\n",
       "      <th>1</th>\n",
       "      <td>saksutopia</td>\n",
       "      <td>0</td>\n",
       "      <td>0</td>\n",
       "      <td>True</td>\n",
       "      <td>True</td>\n",
       "      <td>False</td>\n",
       "      <td>False</td>\n",
       "    </tr>\n",
       "    <tr>\n",
       "      <th>2</th>\n",
       "      <td>oscars2016</td>\n",
       "      <td>0</td>\n",
       "      <td>9</td>\n",
       "      <td>True</td>\n",
       "      <td>True</td>\n",
       "      <td>False</td>\n",
       "      <td>False</td>\n",
       "    </tr>\n",
       "    <tr>\n",
       "      <th>5</th>\n",
       "      <td>cfdaawards</td>\n",
       "      <td>480</td>\n",
       "      <td>12</td>\n",
       "      <td>False</td>\n",
       "      <td>True</td>\n",
       "      <td>False</td>\n",
       "      <td>False</td>\n",
       "    </tr>\n",
       "    <tr>\n",
       "      <th>6</th>\n",
       "      <td>billboardmusicawards</td>\n",
       "      <td>1260</td>\n",
       "      <td>5</td>\n",
       "      <td>False</td>\n",
       "      <td>True</td>\n",
       "      <td>False</td>\n",
       "      <td>False</td>\n",
       "    </tr>\n",
       "    <tr>\n",
       "      <th>24</th>\n",
       "      <td>mtvmovieawards</td>\n",
       "      <td>7090</td>\n",
       "      <td>1003</td>\n",
       "      <td>False</td>\n",
       "      <td>True</td>\n",
       "      <td>False</td>\n",
       "      <td>False</td>\n",
       "    </tr>\n",
       "    <tr>\n",
       "      <th>27</th>\n",
       "      <td>pregnancyfashion</td>\n",
       "      <td>120</td>\n",
       "      <td>233</td>\n",
       "      <td>True</td>\n",
       "      <td>True</td>\n",
       "      <td>False</td>\n",
       "      <td>False</td>\n",
       "    </tr>\n",
       "    <tr>\n",
       "      <th>28</th>\n",
       "      <td>hollywoodawards</td>\n",
       "      <td>150</td>\n",
       "      <td>4</td>\n",
       "      <td>False</td>\n",
       "      <td>True</td>\n",
       "      <td>False</td>\n",
       "      <td>False</td>\n",
       "    </tr>\n",
       "    <tr>\n",
       "      <th>31</th>\n",
       "      <td>maternitystyle</td>\n",
       "      <td>230</td>\n",
       "      <td>389</td>\n",
       "      <td>True</td>\n",
       "      <td>True</td>\n",
       "      <td>False</td>\n",
       "      <td>False</td>\n",
       "    </tr>\n",
       "    <tr>\n",
       "      <th>32</th>\n",
       "      <td>mkshanghai</td>\n",
       "      <td>110</td>\n",
       "      <td>0</td>\n",
       "      <td>False</td>\n",
       "      <td>True</td>\n",
       "      <td>False</td>\n",
       "      <td>False</td>\n",
       "    </tr>\n",
       "    <tr>\n",
       "      <th>35</th>\n",
       "      <td>maternityfashion</td>\n",
       "      <td>190</td>\n",
       "      <td>283</td>\n",
       "      <td>True</td>\n",
       "      <td>True</td>\n",
       "      <td>False</td>\n",
       "      <td>False</td>\n",
       "    </tr>\n",
       "  </tbody>\n",
       "</table>\n",
       "</div>"
      ],
      "text/plain": [
       "                   trend  total_volume  social_buzz more_social one_word actual_word actual_word_2\n",
       "1             saksutopia             0            0        True     True       False         False\n",
       "2             oscars2016             0            9        True     True       False         False\n",
       "5             cfdaawards           480           12       False     True       False         False\n",
       "6   billboardmusicawards          1260            5       False     True       False         False\n",
       "24        mtvmovieawards          7090         1003       False     True       False         False\n",
       "27      pregnancyfashion           120          233        True     True       False         False\n",
       "28       hollywoodawards           150            4       False     True       False         False\n",
       "31        maternitystyle           230          389        True     True       False         False\n",
       "32            mkshanghai           110            0       False     True       False         False\n",
       "35      maternityfashion           190          283        True     True       False         False"
      ]
     },
     "execution_count": 189,
     "metadata": {},
     "output_type": "execute_result"
    }
   ],
   "source": [
    "full_hashtag_df['actual_word_2'] = full_hashtag_df['trend'].apply(lambda trend: is_actual_word_2(trend))\n",
    "# only terms with one word\n",
    "complete_hashtag_df = full_hashtag_df[full_hashtag_df['actual_word'] == 0]\n",
    "complete_hashtag_df.head(10)"
   ]
  },
  {
   "cell_type": "markdown",
   "metadata": {},
   "source": [
    "#### Still left with a lot of products like iphone, balding, etc."
   ]
  },
  {
   "cell_type": "markdown",
   "metadata": {},
   "source": [
    "We try urban dictionary next"
   ]
  },
  {
   "cell_type": "code",
   "execution_count": 195,
   "metadata": {
    "collapsed": true
   },
   "outputs": [],
   "source": [
    "# for now just gets the associated json\n",
    "def is_urban_word(term):\n",
    "    \n",
    "    # base API endpoint url\n",
    "    base_url = \"https://mashape-community-urban-dictionary.p.mashape.com/define?term=\"\n",
    "    # convert term like 'pink wedding dress' to 'pink+wedding+dress'\n",
    "    encoded_term = urllib.quote_plus(term)\n",
    "    url = base_url + encoded_term\n",
    "    \n",
    "    # set authorization\n",
    "    headers = {'X-Mashape-Key': 'VFFIcqo1QgmshHrfINfqjWRHKEvMp1p8SUpjsnwZOtpUfq2Vpa', \n",
    "               'Accept': 'text/plain'}\n",
    "     \n",
    "    # get response\n",
    "    response = requests.get(url, headers=headers)\n",
    "    response_json = json.loads(response.text)\n",
    "    \n",
    "    result_type = response_json[\"result_type\"]\n",
    "    if result_type == 'no_results':\n",
    "        return False\n",
    "    return True"
   ]
  },
  {
   "cell_type": "code",
   "execution_count": 253,
   "metadata": {
    "collapsed": false
   },
   "outputs": [
    {
     "data": {
      "text/plain": [
       "True"
      ]
     },
     "execution_count": 253,
     "metadata": {},
     "output_type": "execute_result"
    }
   ],
   "source": [
    "is_urban_word(\"babybump\")"
   ]
  },
  {
   "cell_type": "code",
   "execution_count": 202,
   "metadata": {
    "collapsed": false
   },
   "outputs": [
    {
     "data": {
      "text/html": [
       "<div>\n",
       "<table border=\"1\" class=\"dataframe\">\n",
       "  <thead>\n",
       "    <tr style=\"text-align: right;\">\n",
       "      <th></th>\n",
       "      <th>trend</th>\n",
       "      <th>total_volume</th>\n",
       "      <th>social_buzz</th>\n",
       "      <th>more_social</th>\n",
       "      <th>one_word</th>\n",
       "      <th>actual_word</th>\n",
       "      <th>actual_word_2</th>\n",
       "      <th>urban_term</th>\n",
       "    </tr>\n",
       "  </thead>\n",
       "  <tbody>\n",
       "    <tr>\n",
       "      <th>1</th>\n",
       "      <td>saksutopia</td>\n",
       "      <td>0</td>\n",
       "      <td>0</td>\n",
       "      <td>True</td>\n",
       "      <td>True</td>\n",
       "      <td>False</td>\n",
       "      <td>False</td>\n",
       "      <td>False</td>\n",
       "    </tr>\n",
       "    <tr>\n",
       "      <th>2</th>\n",
       "      <td>oscars2016</td>\n",
       "      <td>0</td>\n",
       "      <td>9</td>\n",
       "      <td>True</td>\n",
       "      <td>True</td>\n",
       "      <td>False</td>\n",
       "      <td>False</td>\n",
       "      <td>False</td>\n",
       "    </tr>\n",
       "    <tr>\n",
       "      <th>5</th>\n",
       "      <td>cfdaawards</td>\n",
       "      <td>480</td>\n",
       "      <td>12</td>\n",
       "      <td>False</td>\n",
       "      <td>True</td>\n",
       "      <td>False</td>\n",
       "      <td>False</td>\n",
       "      <td>False</td>\n",
       "    </tr>\n",
       "    <tr>\n",
       "      <th>6</th>\n",
       "      <td>billboardmusicawards</td>\n",
       "      <td>1260</td>\n",
       "      <td>5</td>\n",
       "      <td>False</td>\n",
       "      <td>True</td>\n",
       "      <td>False</td>\n",
       "      <td>False</td>\n",
       "      <td>False</td>\n",
       "    </tr>\n",
       "    <tr>\n",
       "      <th>24</th>\n",
       "      <td>mtvmovieawards</td>\n",
       "      <td>7090</td>\n",
       "      <td>1003</td>\n",
       "      <td>False</td>\n",
       "      <td>True</td>\n",
       "      <td>False</td>\n",
       "      <td>False</td>\n",
       "      <td>True</td>\n",
       "    </tr>\n",
       "    <tr>\n",
       "      <th>27</th>\n",
       "      <td>pregnancyfashion</td>\n",
       "      <td>120</td>\n",
       "      <td>233</td>\n",
       "      <td>True</td>\n",
       "      <td>True</td>\n",
       "      <td>False</td>\n",
       "      <td>False</td>\n",
       "      <td>False</td>\n",
       "    </tr>\n",
       "    <tr>\n",
       "      <th>28</th>\n",
       "      <td>hollywoodawards</td>\n",
       "      <td>150</td>\n",
       "      <td>4</td>\n",
       "      <td>False</td>\n",
       "      <td>True</td>\n",
       "      <td>False</td>\n",
       "      <td>False</td>\n",
       "      <td>False</td>\n",
       "    </tr>\n",
       "    <tr>\n",
       "      <th>31</th>\n",
       "      <td>maternitystyle</td>\n",
       "      <td>230</td>\n",
       "      <td>389</td>\n",
       "      <td>True</td>\n",
       "      <td>True</td>\n",
       "      <td>False</td>\n",
       "      <td>False</td>\n",
       "      <td>False</td>\n",
       "    </tr>\n",
       "    <tr>\n",
       "      <th>32</th>\n",
       "      <td>mkshanghai</td>\n",
       "      <td>110</td>\n",
       "      <td>0</td>\n",
       "      <td>False</td>\n",
       "      <td>True</td>\n",
       "      <td>False</td>\n",
       "      <td>False</td>\n",
       "      <td>False</td>\n",
       "    </tr>\n",
       "    <tr>\n",
       "      <th>35</th>\n",
       "      <td>maternityfashion</td>\n",
       "      <td>190</td>\n",
       "      <td>283</td>\n",
       "      <td>True</td>\n",
       "      <td>True</td>\n",
       "      <td>False</td>\n",
       "      <td>False</td>\n",
       "      <td>False</td>\n",
       "    </tr>\n",
       "  </tbody>\n",
       "</table>\n",
       "</div>"
      ],
      "text/plain": [
       "                   trend  total_volume  social_buzz more_social one_word actual_word actual_word_2 urban_term\n",
       "1             saksutopia             0            0        True     True       False         False      False\n",
       "2             oscars2016             0            9        True     True       False         False      False\n",
       "5             cfdaawards           480           12       False     True       False         False      False\n",
       "6   billboardmusicawards          1260            5       False     True       False         False      False\n",
       "24        mtvmovieawards          7090         1003       False     True       False         False       True\n",
       "27      pregnancyfashion           120          233        True     True       False         False      False\n",
       "28       hollywoodawards           150            4       False     True       False         False      False\n",
       "31        maternitystyle           230          389        True     True       False         False      False\n",
       "32            mkshanghai           110            0       False     True       False         False      False\n",
       "35      maternityfashion           190          283        True     True       False         False      False"
      ]
     },
     "execution_count": 202,
     "metadata": {},
     "output_type": "execute_result"
    }
   ],
   "source": [
    "complete_hashtag_df['urban_term'] = complete_hashtag_df['trend'].apply(lambda trend: is_urban_word(trend))\n",
    "# only terms with one word"
   ]
  },
  {
   "cell_type": "code",
   "execution_count": 203,
   "metadata": {
    "collapsed": false
   },
   "outputs": [
    {
     "data": {
      "text/html": [
       "<div>\n",
       "<table border=\"1\" class=\"dataframe\">\n",
       "  <thead>\n",
       "    <tr style=\"text-align: right;\">\n",
       "      <th></th>\n",
       "      <th>trend</th>\n",
       "      <th>total_volume</th>\n",
       "      <th>social_buzz</th>\n",
       "      <th>more_social</th>\n",
       "      <th>one_word</th>\n",
       "      <th>actual_word</th>\n",
       "      <th>actual_word_2</th>\n",
       "      <th>urban_term</th>\n",
       "    </tr>\n",
       "  </thead>\n",
       "  <tbody>\n",
       "    <tr>\n",
       "      <th>1</th>\n",
       "      <td>saksutopia</td>\n",
       "      <td>0</td>\n",
       "      <td>0</td>\n",
       "      <td>True</td>\n",
       "      <td>True</td>\n",
       "      <td>False</td>\n",
       "      <td>False</td>\n",
       "      <td>False</td>\n",
       "    </tr>\n",
       "    <tr>\n",
       "      <th>2</th>\n",
       "      <td>oscars2016</td>\n",
       "      <td>0</td>\n",
       "      <td>9</td>\n",
       "      <td>True</td>\n",
       "      <td>True</td>\n",
       "      <td>False</td>\n",
       "      <td>False</td>\n",
       "      <td>False</td>\n",
       "    </tr>\n",
       "    <tr>\n",
       "      <th>5</th>\n",
       "      <td>cfdaawards</td>\n",
       "      <td>480</td>\n",
       "      <td>12</td>\n",
       "      <td>False</td>\n",
       "      <td>True</td>\n",
       "      <td>False</td>\n",
       "      <td>False</td>\n",
       "      <td>False</td>\n",
       "    </tr>\n",
       "    <tr>\n",
       "      <th>6</th>\n",
       "      <td>billboardmusicawards</td>\n",
       "      <td>1260</td>\n",
       "      <td>5</td>\n",
       "      <td>False</td>\n",
       "      <td>True</td>\n",
       "      <td>False</td>\n",
       "      <td>False</td>\n",
       "      <td>False</td>\n",
       "    </tr>\n",
       "    <tr>\n",
       "      <th>27</th>\n",
       "      <td>pregnancyfashion</td>\n",
       "      <td>120</td>\n",
       "      <td>233</td>\n",
       "      <td>True</td>\n",
       "      <td>True</td>\n",
       "      <td>False</td>\n",
       "      <td>False</td>\n",
       "      <td>False</td>\n",
       "    </tr>\n",
       "    <tr>\n",
       "      <th>28</th>\n",
       "      <td>hollywoodawards</td>\n",
       "      <td>150</td>\n",
       "      <td>4</td>\n",
       "      <td>False</td>\n",
       "      <td>True</td>\n",
       "      <td>False</td>\n",
       "      <td>False</td>\n",
       "      <td>False</td>\n",
       "    </tr>\n",
       "    <tr>\n",
       "      <th>31</th>\n",
       "      <td>maternitystyle</td>\n",
       "      <td>230</td>\n",
       "      <td>389</td>\n",
       "      <td>True</td>\n",
       "      <td>True</td>\n",
       "      <td>False</td>\n",
       "      <td>False</td>\n",
       "      <td>False</td>\n",
       "    </tr>\n",
       "    <tr>\n",
       "      <th>32</th>\n",
       "      <td>mkshanghai</td>\n",
       "      <td>110</td>\n",
       "      <td>0</td>\n",
       "      <td>False</td>\n",
       "      <td>True</td>\n",
       "      <td>False</td>\n",
       "      <td>False</td>\n",
       "      <td>False</td>\n",
       "    </tr>\n",
       "    <tr>\n",
       "      <th>35</th>\n",
       "      <td>maternityfashion</td>\n",
       "      <td>190</td>\n",
       "      <td>283</td>\n",
       "      <td>True</td>\n",
       "      <td>True</td>\n",
       "      <td>False</td>\n",
       "      <td>False</td>\n",
       "      <td>False</td>\n",
       "    </tr>\n",
       "    <tr>\n",
       "      <th>36</th>\n",
       "      <td>microdermobrasian</td>\n",
       "      <td>120</td>\n",
       "      <td>32</td>\n",
       "      <td>False</td>\n",
       "      <td>True</td>\n",
       "      <td>False</td>\n",
       "      <td>False</td>\n",
       "      <td>False</td>\n",
       "    </tr>\n",
       "  </tbody>\n",
       "</table>\n",
       "</div>"
      ],
      "text/plain": [
       "                   trend  total_volume  social_buzz more_social one_word actual_word actual_word_2 urban_term\n",
       "1             saksutopia             0            0        True     True       False         False      False\n",
       "2             oscars2016             0            9        True     True       False         False      False\n",
       "5             cfdaawards           480           12       False     True       False         False      False\n",
       "6   billboardmusicawards          1260            5       False     True       False         False      False\n",
       "27      pregnancyfashion           120          233        True     True       False         False      False\n",
       "28       hollywoodawards           150            4       False     True       False         False      False\n",
       "31        maternitystyle           230          389        True     True       False         False      False\n",
       "32            mkshanghai           110            0       False     True       False         False      False\n",
       "35      maternityfashion           190          283        True     True       False         False      False\n",
       "36     microdermobrasian           120           32       False     True       False         False      False"
      ]
     },
     "execution_count": 203,
     "metadata": {},
     "output_type": "execute_result"
    }
   ],
   "source": [
    "# only terms with one word\n",
    "filtered_hashtag_df = complete_hashtag_df[complete_hashtag_df['urban_term'] == 0]\n",
    "filtered_hashtag_df.head(10)"
   ]
  },
  {
   "cell_type": "code",
   "execution_count": 205,
   "metadata": {
    "collapsed": false
   },
   "outputs": [
    {
     "data": {
      "text/plain": [
       "143"
      ]
     },
     "execution_count": 205,
     "metadata": {},
     "output_type": "execute_result"
    }
   ],
   "source": [
    "filtered_hashtag_df[\"trend\"].count()"
   ]
  },
  {
   "cell_type": "code",
   "execution_count": 206,
   "metadata": {
    "collapsed": true
   },
   "outputs": [],
   "source": [
    "# move to csv\n",
    "filtered_hashtag_df.to_csv('actualhashtags.csv')"
   ]
  },
  {
   "cell_type": "markdown",
   "metadata": {},
   "source": [
    "#### Check to see if it's a brand"
   ]
  },
  {
   "cell_type": "code",
   "execution_count": 234,
   "metadata": {
    "collapsed": false
   },
   "outputs": [
    {
     "data": {
      "text/html": [
       "<div>\n",
       "<table border=\"1\" class=\"dataframe\">\n",
       "  <thead>\n",
       "    <tr style=\"text-align: right;\">\n",
       "      <th></th>\n",
       "      <th>code</th>\n",
       "      <th>name</th>\n",
       "      <th>search</th>\n",
       "      <th>link</th>\n",
       "      <th>ssname</th>\n",
       "      <th>ssid</th>\n",
       "      <th>rid</th>\n",
       "      <th>rname</th>\n",
       "    </tr>\n",
       "  </thead>\n",
       "  <tbody>\n",
       "    <tr>\n",
       "      <th>0</th>\n",
       "      <td>0039italy</td>\n",
       "      <td>0039 Italy</td>\n",
       "      <td>0039 italy</td>\n",
       "      <td>http://www.0039italy-shop.com/</td>\n",
       "      <td>0039 Italy</td>\n",
       "      <td>12092</td>\n",
       "      <td>NaN</td>\n",
       "      <td>NaN</td>\n",
       "    </tr>\n",
       "    <tr>\n",
       "      <th>1</th>\n",
       "      <td>100flavors</td>\n",
       "      <td>100 Flavors</td>\n",
       "      <td>100 flavors</td>\n",
       "      <td>http://100flavours.co.uk/</td>\n",
       "      <td>NaN</td>\n",
       "      <td>NaN</td>\n",
       "      <td>NaN</td>\n",
       "      <td>NaN</td>\n",
       "    </tr>\n",
       "    <tr>\n",
       "      <th>2</th>\n",
       "      <td>100layercake</td>\n",
       "      <td>100 Layer Cake</td>\n",
       "      <td>100 layer cake</td>\n",
       "      <td>http://www.100layercake.com/</td>\n",
       "      <td>NaN</td>\n",
       "      <td>NaN</td>\n",
       "      <td>NaN</td>\n",
       "      <td>NaN</td>\n",
       "    </tr>\n",
       "    <tr>\n",
       "      <th>3</th>\n",
       "      <td>10corsocomo</td>\n",
       "      <td>10 Corso Como</td>\n",
       "      <td>10 corso como</td>\n",
       "      <td>http://www.10corsocomo.com</td>\n",
       "      <td>NaN</td>\n",
       "      <td>NaN</td>\n",
       "      <td>NaN</td>\n",
       "      <td>NaN</td>\n",
       "    </tr>\n",
       "    <tr>\n",
       "      <th>4</th>\n",
       "      <td>10crosbydereklam</td>\n",
       "      <td>10 Crosby Derek Lam</td>\n",
       "      <td>10 crosby derek lam</td>\n",
       "      <td>http://10crosby.com</td>\n",
       "      <td>Derek Lam 10 Crosby</td>\n",
       "      <td>31645</td>\n",
       "      <td>NaN</td>\n",
       "      <td>NaN</td>\n",
       "    </tr>\n",
       "    <tr>\n",
       "      <th>5</th>\n",
       "      <td>10deep</td>\n",
       "      <td>10 Deep</td>\n",
       "      <td>10 deep</td>\n",
       "      <td>http://10deep.com/</td>\n",
       "      <td>10 Deep</td>\n",
       "      <td>22658</td>\n",
       "      <td>NaN</td>\n",
       "      <td>NaN</td>\n",
       "    </tr>\n",
       "    <tr>\n",
       "      <th>6</th>\n",
       "      <td>10magazine</td>\n",
       "      <td>10 Magazine</td>\n",
       "      <td>10 magazine</td>\n",
       "      <td>http://www.10magazine.com/</td>\n",
       "      <td>NaN</td>\n",
       "      <td>NaN</td>\n",
       "      <td>NaN</td>\n",
       "      <td>NaN</td>\n",
       "    </tr>\n",
       "    <tr>\n",
       "      <th>7</th>\n",
       "      <td>10strawberrystreet</td>\n",
       "      <td>10 Strawberry Street</td>\n",
       "      <td>10 strawberry street</td>\n",
       "      <td>http://tenstrawberrystreet.com/</td>\n",
       "      <td>NaN</td>\n",
       "      <td>NaN</td>\n",
       "      <td>NaN</td>\n",
       "      <td>NaN</td>\n",
       "    </tr>\n",
       "    <tr>\n",
       "      <th>8</th>\n",
       "      <td>123klan</td>\n",
       "      <td>123Klan</td>\n",
       "      <td>123klan</td>\n",
       "      <td>http://www.123klan.com/work/12</td>\n",
       "      <td>NaN</td>\n",
       "      <td>NaN</td>\n",
       "      <td>NaN</td>\n",
       "      <td>NaN</td>\n",
       "    </tr>\n",
       "    <tr>\n",
       "      <th>9</th>\n",
       "      <td>12benefits</td>\n",
       "      <td>12 benefits</td>\n",
       "      <td>12 benefits</td>\n",
       "      <td>http://12benefits.com/</td>\n",
       "      <td>NaN</td>\n",
       "      <td>NaN</td>\n",
       "      <td>NaN</td>\n",
       "      <td>NaN</td>\n",
       "    </tr>\n",
       "  </tbody>\n",
       "</table>\n",
       "</div>"
      ],
      "text/plain": [
       "                 code                  name                search                             link               ssname   ssid  rid rname\n",
       "0           0039italy            0039 Italy            0039 italy   http://www.0039italy-shop.com/           0039 Italy  12092  NaN   NaN\n",
       "1          100flavors           100 Flavors           100 flavors        http://100flavours.co.uk/                  NaN    NaN  NaN   NaN\n",
       "2        100layercake        100 Layer Cake        100 layer cake     http://www.100layercake.com/                  NaN    NaN  NaN   NaN\n",
       "3         10corsocomo         10 Corso Como         10 corso como       http://www.10corsocomo.com                  NaN    NaN  NaN   NaN\n",
       "4    10crosbydereklam   10 Crosby Derek Lam   10 crosby derek lam              http://10crosby.com  Derek Lam 10 Crosby  31645  NaN   NaN\n",
       "5              10deep               10 Deep               10 deep               http://10deep.com/              10 Deep  22658  NaN   NaN\n",
       "6          10magazine           10 Magazine           10 magazine       http://www.10magazine.com/                  NaN    NaN  NaN   NaN\n",
       "7  10strawberrystreet  10 Strawberry Street  10 strawberry street  http://tenstrawberrystreet.com/                  NaN    NaN  NaN   NaN\n",
       "8             123klan               123Klan               123klan   http://www.123klan.com/work/12                  NaN    NaN  NaN   NaN\n",
       "9          12benefits           12 benefits           12 benefits           http://12benefits.com/                  NaN    NaN  NaN   NaN"
      ]
     },
     "execution_count": 234,
     "metadata": {},
     "output_type": "execute_result"
    }
   ],
   "source": [
    "brand_df=pd.read_csv(\"brands.csv\")\n",
    "brand_df.head(10)"
   ]
  },
  {
   "cell_type": "code",
   "execution_count": 235,
   "metadata": {
    "collapsed": false
   },
   "outputs": [],
   "source": [
    "brand_list = list(brand_df['code'])\n",
    "def is_brand(trend):\n",
    "    if trend in brand_list:\n",
    "        return True\n",
    "    return False"
   ]
  },
  {
   "cell_type": "code",
   "execution_count": 236,
   "metadata": {
    "collapsed": false
   },
   "outputs": [
    {
     "data": {
      "text/plain": [
       "True"
      ]
     },
     "execution_count": 236,
     "metadata": {},
     "output_type": "execute_result"
    }
   ],
   "source": [
    "is_brand('birchbox')"
   ]
  },
  {
   "cell_type": "code",
   "execution_count": 237,
   "metadata": {
    "collapsed": false
   },
   "outputs": [
    {
     "name": "stderr",
     "output_type": "stream",
     "text": [
      "/Users/eden/anaconda/lib/python2.7/site-packages/ipykernel/__main__.py:1: SettingWithCopyWarning: \n",
      "A value is trying to be set on a copy of a slice from a DataFrame.\n",
      "Try using .loc[row_indexer,col_indexer] = value instead\n",
      "\n",
      "See the the caveats in the documentation: http://pandas.pydata.org/pandas-docs/stable/indexing.html#indexing-view-versus-copy\n",
      "  if __name__ == '__main__':\n"
     ]
    }
   ],
   "source": [
    "filtered_hashtag_df['brand_term'] = filtered_hashtag_df['trend'].apply(lambda trend: is_brand(trend))"
   ]
  },
  {
   "cell_type": "code",
   "execution_count": 238,
   "metadata": {
    "collapsed": false
   },
   "outputs": [
    {
     "data": {
      "text/html": [
       "<div>\n",
       "<table border=\"1\" class=\"dataframe\">\n",
       "  <thead>\n",
       "    <tr style=\"text-align: right;\">\n",
       "      <th></th>\n",
       "      <th>trend</th>\n",
       "      <th>total_volume</th>\n",
       "      <th>social_buzz</th>\n",
       "      <th>more_social</th>\n",
       "      <th>one_word</th>\n",
       "      <th>actual_word</th>\n",
       "      <th>actual_word_2</th>\n",
       "      <th>urban_term</th>\n",
       "      <th>brand_term</th>\n",
       "    </tr>\n",
       "  </thead>\n",
       "  <tbody>\n",
       "    <tr>\n",
       "      <th>1</th>\n",
       "      <td>saksutopia</td>\n",
       "      <td>0</td>\n",
       "      <td>0</td>\n",
       "      <td>True</td>\n",
       "      <td>True</td>\n",
       "      <td>False</td>\n",
       "      <td>False</td>\n",
       "      <td>False</td>\n",
       "      <td>False</td>\n",
       "    </tr>\n",
       "    <tr>\n",
       "      <th>2</th>\n",
       "      <td>oscars2016</td>\n",
       "      <td>0</td>\n",
       "      <td>9</td>\n",
       "      <td>True</td>\n",
       "      <td>True</td>\n",
       "      <td>False</td>\n",
       "      <td>False</td>\n",
       "      <td>False</td>\n",
       "      <td>False</td>\n",
       "    </tr>\n",
       "    <tr>\n",
       "      <th>5</th>\n",
       "      <td>cfdaawards</td>\n",
       "      <td>480</td>\n",
       "      <td>12</td>\n",
       "      <td>False</td>\n",
       "      <td>True</td>\n",
       "      <td>False</td>\n",
       "      <td>False</td>\n",
       "      <td>False</td>\n",
       "      <td>False</td>\n",
       "    </tr>\n",
       "    <tr>\n",
       "      <th>27</th>\n",
       "      <td>pregnancyfashion</td>\n",
       "      <td>120</td>\n",
       "      <td>233</td>\n",
       "      <td>True</td>\n",
       "      <td>True</td>\n",
       "      <td>False</td>\n",
       "      <td>False</td>\n",
       "      <td>False</td>\n",
       "      <td>False</td>\n",
       "    </tr>\n",
       "    <tr>\n",
       "      <th>28</th>\n",
       "      <td>hollywoodawards</td>\n",
       "      <td>150</td>\n",
       "      <td>4</td>\n",
       "      <td>False</td>\n",
       "      <td>True</td>\n",
       "      <td>False</td>\n",
       "      <td>False</td>\n",
       "      <td>False</td>\n",
       "      <td>False</td>\n",
       "    </tr>\n",
       "    <tr>\n",
       "      <th>31</th>\n",
       "      <td>maternitystyle</td>\n",
       "      <td>230</td>\n",
       "      <td>389</td>\n",
       "      <td>True</td>\n",
       "      <td>True</td>\n",
       "      <td>False</td>\n",
       "      <td>False</td>\n",
       "      <td>False</td>\n",
       "      <td>False</td>\n",
       "    </tr>\n",
       "    <tr>\n",
       "      <th>32</th>\n",
       "      <td>mkshanghai</td>\n",
       "      <td>110</td>\n",
       "      <td>0</td>\n",
       "      <td>False</td>\n",
       "      <td>True</td>\n",
       "      <td>False</td>\n",
       "      <td>False</td>\n",
       "      <td>False</td>\n",
       "      <td>False</td>\n",
       "    </tr>\n",
       "    <tr>\n",
       "      <th>35</th>\n",
       "      <td>maternityfashion</td>\n",
       "      <td>190</td>\n",
       "      <td>283</td>\n",
       "      <td>True</td>\n",
       "      <td>True</td>\n",
       "      <td>False</td>\n",
       "      <td>False</td>\n",
       "      <td>False</td>\n",
       "      <td>False</td>\n",
       "    </tr>\n",
       "    <tr>\n",
       "      <th>36</th>\n",
       "      <td>microdermobrasian</td>\n",
       "      <td>120</td>\n",
       "      <td>32</td>\n",
       "      <td>False</td>\n",
       "      <td>True</td>\n",
       "      <td>False</td>\n",
       "      <td>False</td>\n",
       "      <td>False</td>\n",
       "      <td>False</td>\n",
       "    </tr>\n",
       "    <tr>\n",
       "      <th>53</th>\n",
       "      <td>sakscanada</td>\n",
       "      <td>60</td>\n",
       "      <td>6</td>\n",
       "      <td>False</td>\n",
       "      <td>True</td>\n",
       "      <td>False</td>\n",
       "      <td>False</td>\n",
       "      <td>False</td>\n",
       "      <td>False</td>\n",
       "    </tr>\n",
       "  </tbody>\n",
       "</table>\n",
       "</div>"
      ],
      "text/plain": [
       "                trend  total_volume  social_buzz more_social one_word actual_word actual_word_2 urban_term brand_term\n",
       "1          saksutopia             0            0        True     True       False         False      False      False\n",
       "2          oscars2016             0            9        True     True       False         False      False      False\n",
       "5          cfdaawards           480           12       False     True       False         False      False      False\n",
       "27   pregnancyfashion           120          233        True     True       False         False      False      False\n",
       "28    hollywoodawards           150            4       False     True       False         False      False      False\n",
       "31     maternitystyle           230          389        True     True       False         False      False      False\n",
       "32         mkshanghai           110            0       False     True       False         False      False      False\n",
       "35   maternityfashion           190          283        True     True       False         False      False      False\n",
       "36  microdermobrasian           120           32       False     True       False         False      False      False\n",
       "53         sakscanada            60            6       False     True       False         False      False      False"
      ]
     },
     "execution_count": 238,
     "metadata": {},
     "output_type": "execute_result"
    }
   ],
   "source": [
    "filtered_brand_hashtag_df = filtered_hashtag_df[filtered_hashtag_df['brand_term'] == 0]\n",
    "filtered_brand_hashtag_df.head(10)"
   ]
  },
  {
   "cell_type": "code",
   "execution_count": 239,
   "metadata": {
    "collapsed": false
   },
   "outputs": [
    {
     "data": {
      "text/plain": [
       "128"
      ]
     },
     "execution_count": 239,
     "metadata": {},
     "output_type": "execute_result"
    }
   ],
   "source": [
    "filtered_brand_hashtag_df['trend'].count()"
   ]
  },
  {
   "cell_type": "code",
   "execution_count": 240,
   "metadata": {
    "collapsed": true
   },
   "outputs": [],
   "source": [
    "filtered_brand_hashtag_df.to_csv('filteredbrandhashtag.csv')"
   ]
  },
  {
   "cell_type": "markdown",
   "metadata": {},
   "source": [
    "#### Is there retail distribution"
   ]
  },
  {
   "cell_type": "code",
   "execution_count": 241,
   "metadata": {
    "collapsed": true
   },
   "outputs": [],
   "source": [
    "def get_retail_distribution(term):\n",
    "    \n",
    "    # base API endpoint url\n",
    "    base_url = 'http://api.shopstyle.com/api/v2/products?filters=Category%2CBrand%2CRetailer%2CPrice%2CDiscount%2CSize%2CColor%2CDeal&fts='\n",
    "    # convert term like 'pink wedding dress' to 'pink+wedding+dress'\n",
    "    encoded_term = urllib.quote_plus(term)\n",
    "    base_end_url = '&pid=shopstyle'\n",
    "    url = base_url + encoded_term + base_end_url\n",
    "    \n",
    "    # get response\n",
    "    response = requests.get(url)\n",
    "    response_json = json.loads(response.text)\n",
    "    \n",
    "    # get # total products\n",
    "    total_products = response_json['metadata']['total']\n",
    "\n",
    "    return total_products"
   ]
  },
  {
   "cell_type": "code",
   "execution_count": 242,
   "metadata": {
    "collapsed": false
   },
   "outputs": [],
   "source": [
    "retail_distribution = []\n",
    "for term in filtered_brand_hashtag_df[\"trend\"]:\n",
    "    total_products = get_retail_distribution(term)\n",
    "    retail_distribution.append(total_products)"
   ]
  },
  {
   "cell_type": "code",
   "execution_count": 243,
   "metadata": {
    "collapsed": false
   },
   "outputs": [
    {
     "name": "stderr",
     "output_type": "stream",
     "text": [
      "/Users/eden/anaconda/lib/python2.7/site-packages/ipykernel/__main__.py:1: SettingWithCopyWarning: \n",
      "A value is trying to be set on a copy of a slice from a DataFrame.\n",
      "Try using .loc[row_indexer,col_indexer] = value instead\n",
      "\n",
      "See the the caveats in the documentation: http://pandas.pydata.org/pandas-docs/stable/indexing.html#indexing-view-versus-copy\n",
      "  if __name__ == '__main__':\n"
     ]
    }
   ],
   "source": [
    "filtered_brand_hashtag_df[\"retail_distribution\"] = retail_distribution"
   ]
  },
  {
   "cell_type": "code",
   "execution_count": 244,
   "metadata": {
    "collapsed": false
   },
   "outputs": [
    {
     "data": {
      "text/plain": [
       "count      128.000000\n",
       "mean      1711.460938\n",
       "std       6963.969478\n",
       "min          0.000000\n",
       "25%          0.000000\n",
       "50%          0.000000\n",
       "75%         56.250000\n",
       "max      47400.000000\n",
       "Name: retail_distribution, dtype: float64"
      ]
     },
     "execution_count": 244,
     "metadata": {},
     "output_type": "execute_result"
    }
   ],
   "source": [
    "filtered_brand_hashtag_df[\"retail_distribution\"].describe()"
   ]
  },
  {
   "cell_type": "code",
   "execution_count": 245,
   "metadata": {
    "collapsed": false
   },
   "outputs": [],
   "source": [
    "filtered_product_hashtag_df = filtered_brand_hashtag_df[filtered_brand_hashtag_df[\"retail_distribution\"] == 0]"
   ]
  },
  {
   "cell_type": "code",
   "execution_count": 246,
   "metadata": {
    "collapsed": false
   },
   "outputs": [
    {
     "data": {
      "text/plain": [
       "trend                  76\n",
       "total_volume           76\n",
       "social_buzz            76\n",
       "more_social            76\n",
       "one_word               76\n",
       "actual_word            76\n",
       "actual_word_2          76\n",
       "urban_term             76\n",
       "brand_term             76\n",
       "retail_distribution    76\n",
       "dtype: int64"
      ]
     },
     "execution_count": 246,
     "metadata": {},
     "output_type": "execute_result"
    }
   ],
   "source": [
    "filtered_product_hashtag_df.count()"
   ]
  },
  {
   "cell_type": "code",
   "execution_count": 249,
   "metadata": {
    "collapsed": false
   },
   "outputs": [],
   "source": [
    "filtered_product_hashtag_df.to_csv('final_hashtag_df.csv')"
   ]
  },
  {
   "cell_type": "markdown",
   "metadata": {},
   "source": [
    "#### Let's see how accurate we were"
   ]
  },
  {
   "cell_type": "code",
   "execution_count": 255,
   "metadata": {
    "collapsed": false
   },
   "outputs": [
    {
     "name": "stdout",
     "output_type": "stream",
     "text": [
      "count: 28\n",
      "total known hashtags: 62\n"
     ]
    }
   ],
   "source": [
    "known_hashtags = ['babybump', 'bump', 'bumpchic', 'fabmom', 'maternity', 'maternityfashion', 'maternitystyle', 'mommytobe',\n",
    "                  'pregnancy', 'pregnancyfashion', 'pregnancyfashion', 'pregnancystyle', 'pregnantfashion', \n",
    "                  'pregnantstyle', '100gala', 'aacta', 'aactas', 'academyawards', 'acmawards', 'alma', 'bafta', 'baftas', \n",
    "                  'bbma', 'bbmas', 'betawards', 'bifaawards', 'billboardmusicawards', 'brits', 'cannes', \n",
    "                  'cannesfilmfestival', 'cfdaawards', 'cma', 'cmaawards', 'cmas', 'cmt', 'cmtawards', 'cmts', \n",
    "                  'criticschoice', 'criticschoiceawards', 'emmyawards', 'emmys', 'goldenglobe', 'goldenglobes', \n",
    "                  'grammys', 'hollywoodawards', 'mtvema', 'mtvmovieawards', 'mtvvma', 'nyfw', 'oscars', 'pcas', \n",
    "                  'peopleschoice', 'peopleschoiceawards', 'sagawards', 'teenchoice', 'teenchoiceawards', 'time100gala', \n",
    "                  'tonyawards', 'tonys', 'tribecafilm', 'vma', 'vmas']\n",
    "count = 0\n",
    "missed_hashtags_list = []\n",
    "for hashtag in known_hashtags:\n",
    "    if hashtag in list(filtered_product_hashtag_df['trend']):\n",
    "        count = count + 1\n",
    "    else:\n",
    "        missed_hashtags_list.append(hashtag)\n",
    "    \n",
    "print \"count: \" + str(count) \n",
    "total_known_hashtags = len(known_hashtags)\n",
    "print \"total known hashtags: \" + str(total_known_hashtags)"
   ]
  },
  {
   "cell_type": "markdown",
   "metadata": {},
   "source": [
    "All but 6 of the above words are filtered out as hashtags since they are known by urban dictionary\n"
   ]
  },
  {
   "cell_type": "code",
   "execution_count": 260,
   "metadata": {
    "collapsed": false
   },
   "outputs": [
    {
     "name": "stdout",
     "output_type": "stream",
     "text": [
      "maternity\n",
      "baftas\n",
      "billboardmusicawards\n",
      "cannesfilmfestival\n",
      "criticschoiceawards\n",
      "peopleschoiceawards\n",
      "tonyawards\n",
      "count: 27\n",
      "total known hashtags: 34\n"
     ]
    }
   ],
   "source": [
    "count = 0\n",
    "more_missed_hashtags = []\n",
    "for missed_hashtag in missed_hashtags_list:\n",
    "    if is_urban_word(missed_hashtag):\n",
    "        count = count + 1\n",
    "    else:\n",
    "        print missed_hashtag\n",
    "        more_missed_hashtags.append(missed_hashtag)\n",
    "print \"count: \" + str(count) \n",
    "total_missed = len(missed_hashtags_list)\n",
    "print \"total known hashtags: \" + str(total_missed)"
   ]
  },
  {
   "cell_type": "markdown",
   "metadata": {},
   "source": [
    "Maternity is an actual word, which is why it isn't showing up"
   ]
  },
  {
   "cell_type": "code",
   "execution_count": 258,
   "metadata": {
    "collapsed": false
   },
   "outputs": [
    {
     "data": {
      "text/plain": [
       "True"
      ]
     },
     "execution_count": 258,
     "metadata": {},
     "output_type": "execute_result"
    }
   ],
   "source": [
    "is_actual_word('maternity')"
   ]
  },
  {
   "cell_type": "markdown",
   "metadata": {},
   "source": [
    "The remaining terms are not in the original search csv"
   ]
  },
  {
   "cell_type": "code",
   "execution_count": 268,
   "metadata": {
    "collapsed": false
   },
   "outputs": [],
   "source": [
    "count = 0\n",
    "for hashtag in more_missed_hashtags:\n",
    "    if hashtag in list(search_df['trend']):\n",
    "        count = count + 1\n",
    "    else:\n",
    "        print hashtag"
   ]
  },
  {
   "cell_type": "markdown",
   "metadata": {},
   "source": [
    "#### See if these words have search volume"
   ]
  },
  {
   "cell_type": "code",
   "execution_count": 263,
   "metadata": {
    "collapsed": true
   },
   "outputs": [],
   "source": [
    "def is_missed(trend):\n",
    "    if trend in missed_hashtags_list:\n",
    "        return True\n",
    "    return False"
   ]
  },
  {
   "cell_type": "code",
   "execution_count": 264,
   "metadata": {
    "collapsed": false
   },
   "outputs": [],
   "source": [
    "missed_terms_df = search_df[df['trend'].apply(lambda trend: is_missed(trend))]"
   ]
  },
  {
   "cell_type": "code",
   "execution_count": 267,
   "metadata": {
    "collapsed": false
   },
   "outputs": [
    {
     "data": {
      "text/html": [
       "<div>\n",
       "<table border=\"1\" class=\"dataframe\">\n",
       "  <thead>\n",
       "    <tr style=\"text-align: right;\">\n",
       "      <th></th>\n",
       "      <th>trend</th>\n",
       "      <th>total_volume</th>\n",
       "      <th>social_buzz</th>\n",
       "      <th>more_social</th>\n",
       "      <th>one_word</th>\n",
       "    </tr>\n",
       "  </thead>\n",
       "  <tbody>\n",
       "    <tr>\n",
       "      <th>6</th>\n",
       "      <td>billboardmusicawards</td>\n",
       "      <td>1260</td>\n",
       "      <td>5</td>\n",
       "      <td>False</td>\n",
       "      <td>True</td>\n",
       "    </tr>\n",
       "    <tr>\n",
       "      <th>24</th>\n",
       "      <td>mtvmovieawards</td>\n",
       "      <td>7090</td>\n",
       "      <td>1003</td>\n",
       "      <td>False</td>\n",
       "      <td>True</td>\n",
       "    </tr>\n",
       "    <tr>\n",
       "      <th>65</th>\n",
       "      <td>criticschoiceawards</td>\n",
       "      <td>230</td>\n",
       "      <td>3</td>\n",
       "      <td>False</td>\n",
       "      <td>True</td>\n",
       "    </tr>\n",
       "    <tr>\n",
       "      <th>90</th>\n",
       "      <td>cannesfilmfestival</td>\n",
       "      <td>690</td>\n",
       "      <td>5</td>\n",
       "      <td>False</td>\n",
       "      <td>True</td>\n",
       "    </tr>\n",
       "    <tr>\n",
       "      <th>96</th>\n",
       "      <td>mtvvma</td>\n",
       "      <td>5170</td>\n",
       "      <td>3</td>\n",
       "      <td>False</td>\n",
       "      <td>True</td>\n",
       "    </tr>\n",
       "    <tr>\n",
       "      <th>133</th>\n",
       "      <td>tonyawards</td>\n",
       "      <td>3850</td>\n",
       "      <td>23</td>\n",
       "      <td>False</td>\n",
       "      <td>True</td>\n",
       "    </tr>\n",
       "    <tr>\n",
       "      <th>236</th>\n",
       "      <td>academyawards</td>\n",
       "      <td>2760</td>\n",
       "      <td>4</td>\n",
       "      <td>False</td>\n",
       "      <td>True</td>\n",
       "    </tr>\n",
       "    <tr>\n",
       "      <th>248</th>\n",
       "      <td>teenchoiceawards</td>\n",
       "      <td>22320</td>\n",
       "      <td>0</td>\n",
       "      <td>False</td>\n",
       "      <td>True</td>\n",
       "    </tr>\n",
       "    <tr>\n",
       "      <th>432</th>\n",
       "      <td>peopleschoiceawards</td>\n",
       "      <td>1270</td>\n",
       "      <td>0</td>\n",
       "      <td>False</td>\n",
       "      <td>True</td>\n",
       "    </tr>\n",
       "    <tr>\n",
       "      <th>676</th>\n",
       "      <td>betawards</td>\n",
       "      <td>31550</td>\n",
       "      <td>1</td>\n",
       "      <td>False</td>\n",
       "      <td>True</td>\n",
       "    </tr>\n",
       "    <tr>\n",
       "      <th>1162</th>\n",
       "      <td>goldenglobe</td>\n",
       "      <td>3330</td>\n",
       "      <td>22</td>\n",
       "      <td>False</td>\n",
       "      <td>True</td>\n",
       "    </tr>\n",
       "    <tr>\n",
       "      <th>1664</th>\n",
       "      <td>baftas</td>\n",
       "      <td>135200</td>\n",
       "      <td>78</td>\n",
       "      <td>False</td>\n",
       "      <td>True</td>\n",
       "    </tr>\n",
       "    <tr>\n",
       "      <th>1753</th>\n",
       "      <td>goldenglobes</td>\n",
       "      <td>3890</td>\n",
       "      <td>21</td>\n",
       "      <td>False</td>\n",
       "      <td>True</td>\n",
       "    </tr>\n",
       "    <tr>\n",
       "      <th>1956</th>\n",
       "      <td>nyfw</td>\n",
       "      <td>197800</td>\n",
       "      <td>968</td>\n",
       "      <td>False</td>\n",
       "      <td>True</td>\n",
       "    </tr>\n",
       "    <tr>\n",
       "      <th>1974</th>\n",
       "      <td>peopleschoice</td>\n",
       "      <td>44400</td>\n",
       "      <td>1</td>\n",
       "      <td>False</td>\n",
       "      <td>True</td>\n",
       "    </tr>\n",
       "    <tr>\n",
       "      <th>2265</th>\n",
       "      <td>babybump</td>\n",
       "      <td>58400</td>\n",
       "      <td>324</td>\n",
       "      <td>False</td>\n",
       "      <td>True</td>\n",
       "    </tr>\n",
       "    <tr>\n",
       "      <th>2323</th>\n",
       "      <td>vmas</td>\n",
       "      <td>880500</td>\n",
       "      <td>22</td>\n",
       "      <td>False</td>\n",
       "      <td>True</td>\n",
       "    </tr>\n",
       "    <tr>\n",
       "      <th>2535</th>\n",
       "      <td>cmts</td>\n",
       "      <td>108400</td>\n",
       "      <td>0</td>\n",
       "      <td>False</td>\n",
       "      <td>True</td>\n",
       "    </tr>\n",
       "    <tr>\n",
       "      <th>2653</th>\n",
       "      <td>pcas</td>\n",
       "      <td>86400</td>\n",
       "      <td>0</td>\n",
       "      <td>False</td>\n",
       "      <td>True</td>\n",
       "    </tr>\n",
       "    <tr>\n",
       "      <th>3050</th>\n",
       "      <td>emmys</td>\n",
       "      <td>784800</td>\n",
       "      <td>82</td>\n",
       "      <td>False</td>\n",
       "      <td>True</td>\n",
       "    </tr>\n",
       "    <tr>\n",
       "      <th>3197</th>\n",
       "      <td>cmas</td>\n",
       "      <td>280000</td>\n",
       "      <td>9</td>\n",
       "      <td>False</td>\n",
       "      <td>True</td>\n",
       "    </tr>\n",
       "    <tr>\n",
       "      <th>3360</th>\n",
       "      <td>brits</td>\n",
       "      <td>276400</td>\n",
       "      <td>74</td>\n",
       "      <td>False</td>\n",
       "      <td>True</td>\n",
       "    </tr>\n",
       "    <tr>\n",
       "      <th>3469</th>\n",
       "      <td>tonys</td>\n",
       "      <td>272300</td>\n",
       "      <td>3</td>\n",
       "      <td>False</td>\n",
       "      <td>True</td>\n",
       "    </tr>\n",
       "    <tr>\n",
       "      <th>3642</th>\n",
       "      <td>bafta</td>\n",
       "      <td>581000</td>\n",
       "      <td>66</td>\n",
       "      <td>False</td>\n",
       "      <td>True</td>\n",
       "    </tr>\n",
       "    <tr>\n",
       "      <th>4032</th>\n",
       "      <td>vma</td>\n",
       "      <td>1881000</td>\n",
       "      <td>19</td>\n",
       "      <td>False</td>\n",
       "      <td>True</td>\n",
       "    </tr>\n",
       "    <tr>\n",
       "      <th>4298</th>\n",
       "      <td>grammys</td>\n",
       "      <td>2135300</td>\n",
       "      <td>87</td>\n",
       "      <td>False</td>\n",
       "      <td>True</td>\n",
       "    </tr>\n",
       "    <tr>\n",
       "      <th>4440</th>\n",
       "      <td>oscars</td>\n",
       "      <td>5067500</td>\n",
       "      <td>296</td>\n",
       "      <td>False</td>\n",
       "      <td>True</td>\n",
       "    </tr>\n",
       "    <tr>\n",
       "      <th>4470</th>\n",
       "      <td>cmt</td>\n",
       "      <td>2265000</td>\n",
       "      <td>50</td>\n",
       "      <td>False</td>\n",
       "      <td>True</td>\n",
       "    </tr>\n",
       "    <tr>\n",
       "      <th>4510</th>\n",
       "      <td>cannes</td>\n",
       "      <td>4060000</td>\n",
       "      <td>465</td>\n",
       "      <td>False</td>\n",
       "      <td>True</td>\n",
       "    </tr>\n",
       "    <tr>\n",
       "      <th>4570</th>\n",
       "      <td>cma</td>\n",
       "      <td>2311000</td>\n",
       "      <td>35</td>\n",
       "      <td>False</td>\n",
       "      <td>True</td>\n",
       "    </tr>\n",
       "    <tr>\n",
       "      <th>4696</th>\n",
       "      <td>bump</td>\n",
       "      <td>1782000</td>\n",
       "      <td>1393</td>\n",
       "      <td>False</td>\n",
       "      <td>True</td>\n",
       "    </tr>\n",
       "    <tr>\n",
       "      <th>4740</th>\n",
       "      <td>alma</td>\n",
       "      <td>2981000</td>\n",
       "      <td>141</td>\n",
       "      <td>False</td>\n",
       "      <td>True</td>\n",
       "    </tr>\n",
       "    <tr>\n",
       "      <th>4863</th>\n",
       "      <td>maternity</td>\n",
       "      <td>7134000</td>\n",
       "      <td>1599</td>\n",
       "      <td>False</td>\n",
       "      <td>True</td>\n",
       "    </tr>\n",
       "    <tr>\n",
       "      <th>5011</th>\n",
       "      <td>pregnancy</td>\n",
       "      <td>7553000</td>\n",
       "      <td>1877</td>\n",
       "      <td>False</td>\n",
       "      <td>True</td>\n",
       "    </tr>\n",
       "  </tbody>\n",
       "</table>\n",
       "</div>"
      ],
      "text/plain": [
       "                     trend  total_volume  social_buzz more_social one_word\n",
       "6     billboardmusicawards          1260            5       False     True\n",
       "24          mtvmovieawards          7090         1003       False     True\n",
       "65     criticschoiceawards           230            3       False     True\n",
       "90      cannesfilmfestival           690            5       False     True\n",
       "96                  mtvvma          5170            3       False     True\n",
       "133             tonyawards          3850           23       False     True\n",
       "236          academyawards          2760            4       False     True\n",
       "248       teenchoiceawards         22320            0       False     True\n",
       "432    peopleschoiceawards          1270            0       False     True\n",
       "676              betawards         31550            1       False     True\n",
       "1162           goldenglobe          3330           22       False     True\n",
       "1664                baftas        135200           78       False     True\n",
       "1753          goldenglobes          3890           21       False     True\n",
       "1956                  nyfw        197800          968       False     True\n",
       "1974         peopleschoice         44400            1       False     True\n",
       "2265              babybump         58400          324       False     True\n",
       "2323                  vmas        880500           22       False     True\n",
       "2535                  cmts        108400            0       False     True\n",
       "2653                  pcas         86400            0       False     True\n",
       "3050                 emmys        784800           82       False     True\n",
       "3197                  cmas        280000            9       False     True\n",
       "3360                 brits        276400           74       False     True\n",
       "3469                 tonys        272300            3       False     True\n",
       "3642                 bafta        581000           66       False     True\n",
       "4032                   vma       1881000           19       False     True\n",
       "4298               grammys       2135300           87       False     True\n",
       "4440                oscars       5067500          296       False     True\n",
       "4470                   cmt       2265000           50       False     True\n",
       "4510                cannes       4060000          465       False     True\n",
       "4570                   cma       2311000           35       False     True\n",
       "4696                  bump       1782000         1393       False     True\n",
       "4740                  alma       2981000          141       False     True\n",
       "4863             maternity       7134000         1599       False     True\n",
       "5011             pregnancy       7553000         1877       False     True"
      ]
     },
     "execution_count": 267,
     "metadata": {},
     "output_type": "execute_result"
    }
   ],
   "source": [
    "missed_terms_df"
   ]
  },
  {
   "cell_type": "markdown",
   "metadata": {},
   "source": [
    "### Next steps\n",
    "- take out urban dictionary and see how accurate it is "
   ]
  }
 ],
 "metadata": {
  "kernelspec": {
   "display_name": "Python 2",
   "language": "python",
   "name": "python2"
  },
  "language_info": {
   "codemirror_mode": {
    "name": "ipython",
    "version": 2
   },
   "file_extension": ".py",
   "mimetype": "text/x-python",
   "name": "python",
   "nbconvert_exporter": "python",
   "pygments_lexer": "ipython2",
   "version": "2.7.11"
  }
 },
 "nbformat": 4,
 "nbformat_minor": 0
}
